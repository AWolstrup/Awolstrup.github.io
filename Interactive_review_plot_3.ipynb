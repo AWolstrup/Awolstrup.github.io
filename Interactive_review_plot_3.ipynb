{
  "nbformat": 4,
  "nbformat_minor": 0,
  "metadata": {
    "colab": {
      "provenance": []
    },
    "kernelspec": {
      "name": "python3",
      "display_name": "Python 3"
    },
    "language_info": {
      "name": "python"
    },
    "widgets": {
      "application/vnd.jupyter.widget-state+json": {
        "66bafd562265464893c2b2cbae00780d": {
          "model_module": "@jupyter-widgets/controls",
          "model_name": "HBoxModel",
          "model_module_version": "1.5.0",
          "state": {
            "_dom_classes": [],
            "_model_module": "@jupyter-widgets/controls",
            "_model_module_version": "1.5.0",
            "_model_name": "HBoxModel",
            "_view_count": null,
            "_view_module": "@jupyter-widgets/controls",
            "_view_module_version": "1.5.0",
            "_view_name": "HBoxView",
            "box_style": "",
            "children": [
              "IPY_MODEL_65e30a720cf84b35b19e400812e7bdb0",
              "IPY_MODEL_b5158fc13d1f4ba5b5628ac21fb85c23"
            ],
            "layout": "IPY_MODEL_91c22735b5c34ab5bfd66c1095466c52"
          }
        },
        "65e30a720cf84b35b19e400812e7bdb0": {
          "model_module": "jupyterlab-plotly",
          "model_name": "FigureModel",
          "model_module_version": "^5.24.1",
          "state": {
            "_config": {
              "plotlyServerURL": "https://plot.ly"
            },
            "_data": [
              {
                "hovertemplate": "DOI: <br>Printing process: FDM</br>Electrical principle: Piezoresistive<extra></extra>",
                "legendgroup": "Piezoresistive",
                "legendgrouptitle": {
                  "text": "Piezoresistive"
                },
                "marker": {
                  "color": "#648fff",
                  "line": {
                    "color": "black",
                    "width": 2
                  },
                  "size": 10,
                  "symbol": "square"
                },
                "mode": "markers",
                "name": "FDM",
                "visible": true,
                "x": {
                  "dtype": "float64",
                  "shape": [
                    5
                  ]
                },
                "y": {
                  "dtype": "float64",
                  "shape": [
                    5
                  ]
                },
                "type": "scatter",
                "uid": "2ceae8e8-c8af-415d-a753-2bb2a156bdef"
              },
              {
                "hovertemplate": "DOI: <br>Printing process: FDM</br>Electrical principle: Capacitive<extra></extra>",
                "legendgroup": "Capacitive",
                "legendgrouptitle": {
                  "text": "Capacitive"
                },
                "marker": {
                  "color": "#785ef0",
                  "line": {
                    "color": "black",
                    "width": 2
                  },
                  "size": 10,
                  "symbol": "square"
                },
                "mode": "markers",
                "name": "FDM",
                "visible": true,
                "x": {
                  "dtype": "float64",
                  "shape": [
                    2
                  ]
                },
                "y": {
                  "dtype": "float64",
                  "shape": [
                    2
                  ]
                },
                "type": "scatter",
                "uid": "18277799-d90c-40f3-8d4e-1883be5bef26"
              },
              {
                "hovertemplate": "DOI: <br>Printing process: DIW</br>Electrical principle: Piezoresistive<extra></extra>",
                "legendgroup": "Piezoresistive",
                "legendgrouptitle": {
                  "text": "Piezoresistive"
                },
                "marker": {
                  "color": "#648fff",
                  "line": {
                    "color": "black",
                    "width": 2
                  },
                  "size": 10,
                  "symbol": "triangle-up"
                },
                "mode": "markers",
                "name": "DIW",
                "visible": true,
                "x": {
                  "dtype": "float64",
                  "shape": [
                    2
                  ]
                },
                "y": {
                  "dtype": "float64",
                  "shape": [
                    2
                  ]
                },
                "type": "scatter",
                "uid": "3a7ce62d-da49-47db-ac36-a1fc236bc1ba"
              },
              {
                "hovertemplate": "DOI: <br>Printing process: DIW</br>Electrical principle: Capacitive<extra></extra>",
                "legendgroup": "Capacitive",
                "legendgrouptitle": {
                  "text": "Capacitive"
                },
                "marker": {
                  "color": "#785ef0",
                  "line": {
                    "color": "black",
                    "width": 2
                  },
                  "size": 10,
                  "symbol": "triangle-up"
                },
                "mode": "markers",
                "name": "DIW",
                "visible": true,
                "x": {
                  "dtype": "float64",
                  "shape": [
                    1
                  ]
                },
                "y": {
                  "dtype": "float64",
                  "shape": [
                    1
                  ]
                },
                "type": "scatter",
                "uid": "21d65b4f-157b-4c4f-aa7b-1b38d37bf61c"
              },
              {
                "hovertemplate": "DOI: <br>Printing process: AJP</br>Electrical principle: Piezoresistive<extra></extra>",
                "legendgroup": "Piezoresistive",
                "legendgrouptitle": {
                  "text": "Piezoresistive"
                },
                "marker": {
                  "color": "#648fff",
                  "line": {
                    "color": "black",
                    "width": 2
                  },
                  "size": 10,
                  "symbol": "triangle-down"
                },
                "mode": "markers",
                "name": "AJP",
                "visible": true,
                "x": {
                  "dtype": "float64",
                  "shape": [
                    1
                  ]
                },
                "y": {
                  "dtype": "float64",
                  "shape": [
                    1
                  ]
                },
                "type": "scatter",
                "uid": "fb7fd691-0054-4059-bc02-9e2243b3b939"
              },
              {
                "hovertemplate": "DOI: <br>Printing process: AJP</br>Electrical principle: Capacitive<extra></extra>",
                "legendgroup": "Capacitive",
                "legendgrouptitle": {
                  "text": "Capacitive"
                },
                "marker": {
                  "color": "#785ef0",
                  "line": {
                    "color": "black",
                    "width": 2
                  },
                  "size": 10,
                  "symbol": "triangle-down"
                },
                "mode": "markers",
                "name": "AJP",
                "visible": true,
                "x": {
                  "dtype": "float64",
                  "shape": [
                    2
                  ]
                },
                "y": {
                  "dtype": "float64",
                  "shape": [
                    2
                  ]
                },
                "type": "scatter",
                "uid": "d98ee7d0-a776-4880-8998-eaed5cf79271"
              },
              {
                "hovertemplate": "DOI: <br>Printing process: AJP</br>Electrical principle: Transistor<extra></extra>",
                "legendgroup": "Transistor",
                "legendgrouptitle": {
                  "text": "Transistor"
                },
                "marker": {
                  "color": "#ffb000",
                  "line": {
                    "color": "black",
                    "width": 2
                  },
                  "size": 10,
                  "symbol": "triangle-down"
                },
                "mode": "markers",
                "name": "AJP",
                "visible": true,
                "x": {
                  "dtype": "float64",
                  "shape": [
                    1
                  ]
                },
                "y": {
                  "dtype": "float64",
                  "shape": [
                    1
                  ]
                },
                "type": "scatter",
                "uid": "24ed025b-a1c1-47a6-9c05-d2217c7a85bc"
              },
              {
                "hovertemplate": "DOI: <br>Printing process: DLP</br>Electrical principle: Piezoresistive (post processing)<extra></extra>",
                "legendgroup": "Piezoresistive",
                "legendgrouptitle": {
                  "text": "Piezoresistive"
                },
                "marker": {
                  "color": "#648fff",
                  "line": {
                    "color": "black",
                    "width": 2
                  },
                  "size": 10,
                  "symbol": "pentagon-open"
                },
                "mode": "markers",
                "name": "DLP",
                "visible": true,
                "x": {
                  "dtype": "float64",
                  "shape": [
                    1
                  ]
                },
                "y": {
                  "dtype": "float64",
                  "shape": [
                    1
                  ]
                },
                "type": "scatter",
                "uid": "52fcd646-2067-4aad-9cbc-e34f32f3b66e"
              }
            ],
            "_dom_classes": [],
            "_js2py_layoutDelta": null,
            "_js2py_pointsCallback": null,
            "_js2py_relayout": {},
            "_js2py_restyle": {},
            "_js2py_traceDeltas": null,
            "_js2py_update": {},
            "_last_layout_edit_id": 0,
            "_last_trace_edit_id": 0,
            "_layout": {
              "height": 700,
              "legend": {
                "entrywidth": 0.23,
                "entrywidthmode": "fraction",
                "groupclick": "toggleitem",
                "orientation": "h",
                "tracegroupgap": 150,
                "y": -0.12,
                "yanchor": "top"
              },
              "margin": {
                "autoexpand": false,
                "b": 250
              },
              "template": {
                "data": {
                  "barpolar": [
                    {
                      "marker": {
                        "line": {
                          "color": "#E5ECF6",
                          "width": 0.5
                        },
                        "pattern": {
                          "fillmode": "overlay",
                          "size": 10,
                          "solidity": 0.2
                        }
                      },
                      "type": "barpolar"
                    }
                  ],
                  "bar": [
                    {
                      "error_x": {
                        "color": "#2a3f5f"
                      },
                      "error_y": {
                        "color": "#2a3f5f"
                      },
                      "marker": {
                        "line": {
                          "color": "#E5ECF6",
                          "width": 0.5
                        },
                        "pattern": {
                          "fillmode": "overlay",
                          "size": 10,
                          "solidity": 0.2
                        }
                      },
                      "type": "bar"
                    }
                  ],
                  "carpet": [
                    {
                      "aaxis": {
                        "endlinecolor": "#2a3f5f",
                        "gridcolor": "white",
                        "linecolor": "white",
                        "minorgridcolor": "white",
                        "startlinecolor": "#2a3f5f"
                      },
                      "baxis": {
                        "endlinecolor": "#2a3f5f",
                        "gridcolor": "white",
                        "linecolor": "white",
                        "minorgridcolor": "white",
                        "startlinecolor": "#2a3f5f"
                      },
                      "type": "carpet"
                    }
                  ],
                  "choropleth": [
                    {
                      "colorbar": {
                        "outlinewidth": 0,
                        "ticks": ""
                      },
                      "type": "choropleth"
                    }
                  ],
                  "contourcarpet": [
                    {
                      "colorbar": {
                        "outlinewidth": 0,
                        "ticks": ""
                      },
                      "type": "contourcarpet"
                    }
                  ],
                  "contour": [
                    {
                      "colorbar": {
                        "outlinewidth": 0,
                        "ticks": ""
                      },
                      "colorscale": [
                        [
                          0,
                          "#0d0887"
                        ],
                        [
                          0.1111111111111111,
                          "#46039f"
                        ],
                        [
                          0.2222222222222222,
                          "#7201a8"
                        ],
                        [
                          0.3333333333333333,
                          "#9c179e"
                        ],
                        [
                          0.4444444444444444,
                          "#bd3786"
                        ],
                        [
                          0.5555555555555556,
                          "#d8576b"
                        ],
                        [
                          0.6666666666666666,
                          "#ed7953"
                        ],
                        [
                          0.7777777777777778,
                          "#fb9f3a"
                        ],
                        [
                          0.8888888888888888,
                          "#fdca26"
                        ],
                        [
                          1,
                          "#f0f921"
                        ]
                      ],
                      "type": "contour"
                    }
                  ],
                  "heatmapgl": [
                    {
                      "colorbar": {
                        "outlinewidth": 0,
                        "ticks": ""
                      },
                      "colorscale": [
                        [
                          0,
                          "#0d0887"
                        ],
                        [
                          0.1111111111111111,
                          "#46039f"
                        ],
                        [
                          0.2222222222222222,
                          "#7201a8"
                        ],
                        [
                          0.3333333333333333,
                          "#9c179e"
                        ],
                        [
                          0.4444444444444444,
                          "#bd3786"
                        ],
                        [
                          0.5555555555555556,
                          "#d8576b"
                        ],
                        [
                          0.6666666666666666,
                          "#ed7953"
                        ],
                        [
                          0.7777777777777778,
                          "#fb9f3a"
                        ],
                        [
                          0.8888888888888888,
                          "#fdca26"
                        ],
                        [
                          1,
                          "#f0f921"
                        ]
                      ],
                      "type": "heatmapgl"
                    }
                  ],
                  "heatmap": [
                    {
                      "colorbar": {
                        "outlinewidth": 0,
                        "ticks": ""
                      },
                      "colorscale": [
                        [
                          0,
                          "#0d0887"
                        ],
                        [
                          0.1111111111111111,
                          "#46039f"
                        ],
                        [
                          0.2222222222222222,
                          "#7201a8"
                        ],
                        [
                          0.3333333333333333,
                          "#9c179e"
                        ],
                        [
                          0.4444444444444444,
                          "#bd3786"
                        ],
                        [
                          0.5555555555555556,
                          "#d8576b"
                        ],
                        [
                          0.6666666666666666,
                          "#ed7953"
                        ],
                        [
                          0.7777777777777778,
                          "#fb9f3a"
                        ],
                        [
                          0.8888888888888888,
                          "#fdca26"
                        ],
                        [
                          1,
                          "#f0f921"
                        ]
                      ],
                      "type": "heatmap"
                    }
                  ],
                  "histogram2dcontour": [
                    {
                      "colorbar": {
                        "outlinewidth": 0,
                        "ticks": ""
                      },
                      "colorscale": [
                        [
                          0,
                          "#0d0887"
                        ],
                        [
                          0.1111111111111111,
                          "#46039f"
                        ],
                        [
                          0.2222222222222222,
                          "#7201a8"
                        ],
                        [
                          0.3333333333333333,
                          "#9c179e"
                        ],
                        [
                          0.4444444444444444,
                          "#bd3786"
                        ],
                        [
                          0.5555555555555556,
                          "#d8576b"
                        ],
                        [
                          0.6666666666666666,
                          "#ed7953"
                        ],
                        [
                          0.7777777777777778,
                          "#fb9f3a"
                        ],
                        [
                          0.8888888888888888,
                          "#fdca26"
                        ],
                        [
                          1,
                          "#f0f921"
                        ]
                      ],
                      "type": "histogram2dcontour"
                    }
                  ],
                  "histogram2d": [
                    {
                      "colorbar": {
                        "outlinewidth": 0,
                        "ticks": ""
                      },
                      "colorscale": [
                        [
                          0,
                          "#0d0887"
                        ],
                        [
                          0.1111111111111111,
                          "#46039f"
                        ],
                        [
                          0.2222222222222222,
                          "#7201a8"
                        ],
                        [
                          0.3333333333333333,
                          "#9c179e"
                        ],
                        [
                          0.4444444444444444,
                          "#bd3786"
                        ],
                        [
                          0.5555555555555556,
                          "#d8576b"
                        ],
                        [
                          0.6666666666666666,
                          "#ed7953"
                        ],
                        [
                          0.7777777777777778,
                          "#fb9f3a"
                        ],
                        [
                          0.8888888888888888,
                          "#fdca26"
                        ],
                        [
                          1,
                          "#f0f921"
                        ]
                      ],
                      "type": "histogram2d"
                    }
                  ],
                  "histogram": [
                    {
                      "marker": {
                        "pattern": {
                          "fillmode": "overlay",
                          "size": 10,
                          "solidity": 0.2
                        }
                      },
                      "type": "histogram"
                    }
                  ],
                  "mesh3d": [
                    {
                      "colorbar": {
                        "outlinewidth": 0,
                        "ticks": ""
                      },
                      "type": "mesh3d"
                    }
                  ],
                  "parcoords": [
                    {
                      "line": {
                        "colorbar": {
                          "outlinewidth": 0,
                          "ticks": ""
                        }
                      },
                      "type": "parcoords"
                    }
                  ],
                  "pie": [
                    {
                      "automargin": true,
                      "type": "pie"
                    }
                  ],
                  "scatter3d": [
                    {
                      "line": {
                        "colorbar": {
                          "outlinewidth": 0,
                          "ticks": ""
                        }
                      },
                      "marker": {
                        "colorbar": {
                          "outlinewidth": 0,
                          "ticks": ""
                        }
                      },
                      "type": "scatter3d"
                    }
                  ],
                  "scattercarpet": [
                    {
                      "marker": {
                        "colorbar": {
                          "outlinewidth": 0,
                          "ticks": ""
                        }
                      },
                      "type": "scattercarpet"
                    }
                  ],
                  "scattergeo": [
                    {
                      "marker": {
                        "colorbar": {
                          "outlinewidth": 0,
                          "ticks": ""
                        }
                      },
                      "type": "scattergeo"
                    }
                  ],
                  "scattergl": [
                    {
                      "marker": {
                        "colorbar": {
                          "outlinewidth": 0,
                          "ticks": ""
                        }
                      },
                      "type": "scattergl"
                    }
                  ],
                  "scattermapbox": [
                    {
                      "marker": {
                        "colorbar": {
                          "outlinewidth": 0,
                          "ticks": ""
                        }
                      },
                      "type": "scattermapbox"
                    }
                  ],
                  "scatterpolargl": [
                    {
                      "marker": {
                        "colorbar": {
                          "outlinewidth": 0,
                          "ticks": ""
                        }
                      },
                      "type": "scatterpolargl"
                    }
                  ],
                  "scatterpolar": [
                    {
                      "marker": {
                        "colorbar": {
                          "outlinewidth": 0,
                          "ticks": ""
                        }
                      },
                      "type": "scatterpolar"
                    }
                  ],
                  "scatter": [
                    {
                      "fillpattern": {
                        "fillmode": "overlay",
                        "size": 10,
                        "solidity": 0.2
                      },
                      "type": "scatter"
                    }
                  ],
                  "scatterternary": [
                    {
                      "marker": {
                        "colorbar": {
                          "outlinewidth": 0,
                          "ticks": ""
                        }
                      },
                      "type": "scatterternary"
                    }
                  ],
                  "surface": [
                    {
                      "colorbar": {
                        "outlinewidth": 0,
                        "ticks": ""
                      },
                      "colorscale": [
                        [
                          0,
                          "#0d0887"
                        ],
                        [
                          0.1111111111111111,
                          "#46039f"
                        ],
                        [
                          0.2222222222222222,
                          "#7201a8"
                        ],
                        [
                          0.3333333333333333,
                          "#9c179e"
                        ],
                        [
                          0.4444444444444444,
                          "#bd3786"
                        ],
                        [
                          0.5555555555555556,
                          "#d8576b"
                        ],
                        [
                          0.6666666666666666,
                          "#ed7953"
                        ],
                        [
                          0.7777777777777778,
                          "#fb9f3a"
                        ],
                        [
                          0.8888888888888888,
                          "#fdca26"
                        ],
                        [
                          1,
                          "#f0f921"
                        ]
                      ],
                      "type": "surface"
                    }
                  ],
                  "table": [
                    {
                      "cells": {
                        "fill": {
                          "color": "#EBF0F8"
                        },
                        "line": {
                          "color": "white"
                        }
                      },
                      "header": {
                        "fill": {
                          "color": "#C8D4E3"
                        },
                        "line": {
                          "color": "white"
                        }
                      },
                      "type": "table"
                    }
                  ]
                },
                "layout": {
                  "annotationdefaults": {
                    "arrowcolor": "#2a3f5f",
                    "arrowhead": 0,
                    "arrowwidth": 1
                  },
                  "autotypenumbers": "strict",
                  "coloraxis": {
                    "colorbar": {
                      "outlinewidth": 0,
                      "ticks": ""
                    }
                  },
                  "colorscale": {
                    "diverging": [
                      [
                        0,
                        "#8e0152"
                      ],
                      [
                        0.1,
                        "#c51b7d"
                      ],
                      [
                        0.2,
                        "#de77ae"
                      ],
                      [
                        0.3,
                        "#f1b6da"
                      ],
                      [
                        0.4,
                        "#fde0ef"
                      ],
                      [
                        0.5,
                        "#f7f7f7"
                      ],
                      [
                        0.6,
                        "#e6f5d0"
                      ],
                      [
                        0.7,
                        "#b8e186"
                      ],
                      [
                        0.8,
                        "#7fbc41"
                      ],
                      [
                        0.9,
                        "#4d9221"
                      ],
                      [
                        1,
                        "#276419"
                      ]
                    ],
                    "sequential": [
                      [
                        0,
                        "#0d0887"
                      ],
                      [
                        0.1111111111111111,
                        "#46039f"
                      ],
                      [
                        0.2222222222222222,
                        "#7201a8"
                      ],
                      [
                        0.3333333333333333,
                        "#9c179e"
                      ],
                      [
                        0.4444444444444444,
                        "#bd3786"
                      ],
                      [
                        0.5555555555555556,
                        "#d8576b"
                      ],
                      [
                        0.6666666666666666,
                        "#ed7953"
                      ],
                      [
                        0.7777777777777778,
                        "#fb9f3a"
                      ],
                      [
                        0.8888888888888888,
                        "#fdca26"
                      ],
                      [
                        1,
                        "#f0f921"
                      ]
                    ],
                    "sequentialminus": [
                      [
                        0,
                        "#0d0887"
                      ],
                      [
                        0.1111111111111111,
                        "#46039f"
                      ],
                      [
                        0.2222222222222222,
                        "#7201a8"
                      ],
                      [
                        0.3333333333333333,
                        "#9c179e"
                      ],
                      [
                        0.4444444444444444,
                        "#bd3786"
                      ],
                      [
                        0.5555555555555556,
                        "#d8576b"
                      ],
                      [
                        0.6666666666666666,
                        "#ed7953"
                      ],
                      [
                        0.7777777777777778,
                        "#fb9f3a"
                      ],
                      [
                        0.8888888888888888,
                        "#fdca26"
                      ],
                      [
                        1,
                        "#f0f921"
                      ]
                    ]
                  },
                  "colorway": [
                    "#636efa",
                    "#EF553B",
                    "#00cc96",
                    "#ab63fa",
                    "#FFA15A",
                    "#19d3f3",
                    "#FF6692",
                    "#B6E880",
                    "#FF97FF",
                    "#FECB52"
                  ],
                  "font": {
                    "color": "#2a3f5f"
                  },
                  "geo": {
                    "bgcolor": "white",
                    "lakecolor": "white",
                    "landcolor": "#E5ECF6",
                    "showlakes": true,
                    "showland": true,
                    "subunitcolor": "white"
                  },
                  "hoverlabel": {
                    "align": "left"
                  },
                  "hovermode": "closest",
                  "mapbox": {
                    "style": "light"
                  },
                  "paper_bgcolor": "white",
                  "plot_bgcolor": "#E5ECF6",
                  "polar": {
                    "angularaxis": {
                      "gridcolor": "white",
                      "linecolor": "white",
                      "ticks": ""
                    },
                    "bgcolor": "#E5ECF6",
                    "radialaxis": {
                      "gridcolor": "white",
                      "linecolor": "white",
                      "ticks": ""
                    }
                  },
                  "scene": {
                    "xaxis": {
                      "backgroundcolor": "#E5ECF6",
                      "gridcolor": "white",
                      "gridwidth": 2,
                      "linecolor": "white",
                      "showbackground": true,
                      "ticks": "",
                      "zerolinecolor": "white"
                    },
                    "yaxis": {
                      "backgroundcolor": "#E5ECF6",
                      "gridcolor": "white",
                      "gridwidth": 2,
                      "linecolor": "white",
                      "showbackground": true,
                      "ticks": "",
                      "zerolinecolor": "white"
                    },
                    "zaxis": {
                      "backgroundcolor": "#E5ECF6",
                      "gridcolor": "white",
                      "gridwidth": 2,
                      "linecolor": "white",
                      "showbackground": true,
                      "ticks": "",
                      "zerolinecolor": "white"
                    }
                  },
                  "shapedefaults": {
                    "line": {
                      "color": "#2a3f5f"
                    }
                  },
                  "ternary": {
                    "aaxis": {
                      "gridcolor": "white",
                      "linecolor": "white",
                      "ticks": ""
                    },
                    "baxis": {
                      "gridcolor": "white",
                      "linecolor": "white",
                      "ticks": ""
                    },
                    "bgcolor": "#E5ECF6",
                    "caxis": {
                      "gridcolor": "white",
                      "linecolor": "white",
                      "ticks": ""
                    }
                  },
                  "title": {
                    "x": 0.05
                  },
                  "xaxis": {
                    "automargin": true,
                    "gridcolor": "white",
                    "linecolor": "white",
                    "ticks": "",
                    "title": {
                      "standoff": 15
                    },
                    "zerolinecolor": "white",
                    "zerolinewidth": 2
                  },
                  "yaxis": {
                    "automargin": true,
                    "gridcolor": "white",
                    "linecolor": "white",
                    "ticks": "",
                    "title": {
                      "standoff": 15
                    },
                    "zerolinecolor": "white",
                    "zerolinewidth": 2
                  }
                }
              },
              "title": {
                "text": "Printing process, Electrical principle and Direct printing"
              },
              "width": 700,
              "xaxis": {
                "title": {
                  "text": "Force [N]"
                },
                "type": "log"
              },
              "yaxis": {
                "title": {
                  "text": "Sensitivity [N<sup>-1</sup>]"
                },
                "type": "log"
              }
            },
            "_model_module": "jupyterlab-plotly",
            "_model_module_version": "^5.24.1",
            "_model_name": "FigureModel",
            "_py2js_addTraces": {},
            "_py2js_animate": {},
            "_py2js_deleteTraces": {},
            "_py2js_moveTraces": {},
            "_py2js_relayout": {},
            "_py2js_removeLayoutProps": {},
            "_py2js_removeTraceProps": {},
            "_py2js_restyle": {},
            "_py2js_update": {},
            "_view_count": 1,
            "_view_module": "jupyterlab-plotly",
            "_view_module_version": "^5.24.1",
            "_view_name": "FigureView"
          }
        },
        "b5158fc13d1f4ba5b5628ac21fb85c23": {
          "model_module": "jupyterlab-plotly",
          "model_name": "FigureModel",
          "model_module_version": "^5.24.1",
          "state": {
            "_config": {
              "plotlyServerURL": "https://plot.ly"
            },
            "_data": [
              {
                "hovertemplate": "DOI: <br>Sensing basis: Surface</br>Material: Carbon<extra></extra>",
                "legendgroup": "Carbon",
                "legendgrouptitle": {
                  "text": "Carbon"
                },
                "marker": {
                  "color": "#648fff",
                  "line": {
                    "color": "black",
                    "width": 2
                  },
                  "size": 10,
                  "symbol": "circle"
                },
                "mode": "markers",
                "name": "Surface",
                "visible": true,
                "x": {
                  "dtype": "float64",
                  "shape": [
                    2
                  ]
                },
                "y": {
                  "dtype": "float64",
                  "shape": [
                    2
                  ]
                },
                "type": "scatter",
                "uid": "51cd8f1c-3de1-469c-8ccc-2c182149ab64"
              },
              {
                "hovertemplate": "DOI: <br>Sensing basis: Material</br>Material: Carbon<extra></extra>",
                "legendgroup": "Carbon",
                "legendgrouptitle": {
                  "text": "Carbon"
                },
                "marker": {
                  "color": "#648fff",
                  "line": {
                    "color": "black",
                    "width": 2
                  },
                  "size": 10,
                  "symbol": "square"
                },
                "mode": "markers",
                "name": "Material",
                "visible": true,
                "x": {
                  "dtype": "float64",
                  "shape": [
                    3
                  ]
                },
                "y": {
                  "dtype": "float64",
                  "shape": [
                    3
                  ]
                },
                "type": "scatter",
                "uid": "63d3515c-a968-429c-bd21-250996158ced"
              },
              {
                "hovertemplate": "DOI: <br>Sensing basis: Material</br>Material: Metal<extra></extra>",
                "legendgroup": "Metal",
                "legendgrouptitle": {
                  "text": "Metal"
                },
                "marker": {
                  "color": "#785ef0",
                  "line": {
                    "color": "black",
                    "width": 2
                  },
                  "size": 10,
                  "symbol": "square"
                },
                "mode": "markers",
                "name": "Material",
                "visible": true,
                "x": {
                  "dtype": "float64",
                  "shape": [
                    1
                  ]
                },
                "y": {
                  "dtype": "float64",
                  "shape": [
                    1
                  ]
                },
                "type": "scatter",
                "uid": "543a517d-7c7e-409a-a7da-5aaec079c31b"
              },
              {
                "hovertemplate": "DOI: <br>Sensing basis: Surface</br>Material: Carbon (Custom)<extra></extra>",
                "legendgroup": "Carbon",
                "legendgrouptitle": {
                  "text": "Carbon"
                },
                "marker": {
                  "color": "#648fff",
                  "line": {
                    "color": "black",
                    "width": 2
                  },
                  "size": 10,
                  "symbol": "circle-open"
                },
                "mode": "markers",
                "name": "Surface",
                "visible": true,
                "x": {
                  "dtype": "float64",
                  "shape": [
                    1
                  ]
                },
                "y": {
                  "dtype": "float64",
                  "shape": [
                    1
                  ]
                },
                "type": "scatter",
                "uid": "5dbe7363-3579-44d4-85af-18c65444d1e3"
              },
              {
                "hovertemplate": "DOI: <br>Sensing basis: Material</br>Material: Carbon (Custom)<extra></extra>",
                "legendgroup": "Carbon",
                "legendgrouptitle": {
                  "text": "Carbon"
                },
                "marker": {
                  "color": "#648fff",
                  "line": {
                    "color": "black",
                    "width": 2
                  },
                  "size": 10,
                  "symbol": "square-open"
                },
                "mode": "markers",
                "name": "Material",
                "visible": true,
                "x": {
                  "dtype": "float64",
                  "shape": [
                    1
                  ]
                },
                "y": {
                  "dtype": "float64",
                  "shape": [
                    1
                  ]
                },
                "type": "scatter",
                "uid": "43bb16a8-e9b9-4f17-bc07-d905e68ddb82"
              },
              {
                "hovertemplate": "DOI: <br>Sensing basis: Porous</br>Material: Carbon (Custom)<extra></extra>",
                "legendgroup": "Carbon",
                "legendgrouptitle": {
                  "text": "Carbon"
                },
                "marker": {
                  "color": "#648fff",
                  "line": {
                    "color": "black",
                    "width": 2
                  },
                  "size": 10,
                  "symbol": "triangle-down-open"
                },
                "mode": "markers",
                "name": "Porous",
                "visible": true,
                "x": {
                  "dtype": "float64",
                  "shape": [
                    1
                  ]
                },
                "y": {
                  "dtype": "float64",
                  "shape": [
                    1
                  ]
                },
                "type": "scatter",
                "uid": "62da2f3b-6054-4984-af51-0967c1e94285"
              },
              {
                "hovertemplate": "DOI: <br>Sensing basis: Displacement</br>Material: Carbon<extra></extra>",
                "legendgroup": "Carbon",
                "legendgrouptitle": {
                  "text": "Carbon"
                },
                "marker": {
                  "color": "#648fff",
                  "line": {
                    "color": "black",
                    "width": 2
                  },
                  "size": 10,
                  "symbol": "pentagon"
                },
                "mode": "markers",
                "name": "Displacement",
                "visible": true,
                "x": {
                  "dtype": "float64",
                  "shape": [
                    1
                  ]
                },
                "y": {
                  "dtype": "float64",
                  "shape": [
                    1
                  ]
                },
                "type": "scatter",
                "uid": "6babba20-e4c7-4d8d-a17c-0cedbb3cd2f8"
              },
              {
                "hovertemplate": "DOI: <br>Sensing basis: Displacement</br>Material: Metal<extra></extra>",
                "legendgroup": "Metal",
                "legendgrouptitle": {
                  "text": "Metal"
                },
                "marker": {
                  "color": "#785ef0",
                  "line": {
                    "color": "black",
                    "width": 2
                  },
                  "size": 10,
                  "symbol": "pentagon"
                },
                "mode": "markers",
                "name": "Displacement",
                "visible": true,
                "x": {
                  "dtype": "float64",
                  "shape": [
                    2
                  ]
                },
                "y": {
                  "dtype": "float64",
                  "shape": [
                    2
                  ]
                },
                "type": "scatter",
                "uid": "412e2f64-c0f3-4427-85da-0a821ea19499"
              },
              {
                "hovertemplate": "DOI: <br>Sensing basis: Displacement</br>Material: Metal (Custom)<extra></extra>",
                "legendgroup": "Metal",
                "legendgrouptitle": {
                  "text": "Metal"
                },
                "marker": {
                  "color": "#785ef0",
                  "line": {
                    "color": "black",
                    "width": 2
                  },
                  "size": 10,
                  "symbol": "pentagon-open"
                },
                "mode": "markers",
                "name": "Displacement",
                "visible": true,
                "x": {
                  "dtype": "float64",
                  "shape": [
                    1
                  ]
                },
                "y": {
                  "dtype": "float64",
                  "shape": [
                    1
                  ]
                },
                "type": "scatter",
                "uid": "c2ff826e-652e-496e-9604-b0b1b8f2361d"
              },
              {
                "hovertemplate": "DOI: <br>Sensing basis: Displacement</br>Material: Other (Custom)<extra></extra>",
                "legendgroup": "Other",
                "legendgrouptitle": {
                  "text": "Other"
                },
                "marker": {
                  "color": "#ffb000",
                  "line": {
                    "color": "black",
                    "width": 2
                  },
                  "size": 10,
                  "symbol": "pentagon-open"
                },
                "mode": "markers",
                "name": "Displacement",
                "visible": true,
                "x": {
                  "dtype": "float64",
                  "shape": [
                    1
                  ]
                },
                "y": {
                  "dtype": "float64",
                  "shape": [
                    1
                  ]
                },
                "type": "scatter",
                "uid": "35c91ca1-5153-408d-845c-68a3e14d94c9"
              },
              {
                "hovertemplate": "DOI: <br>Sensing basis: Other</br>Material: Other (Custom)<extra></extra>",
                "legendgroup": "Other",
                "legendgrouptitle": {
                  "text": "Other"
                },
                "marker": {
                  "color": "#ffb000",
                  "line": {
                    "color": "black",
                    "width": 2
                  },
                  "size": 10,
                  "symbol": "cross-open"
                },
                "mode": "markers",
                "name": "Other",
                "visible": true,
                "x": {
                  "dtype": "float64",
                  "shape": [
                    1
                  ]
                },
                "y": {
                  "dtype": "float64",
                  "shape": [
                    1
                  ]
                },
                "type": "scatter",
                "uid": "b2c59ae4-3598-4b1e-886c-29b873a3ba99"
              }
            ],
            "_dom_classes": [],
            "_js2py_layoutDelta": null,
            "_js2py_pointsCallback": {},
            "_js2py_relayout": {},
            "_js2py_restyle": {},
            "_js2py_traceDeltas": null,
            "_js2py_update": {},
            "_last_layout_edit_id": 0,
            "_last_trace_edit_id": 0,
            "_layout": {
              "height": 700,
              "legend": {
                "entrywidth": 0.23,
                "entrywidthmode": "fraction",
                "groupclick": "toggleitem",
                "orientation": "h",
                "tracegroupgap": 150,
                "y": -0.12,
                "yanchor": "top"
              },
              "margin": {
                "autoexpand": false,
                "b": 250
              },
              "template": {
                "data": {
                  "barpolar": [
                    {
                      "marker": {
                        "line": {
                          "color": "#E5ECF6",
                          "width": 0.5
                        },
                        "pattern": {
                          "fillmode": "overlay",
                          "size": 10,
                          "solidity": 0.2
                        }
                      },
                      "type": "barpolar"
                    }
                  ],
                  "bar": [
                    {
                      "error_x": {
                        "color": "#2a3f5f"
                      },
                      "error_y": {
                        "color": "#2a3f5f"
                      },
                      "marker": {
                        "line": {
                          "color": "#E5ECF6",
                          "width": 0.5
                        },
                        "pattern": {
                          "fillmode": "overlay",
                          "size": 10,
                          "solidity": 0.2
                        }
                      },
                      "type": "bar"
                    }
                  ],
                  "carpet": [
                    {
                      "aaxis": {
                        "endlinecolor": "#2a3f5f",
                        "gridcolor": "white",
                        "linecolor": "white",
                        "minorgridcolor": "white",
                        "startlinecolor": "#2a3f5f"
                      },
                      "baxis": {
                        "endlinecolor": "#2a3f5f",
                        "gridcolor": "white",
                        "linecolor": "white",
                        "minorgridcolor": "white",
                        "startlinecolor": "#2a3f5f"
                      },
                      "type": "carpet"
                    }
                  ],
                  "choropleth": [
                    {
                      "colorbar": {
                        "outlinewidth": 0,
                        "ticks": ""
                      },
                      "type": "choropleth"
                    }
                  ],
                  "contourcarpet": [
                    {
                      "colorbar": {
                        "outlinewidth": 0,
                        "ticks": ""
                      },
                      "type": "contourcarpet"
                    }
                  ],
                  "contour": [
                    {
                      "colorbar": {
                        "outlinewidth": 0,
                        "ticks": ""
                      },
                      "colorscale": [
                        [
                          0,
                          "#0d0887"
                        ],
                        [
                          0.1111111111111111,
                          "#46039f"
                        ],
                        [
                          0.2222222222222222,
                          "#7201a8"
                        ],
                        [
                          0.3333333333333333,
                          "#9c179e"
                        ],
                        [
                          0.4444444444444444,
                          "#bd3786"
                        ],
                        [
                          0.5555555555555556,
                          "#d8576b"
                        ],
                        [
                          0.6666666666666666,
                          "#ed7953"
                        ],
                        [
                          0.7777777777777778,
                          "#fb9f3a"
                        ],
                        [
                          0.8888888888888888,
                          "#fdca26"
                        ],
                        [
                          1,
                          "#f0f921"
                        ]
                      ],
                      "type": "contour"
                    }
                  ],
                  "heatmapgl": [
                    {
                      "colorbar": {
                        "outlinewidth": 0,
                        "ticks": ""
                      },
                      "colorscale": [
                        [
                          0,
                          "#0d0887"
                        ],
                        [
                          0.1111111111111111,
                          "#46039f"
                        ],
                        [
                          0.2222222222222222,
                          "#7201a8"
                        ],
                        [
                          0.3333333333333333,
                          "#9c179e"
                        ],
                        [
                          0.4444444444444444,
                          "#bd3786"
                        ],
                        [
                          0.5555555555555556,
                          "#d8576b"
                        ],
                        [
                          0.6666666666666666,
                          "#ed7953"
                        ],
                        [
                          0.7777777777777778,
                          "#fb9f3a"
                        ],
                        [
                          0.8888888888888888,
                          "#fdca26"
                        ],
                        [
                          1,
                          "#f0f921"
                        ]
                      ],
                      "type": "heatmapgl"
                    }
                  ],
                  "heatmap": [
                    {
                      "colorbar": {
                        "outlinewidth": 0,
                        "ticks": ""
                      },
                      "colorscale": [
                        [
                          0,
                          "#0d0887"
                        ],
                        [
                          0.1111111111111111,
                          "#46039f"
                        ],
                        [
                          0.2222222222222222,
                          "#7201a8"
                        ],
                        [
                          0.3333333333333333,
                          "#9c179e"
                        ],
                        [
                          0.4444444444444444,
                          "#bd3786"
                        ],
                        [
                          0.5555555555555556,
                          "#d8576b"
                        ],
                        [
                          0.6666666666666666,
                          "#ed7953"
                        ],
                        [
                          0.7777777777777778,
                          "#fb9f3a"
                        ],
                        [
                          0.8888888888888888,
                          "#fdca26"
                        ],
                        [
                          1,
                          "#f0f921"
                        ]
                      ],
                      "type": "heatmap"
                    }
                  ],
                  "histogram2dcontour": [
                    {
                      "colorbar": {
                        "outlinewidth": 0,
                        "ticks": ""
                      },
                      "colorscale": [
                        [
                          0,
                          "#0d0887"
                        ],
                        [
                          0.1111111111111111,
                          "#46039f"
                        ],
                        [
                          0.2222222222222222,
                          "#7201a8"
                        ],
                        [
                          0.3333333333333333,
                          "#9c179e"
                        ],
                        [
                          0.4444444444444444,
                          "#bd3786"
                        ],
                        [
                          0.5555555555555556,
                          "#d8576b"
                        ],
                        [
                          0.6666666666666666,
                          "#ed7953"
                        ],
                        [
                          0.7777777777777778,
                          "#fb9f3a"
                        ],
                        [
                          0.8888888888888888,
                          "#fdca26"
                        ],
                        [
                          1,
                          "#f0f921"
                        ]
                      ],
                      "type": "histogram2dcontour"
                    }
                  ],
                  "histogram2d": [
                    {
                      "colorbar": {
                        "outlinewidth": 0,
                        "ticks": ""
                      },
                      "colorscale": [
                        [
                          0,
                          "#0d0887"
                        ],
                        [
                          0.1111111111111111,
                          "#46039f"
                        ],
                        [
                          0.2222222222222222,
                          "#7201a8"
                        ],
                        [
                          0.3333333333333333,
                          "#9c179e"
                        ],
                        [
                          0.4444444444444444,
                          "#bd3786"
                        ],
                        [
                          0.5555555555555556,
                          "#d8576b"
                        ],
                        [
                          0.6666666666666666,
                          "#ed7953"
                        ],
                        [
                          0.7777777777777778,
                          "#fb9f3a"
                        ],
                        [
                          0.8888888888888888,
                          "#fdca26"
                        ],
                        [
                          1,
                          "#f0f921"
                        ]
                      ],
                      "type": "histogram2d"
                    }
                  ],
                  "histogram": [
                    {
                      "marker": {
                        "pattern": {
                          "fillmode": "overlay",
                          "size": 10,
                          "solidity": 0.2
                        }
                      },
                      "type": "histogram"
                    }
                  ],
                  "mesh3d": [
                    {
                      "colorbar": {
                        "outlinewidth": 0,
                        "ticks": ""
                      },
                      "type": "mesh3d"
                    }
                  ],
                  "parcoords": [
                    {
                      "line": {
                        "colorbar": {
                          "outlinewidth": 0,
                          "ticks": ""
                        }
                      },
                      "type": "parcoords"
                    }
                  ],
                  "pie": [
                    {
                      "automargin": true,
                      "type": "pie"
                    }
                  ],
                  "scatter3d": [
                    {
                      "line": {
                        "colorbar": {
                          "outlinewidth": 0,
                          "ticks": ""
                        }
                      },
                      "marker": {
                        "colorbar": {
                          "outlinewidth": 0,
                          "ticks": ""
                        }
                      },
                      "type": "scatter3d"
                    }
                  ],
                  "scattercarpet": [
                    {
                      "marker": {
                        "colorbar": {
                          "outlinewidth": 0,
                          "ticks": ""
                        }
                      },
                      "type": "scattercarpet"
                    }
                  ],
                  "scattergeo": [
                    {
                      "marker": {
                        "colorbar": {
                          "outlinewidth": 0,
                          "ticks": ""
                        }
                      },
                      "type": "scattergeo"
                    }
                  ],
                  "scattergl": [
                    {
                      "marker": {
                        "colorbar": {
                          "outlinewidth": 0,
                          "ticks": ""
                        }
                      },
                      "type": "scattergl"
                    }
                  ],
                  "scattermapbox": [
                    {
                      "marker": {
                        "colorbar": {
                          "outlinewidth": 0,
                          "ticks": ""
                        }
                      },
                      "type": "scattermapbox"
                    }
                  ],
                  "scatterpolargl": [
                    {
                      "marker": {
                        "colorbar": {
                          "outlinewidth": 0,
                          "ticks": ""
                        }
                      },
                      "type": "scatterpolargl"
                    }
                  ],
                  "scatterpolar": [
                    {
                      "marker": {
                        "colorbar": {
                          "outlinewidth": 0,
                          "ticks": ""
                        }
                      },
                      "type": "scatterpolar"
                    }
                  ],
                  "scatter": [
                    {
                      "fillpattern": {
                        "fillmode": "overlay",
                        "size": 10,
                        "solidity": 0.2
                      },
                      "type": "scatter"
                    }
                  ],
                  "scatterternary": [
                    {
                      "marker": {
                        "colorbar": {
                          "outlinewidth": 0,
                          "ticks": ""
                        }
                      },
                      "type": "scatterternary"
                    }
                  ],
                  "surface": [
                    {
                      "colorbar": {
                        "outlinewidth": 0,
                        "ticks": ""
                      },
                      "colorscale": [
                        [
                          0,
                          "#0d0887"
                        ],
                        [
                          0.1111111111111111,
                          "#46039f"
                        ],
                        [
                          0.2222222222222222,
                          "#7201a8"
                        ],
                        [
                          0.3333333333333333,
                          "#9c179e"
                        ],
                        [
                          0.4444444444444444,
                          "#bd3786"
                        ],
                        [
                          0.5555555555555556,
                          "#d8576b"
                        ],
                        [
                          0.6666666666666666,
                          "#ed7953"
                        ],
                        [
                          0.7777777777777778,
                          "#fb9f3a"
                        ],
                        [
                          0.8888888888888888,
                          "#fdca26"
                        ],
                        [
                          1,
                          "#f0f921"
                        ]
                      ],
                      "type": "surface"
                    }
                  ],
                  "table": [
                    {
                      "cells": {
                        "fill": {
                          "color": "#EBF0F8"
                        },
                        "line": {
                          "color": "white"
                        }
                      },
                      "header": {
                        "fill": {
                          "color": "#C8D4E3"
                        },
                        "line": {
                          "color": "white"
                        }
                      },
                      "type": "table"
                    }
                  ]
                },
                "layout": {
                  "annotationdefaults": {
                    "arrowcolor": "#2a3f5f",
                    "arrowhead": 0,
                    "arrowwidth": 1
                  },
                  "autotypenumbers": "strict",
                  "coloraxis": {
                    "colorbar": {
                      "outlinewidth": 0,
                      "ticks": ""
                    }
                  },
                  "colorscale": {
                    "diverging": [
                      [
                        0,
                        "#8e0152"
                      ],
                      [
                        0.1,
                        "#c51b7d"
                      ],
                      [
                        0.2,
                        "#de77ae"
                      ],
                      [
                        0.3,
                        "#f1b6da"
                      ],
                      [
                        0.4,
                        "#fde0ef"
                      ],
                      [
                        0.5,
                        "#f7f7f7"
                      ],
                      [
                        0.6,
                        "#e6f5d0"
                      ],
                      [
                        0.7,
                        "#b8e186"
                      ],
                      [
                        0.8,
                        "#7fbc41"
                      ],
                      [
                        0.9,
                        "#4d9221"
                      ],
                      [
                        1,
                        "#276419"
                      ]
                    ],
                    "sequential": [
                      [
                        0,
                        "#0d0887"
                      ],
                      [
                        0.1111111111111111,
                        "#46039f"
                      ],
                      [
                        0.2222222222222222,
                        "#7201a8"
                      ],
                      [
                        0.3333333333333333,
                        "#9c179e"
                      ],
                      [
                        0.4444444444444444,
                        "#bd3786"
                      ],
                      [
                        0.5555555555555556,
                        "#d8576b"
                      ],
                      [
                        0.6666666666666666,
                        "#ed7953"
                      ],
                      [
                        0.7777777777777778,
                        "#fb9f3a"
                      ],
                      [
                        0.8888888888888888,
                        "#fdca26"
                      ],
                      [
                        1,
                        "#f0f921"
                      ]
                    ],
                    "sequentialminus": [
                      [
                        0,
                        "#0d0887"
                      ],
                      [
                        0.1111111111111111,
                        "#46039f"
                      ],
                      [
                        0.2222222222222222,
                        "#7201a8"
                      ],
                      [
                        0.3333333333333333,
                        "#9c179e"
                      ],
                      [
                        0.4444444444444444,
                        "#bd3786"
                      ],
                      [
                        0.5555555555555556,
                        "#d8576b"
                      ],
                      [
                        0.6666666666666666,
                        "#ed7953"
                      ],
                      [
                        0.7777777777777778,
                        "#fb9f3a"
                      ],
                      [
                        0.8888888888888888,
                        "#fdca26"
                      ],
                      [
                        1,
                        "#f0f921"
                      ]
                    ]
                  },
                  "colorway": [
                    "#636efa",
                    "#EF553B",
                    "#00cc96",
                    "#ab63fa",
                    "#FFA15A",
                    "#19d3f3",
                    "#FF6692",
                    "#B6E880",
                    "#FF97FF",
                    "#FECB52"
                  ],
                  "font": {
                    "color": "#2a3f5f"
                  },
                  "geo": {
                    "bgcolor": "white",
                    "lakecolor": "white",
                    "landcolor": "#E5ECF6",
                    "showlakes": true,
                    "showland": true,
                    "subunitcolor": "white"
                  },
                  "hoverlabel": {
                    "align": "left"
                  },
                  "hovermode": "closest",
                  "mapbox": {
                    "style": "light"
                  },
                  "paper_bgcolor": "white",
                  "plot_bgcolor": "#E5ECF6",
                  "polar": {
                    "angularaxis": {
                      "gridcolor": "white",
                      "linecolor": "white",
                      "ticks": ""
                    },
                    "bgcolor": "#E5ECF6",
                    "radialaxis": {
                      "gridcolor": "white",
                      "linecolor": "white",
                      "ticks": ""
                    }
                  },
                  "scene": {
                    "xaxis": {
                      "backgroundcolor": "#E5ECF6",
                      "gridcolor": "white",
                      "gridwidth": 2,
                      "linecolor": "white",
                      "showbackground": true,
                      "ticks": "",
                      "zerolinecolor": "white"
                    },
                    "yaxis": {
                      "backgroundcolor": "#E5ECF6",
                      "gridcolor": "white",
                      "gridwidth": 2,
                      "linecolor": "white",
                      "showbackground": true,
                      "ticks": "",
                      "zerolinecolor": "white"
                    },
                    "zaxis": {
                      "backgroundcolor": "#E5ECF6",
                      "gridcolor": "white",
                      "gridwidth": 2,
                      "linecolor": "white",
                      "showbackground": true,
                      "ticks": "",
                      "zerolinecolor": "white"
                    }
                  },
                  "shapedefaults": {
                    "line": {
                      "color": "#2a3f5f"
                    }
                  },
                  "ternary": {
                    "aaxis": {
                      "gridcolor": "white",
                      "linecolor": "white",
                      "ticks": ""
                    },
                    "baxis": {
                      "gridcolor": "white",
                      "linecolor": "white",
                      "ticks": ""
                    },
                    "bgcolor": "#E5ECF6",
                    "caxis": {
                      "gridcolor": "white",
                      "linecolor": "white",
                      "ticks": ""
                    }
                  },
                  "title": {
                    "x": 0.05
                  },
                  "xaxis": {
                    "automargin": true,
                    "gridcolor": "white",
                    "linecolor": "white",
                    "ticks": "",
                    "title": {
                      "standoff": 15
                    },
                    "zerolinecolor": "white",
                    "zerolinewidth": 2
                  },
                  "yaxis": {
                    "automargin": true,
                    "gridcolor": "white",
                    "linecolor": "white",
                    "ticks": "",
                    "title": {
                      "standoff": 15
                    },
                    "zerolinecolor": "white",
                    "zerolinewidth": 2
                  }
                }
              },
              "title": {
                "text": "Conductive Material, Sensing Basis and Custom material"
              },
              "width": 700,
              "xaxis": {
                "title": {
                  "text": "Force [N]"
                },
                "type": "log"
              },
              "yaxis": {
                "title": {
                  "text": "Sensitivity [N<sup>-1</sup>]"
                },
                "type": "log"
              }
            },
            "_model_module": "jupyterlab-plotly",
            "_model_module_version": "^5.24.1",
            "_model_name": "FigureModel",
            "_py2js_addTraces": {},
            "_py2js_animate": {},
            "_py2js_deleteTraces": {},
            "_py2js_moveTraces": {},
            "_py2js_relayout": {},
            "_py2js_removeLayoutProps": {},
            "_py2js_removeTraceProps": {},
            "_py2js_restyle": {},
            "_py2js_update": {},
            "_view_count": 1,
            "_view_module": "jupyterlab-plotly",
            "_view_module_version": "^5.24.1",
            "_view_name": "FigureView"
          }
        },
        "91c22735b5c34ab5bfd66c1095466c52": {
          "model_module": "@jupyter-widgets/base",
          "model_name": "LayoutModel",
          "model_module_version": "1.2.0",
          "state": {
            "_model_module": "@jupyter-widgets/base",
            "_model_module_version": "1.2.0",
            "_model_name": "LayoutModel",
            "_view_count": null,
            "_view_module": "@jupyter-widgets/base",
            "_view_module_version": "1.2.0",
            "_view_name": "LayoutView",
            "align_content": null,
            "align_items": null,
            "align_self": null,
            "border": null,
            "bottom": null,
            "display": null,
            "flex": null,
            "flex_flow": null,
            "grid_area": null,
            "grid_auto_columns": null,
            "grid_auto_flow": null,
            "grid_auto_rows": null,
            "grid_column": null,
            "grid_gap": null,
            "grid_row": null,
            "grid_template_areas": null,
            "grid_template_columns": null,
            "grid_template_rows": null,
            "height": null,
            "justify_content": null,
            "justify_items": null,
            "left": null,
            "margin": null,
            "max_height": null,
            "max_width": null,
            "min_height": null,
            "min_width": null,
            "object_fit": null,
            "object_position": null,
            "order": null,
            "overflow": null,
            "overflow_x": null,
            "overflow_y": null,
            "padding": null,
            "right": null,
            "top": null,
            "visibility": null,
            "width": null
          }
        },
        "b75b27ae9f064ff39382c4896deca13e": {
          "model_module": "@jupyter-widgets/controls",
          "model_name": "HBoxModel",
          "model_module_version": "1.5.0",
          "state": {
            "_dom_classes": [],
            "_model_module": "@jupyter-widgets/controls",
            "_model_module_version": "1.5.0",
            "_model_name": "HBoxModel",
            "_view_count": null,
            "_view_module": "@jupyter-widgets/controls",
            "_view_module_version": "1.5.0",
            "_view_name": "HBoxView",
            "box_style": "",
            "children": [
              "IPY_MODEL_b52288fd651449c49440de07facd8878",
              "IPY_MODEL_f345efafd95b41e18d91d7653a469296"
            ],
            "layout": "IPY_MODEL_6f51bb5048f142dca838034aecefcdc9"
          }
        },
        "b52288fd651449c49440de07facd8878": {
          "model_module": "jupyterlab-plotly",
          "model_name": "FigureModel",
          "model_module_version": "^5.24.1",
          "state": {
            "_config": {
              "plotlyServerURL": "https://plot.ly"
            },
            "_data": [
              {
                "hovertemplate": "DOI: <br>Printing process: FDM</br>Electrical principle: Piezoresistive<extra></extra>",
                "legendgroup": "Piezoresistive",
                "legendgrouptitle": {
                  "text": "Piezoresistive"
                },
                "marker": {
                  "color": "#648fff",
                  "line": {
                    "color": "black",
                    "width": 2
                  },
                  "size": 10,
                  "symbol": "square"
                },
                "mode": "markers",
                "name": "FDM",
                "visible": true,
                "x": {
                  "dtype": "float64",
                  "shape": [
                    1
                  ]
                },
                "y": {
                  "dtype": "float64",
                  "shape": [
                    1
                  ]
                },
                "type": "scatter",
                "uid": "a9309966-9948-4dc0-bb97-f7b5ba8f76bc"
              },
              {
                "hovertemplate": "DOI: <br>Printing process: FDM</br>Electrical principle: Capacitive<extra></extra>",
                "legendgroup": "Capacitive",
                "legendgrouptitle": {
                  "text": "Capacitive"
                },
                "marker": {
                  "color": "#785ef0",
                  "line": {
                    "color": "black",
                    "width": 2
                  },
                  "size": 10,
                  "symbol": "square"
                },
                "mode": "markers",
                "name": "FDM",
                "visible": true,
                "x": {
                  "dtype": "float64",
                  "shape": [
                    3
                  ]
                },
                "y": {
                  "dtype": "float64",
                  "shape": [
                    3
                  ]
                },
                "type": "scatter",
                "uid": "02b483dd-b826-493c-ab25-525098424449"
              },
              {
                "hovertemplate": "DOI: <br>Printing process: DIW</br>Electrical principle: Piezoresistive<extra></extra>",
                "legendgroup": "Piezoresistive",
                "legendgrouptitle": {
                  "text": "Piezoresistive"
                },
                "marker": {
                  "color": "#648fff",
                  "line": {
                    "color": "black",
                    "width": 2
                  },
                  "size": 10,
                  "symbol": "triangle-up"
                },
                "mode": "markers",
                "name": "DIW",
                "visible": true,
                "x": {
                  "dtype": "float64",
                  "shape": [
                    3
                  ]
                },
                "y": {
                  "dtype": "float64",
                  "shape": [
                    3
                  ]
                },
                "type": "scatter",
                "uid": "d9937e9b-2a02-4b18-ad2a-bd51bda39811"
              },
              {
                "hovertemplate": "DOI: <br>Printing process: DIW</br>Electrical principle: Capacitive<extra></extra>",
                "legendgroup": "Capacitive",
                "legendgrouptitle": {
                  "text": "Capacitive"
                },
                "marker": {
                  "color": "#785ef0",
                  "line": {
                    "color": "black",
                    "width": 2
                  },
                  "size": 10,
                  "symbol": "triangle-up"
                },
                "mode": "markers",
                "name": "DIW",
                "visible": true,
                "x": {
                  "dtype": "float64",
                  "shape": [
                    1
                  ]
                },
                "y": {
                  "dtype": "float64",
                  "shape": [
                    1
                  ]
                },
                "type": "scatter",
                "uid": "1ab3d8c7-7399-4485-bc22-0536c2745f2e"
              },
              {
                "hovertemplate": "DOI: <br>Printing process: SLA</br>Electrical principle: Piezoresistive (Post processing)<extra></extra>",
                "legendgroup": "Piezoresistive",
                "legendgrouptitle": {
                  "text": "Piezoresistive"
                },
                "marker": {
                  "color": "#648fff",
                  "line": {
                    "color": "black",
                    "width": 2
                  },
                  "size": 10,
                  "symbol": "diamond-open"
                },
                "mode": "markers",
                "name": "SLA",
                "visible": true,
                "x": {
                  "dtype": "float64",
                  "shape": [
                    1
                  ]
                },
                "y": {
                  "dtype": "float64",
                  "shape": [
                    1
                  ]
                },
                "type": "scatter",
                "uid": "62cd3903-ddb9-4dd5-8055-d94c1985bfd8"
              },
              {
                "hovertemplate": "DOI: <br>Printing process: SLA</br>Electrical principle: Inductive (Post processing)<extra></extra>",
                "legendgroup": "Inductive",
                "legendgrouptitle": {
                  "text": "Inductive"
                },
                "marker": {
                  "color": "#dc267f",
                  "line": {
                    "color": "black",
                    "width": 2
                  },
                  "size": 10,
                  "symbol": "diamond-open"
                },
                "mode": "markers",
                "name": "SLA",
                "visible": true,
                "x": {
                  "dtype": "float64",
                  "shape": [
                    1
                  ]
                },
                "y": {
                  "dtype": "float64",
                  "shape": [
                    1
                  ]
                },
                "type": "scatter",
                "uid": "922c1ac9-3134-4416-8a94-a7f14193b4f8"
              },
              {
                "hovertemplate": "DOI: <br>Printing process: DLP</br>Electrical principle: Piezoresistive (Post processing)<extra></extra>",
                "legendgroup": "Piezoresistive",
                "legendgrouptitle": {
                  "text": "Piezoresistive"
                },
                "marker": {
                  "color": "#648fff",
                  "line": {
                    "color": "black",
                    "width": 2
                  },
                  "size": 10,
                  "symbol": "pentagon-open"
                },
                "mode": "markers",
                "name": "DLP",
                "visible": true,
                "x": {
                  "dtype": "float64",
                  "shape": [
                    1
                  ]
                },
                "y": {
                  "dtype": "float64",
                  "shape": [
                    1
                  ]
                },
                "type": "scatter",
                "uid": "a3c0c506-0b90-4309-b343-7e8e68e8b259"
              },
              {
                "hovertemplate": "DOI: <br>Printing process: FDM/DIW</br>Electrical principle: Capacitive<extra></extra>",
                "legendgroup": "Capacitive",
                "legendgrouptitle": {
                  "text": "Capacitive"
                },
                "marker": {
                  "color": "#785ef0",
                  "line": {
                    "color": "black",
                    "width": 2
                  },
                  "size": 10,
                  "symbol": "circle"
                },
                "mode": "markers",
                "name": "FDM/DIW",
                "visible": true,
                "x": {
                  "dtype": "float64",
                  "shape": [
                    1
                  ]
                },
                "y": {
                  "dtype": "float64",
                  "shape": [
                    1
                  ]
                },
                "type": "scatter",
                "uid": "2d7801a3-7b36-4f75-a8ac-8b579cd89389"
              },
              {
                "hovertemplate": "DOI: <br>Printing process: DLP</br>Electrical principle: Capacitive<extra></extra>",
                "legendgroup": "Capacitive",
                "legendgrouptitle": {
                  "text": "Capacitive"
                },
                "marker": {
                  "color": "#785ef0",
                  "line": {
                    "color": "black",
                    "width": 2
                  },
                  "size": 10,
                  "symbol": "pentagon"
                },
                "mode": "markers",
                "name": "DLP",
                "visible": true,
                "x": {
                  "dtype": "float64",
                  "shape": [
                    1
                  ]
                },
                "y": {
                  "dtype": "float64",
                  "shape": [
                    1
                  ]
                },
                "type": "scatter",
                "uid": "2fae3318-4f13-438a-af31-0b78623d080e"
              },
              {
                "hovertemplate": "DOI: <br>Printing process: AJP</br>Electrical principle: Transistor<extra></extra>",
                "legendgroup": "Transistor",
                "legendgrouptitle": {
                  "text": "Transistor"
                },
                "marker": {
                  "color": "#ffb000",
                  "line": {
                    "color": "black",
                    "width": 2
                  },
                  "size": 10,
                  "symbol": "triangle-down"
                },
                "mode": "markers",
                "name": "AJP",
                "visible": true,
                "x": {
                  "dtype": "float64",
                  "shape": [
                    1
                  ]
                },
                "y": {
                  "dtype": "float64",
                  "shape": [
                    1
                  ]
                },
                "type": "scatter",
                "uid": "9e2e4ce8-0fd4-4c1b-8e91-4ac218d9de31"
              }
            ],
            "_dom_classes": [],
            "_js2py_layoutDelta": null,
            "_js2py_pointsCallback": null,
            "_js2py_relayout": {},
            "_js2py_restyle": {},
            "_js2py_traceDeltas": null,
            "_js2py_update": {},
            "_last_layout_edit_id": 0,
            "_last_trace_edit_id": 0,
            "_layout": {
              "height": 700,
              "legend": {
                "entrywidth": 0.23,
                "entrywidthmode": "fraction",
                "groupclick": "toggleitem",
                "orientation": "h",
                "tracegroupgap": 150,
                "y": -0.12,
                "yanchor": "top"
              },
              "margin": {
                "autoexpand": false,
                "b": 250
              },
              "template": {
                "data": {
                  "barpolar": [
                    {
                      "marker": {
                        "line": {
                          "color": "#E5ECF6",
                          "width": 0.5
                        },
                        "pattern": {
                          "fillmode": "overlay",
                          "size": 10,
                          "solidity": 0.2
                        }
                      },
                      "type": "barpolar"
                    }
                  ],
                  "bar": [
                    {
                      "error_x": {
                        "color": "#2a3f5f"
                      },
                      "error_y": {
                        "color": "#2a3f5f"
                      },
                      "marker": {
                        "line": {
                          "color": "#E5ECF6",
                          "width": 0.5
                        },
                        "pattern": {
                          "fillmode": "overlay",
                          "size": 10,
                          "solidity": 0.2
                        }
                      },
                      "type": "bar"
                    }
                  ],
                  "carpet": [
                    {
                      "aaxis": {
                        "endlinecolor": "#2a3f5f",
                        "gridcolor": "white",
                        "linecolor": "white",
                        "minorgridcolor": "white",
                        "startlinecolor": "#2a3f5f"
                      },
                      "baxis": {
                        "endlinecolor": "#2a3f5f",
                        "gridcolor": "white",
                        "linecolor": "white",
                        "minorgridcolor": "white",
                        "startlinecolor": "#2a3f5f"
                      },
                      "type": "carpet"
                    }
                  ],
                  "choropleth": [
                    {
                      "colorbar": {
                        "outlinewidth": 0,
                        "ticks": ""
                      },
                      "type": "choropleth"
                    }
                  ],
                  "contourcarpet": [
                    {
                      "colorbar": {
                        "outlinewidth": 0,
                        "ticks": ""
                      },
                      "type": "contourcarpet"
                    }
                  ],
                  "contour": [
                    {
                      "colorbar": {
                        "outlinewidth": 0,
                        "ticks": ""
                      },
                      "colorscale": [
                        [
                          0,
                          "#0d0887"
                        ],
                        [
                          0.1111111111111111,
                          "#46039f"
                        ],
                        [
                          0.2222222222222222,
                          "#7201a8"
                        ],
                        [
                          0.3333333333333333,
                          "#9c179e"
                        ],
                        [
                          0.4444444444444444,
                          "#bd3786"
                        ],
                        [
                          0.5555555555555556,
                          "#d8576b"
                        ],
                        [
                          0.6666666666666666,
                          "#ed7953"
                        ],
                        [
                          0.7777777777777778,
                          "#fb9f3a"
                        ],
                        [
                          0.8888888888888888,
                          "#fdca26"
                        ],
                        [
                          1,
                          "#f0f921"
                        ]
                      ],
                      "type": "contour"
                    }
                  ],
                  "heatmapgl": [
                    {
                      "colorbar": {
                        "outlinewidth": 0,
                        "ticks": ""
                      },
                      "colorscale": [
                        [
                          0,
                          "#0d0887"
                        ],
                        [
                          0.1111111111111111,
                          "#46039f"
                        ],
                        [
                          0.2222222222222222,
                          "#7201a8"
                        ],
                        [
                          0.3333333333333333,
                          "#9c179e"
                        ],
                        [
                          0.4444444444444444,
                          "#bd3786"
                        ],
                        [
                          0.5555555555555556,
                          "#d8576b"
                        ],
                        [
                          0.6666666666666666,
                          "#ed7953"
                        ],
                        [
                          0.7777777777777778,
                          "#fb9f3a"
                        ],
                        [
                          0.8888888888888888,
                          "#fdca26"
                        ],
                        [
                          1,
                          "#f0f921"
                        ]
                      ],
                      "type": "heatmapgl"
                    }
                  ],
                  "heatmap": [
                    {
                      "colorbar": {
                        "outlinewidth": 0,
                        "ticks": ""
                      },
                      "colorscale": [
                        [
                          0,
                          "#0d0887"
                        ],
                        [
                          0.1111111111111111,
                          "#46039f"
                        ],
                        [
                          0.2222222222222222,
                          "#7201a8"
                        ],
                        [
                          0.3333333333333333,
                          "#9c179e"
                        ],
                        [
                          0.4444444444444444,
                          "#bd3786"
                        ],
                        [
                          0.5555555555555556,
                          "#d8576b"
                        ],
                        [
                          0.6666666666666666,
                          "#ed7953"
                        ],
                        [
                          0.7777777777777778,
                          "#fb9f3a"
                        ],
                        [
                          0.8888888888888888,
                          "#fdca26"
                        ],
                        [
                          1,
                          "#f0f921"
                        ]
                      ],
                      "type": "heatmap"
                    }
                  ],
                  "histogram2dcontour": [
                    {
                      "colorbar": {
                        "outlinewidth": 0,
                        "ticks": ""
                      },
                      "colorscale": [
                        [
                          0,
                          "#0d0887"
                        ],
                        [
                          0.1111111111111111,
                          "#46039f"
                        ],
                        [
                          0.2222222222222222,
                          "#7201a8"
                        ],
                        [
                          0.3333333333333333,
                          "#9c179e"
                        ],
                        [
                          0.4444444444444444,
                          "#bd3786"
                        ],
                        [
                          0.5555555555555556,
                          "#d8576b"
                        ],
                        [
                          0.6666666666666666,
                          "#ed7953"
                        ],
                        [
                          0.7777777777777778,
                          "#fb9f3a"
                        ],
                        [
                          0.8888888888888888,
                          "#fdca26"
                        ],
                        [
                          1,
                          "#f0f921"
                        ]
                      ],
                      "type": "histogram2dcontour"
                    }
                  ],
                  "histogram2d": [
                    {
                      "colorbar": {
                        "outlinewidth": 0,
                        "ticks": ""
                      },
                      "colorscale": [
                        [
                          0,
                          "#0d0887"
                        ],
                        [
                          0.1111111111111111,
                          "#46039f"
                        ],
                        [
                          0.2222222222222222,
                          "#7201a8"
                        ],
                        [
                          0.3333333333333333,
                          "#9c179e"
                        ],
                        [
                          0.4444444444444444,
                          "#bd3786"
                        ],
                        [
                          0.5555555555555556,
                          "#d8576b"
                        ],
                        [
                          0.6666666666666666,
                          "#ed7953"
                        ],
                        [
                          0.7777777777777778,
                          "#fb9f3a"
                        ],
                        [
                          0.8888888888888888,
                          "#fdca26"
                        ],
                        [
                          1,
                          "#f0f921"
                        ]
                      ],
                      "type": "histogram2d"
                    }
                  ],
                  "histogram": [
                    {
                      "marker": {
                        "pattern": {
                          "fillmode": "overlay",
                          "size": 10,
                          "solidity": 0.2
                        }
                      },
                      "type": "histogram"
                    }
                  ],
                  "mesh3d": [
                    {
                      "colorbar": {
                        "outlinewidth": 0,
                        "ticks": ""
                      },
                      "type": "mesh3d"
                    }
                  ],
                  "parcoords": [
                    {
                      "line": {
                        "colorbar": {
                          "outlinewidth": 0,
                          "ticks": ""
                        }
                      },
                      "type": "parcoords"
                    }
                  ],
                  "pie": [
                    {
                      "automargin": true,
                      "type": "pie"
                    }
                  ],
                  "scatter3d": [
                    {
                      "line": {
                        "colorbar": {
                          "outlinewidth": 0,
                          "ticks": ""
                        }
                      },
                      "marker": {
                        "colorbar": {
                          "outlinewidth": 0,
                          "ticks": ""
                        }
                      },
                      "type": "scatter3d"
                    }
                  ],
                  "scattercarpet": [
                    {
                      "marker": {
                        "colorbar": {
                          "outlinewidth": 0,
                          "ticks": ""
                        }
                      },
                      "type": "scattercarpet"
                    }
                  ],
                  "scattergeo": [
                    {
                      "marker": {
                        "colorbar": {
                          "outlinewidth": 0,
                          "ticks": ""
                        }
                      },
                      "type": "scattergeo"
                    }
                  ],
                  "scattergl": [
                    {
                      "marker": {
                        "colorbar": {
                          "outlinewidth": 0,
                          "ticks": ""
                        }
                      },
                      "type": "scattergl"
                    }
                  ],
                  "scattermapbox": [
                    {
                      "marker": {
                        "colorbar": {
                          "outlinewidth": 0,
                          "ticks": ""
                        }
                      },
                      "type": "scattermapbox"
                    }
                  ],
                  "scatterpolargl": [
                    {
                      "marker": {
                        "colorbar": {
                          "outlinewidth": 0,
                          "ticks": ""
                        }
                      },
                      "type": "scatterpolargl"
                    }
                  ],
                  "scatterpolar": [
                    {
                      "marker": {
                        "colorbar": {
                          "outlinewidth": 0,
                          "ticks": ""
                        }
                      },
                      "type": "scatterpolar"
                    }
                  ],
                  "scatter": [
                    {
                      "fillpattern": {
                        "fillmode": "overlay",
                        "size": 10,
                        "solidity": 0.2
                      },
                      "type": "scatter"
                    }
                  ],
                  "scatterternary": [
                    {
                      "marker": {
                        "colorbar": {
                          "outlinewidth": 0,
                          "ticks": ""
                        }
                      },
                      "type": "scatterternary"
                    }
                  ],
                  "surface": [
                    {
                      "colorbar": {
                        "outlinewidth": 0,
                        "ticks": ""
                      },
                      "colorscale": [
                        [
                          0,
                          "#0d0887"
                        ],
                        [
                          0.1111111111111111,
                          "#46039f"
                        ],
                        [
                          0.2222222222222222,
                          "#7201a8"
                        ],
                        [
                          0.3333333333333333,
                          "#9c179e"
                        ],
                        [
                          0.4444444444444444,
                          "#bd3786"
                        ],
                        [
                          0.5555555555555556,
                          "#d8576b"
                        ],
                        [
                          0.6666666666666666,
                          "#ed7953"
                        ],
                        [
                          0.7777777777777778,
                          "#fb9f3a"
                        ],
                        [
                          0.8888888888888888,
                          "#fdca26"
                        ],
                        [
                          1,
                          "#f0f921"
                        ]
                      ],
                      "type": "surface"
                    }
                  ],
                  "table": [
                    {
                      "cells": {
                        "fill": {
                          "color": "#EBF0F8"
                        },
                        "line": {
                          "color": "white"
                        }
                      },
                      "header": {
                        "fill": {
                          "color": "#C8D4E3"
                        },
                        "line": {
                          "color": "white"
                        }
                      },
                      "type": "table"
                    }
                  ]
                },
                "layout": {
                  "annotationdefaults": {
                    "arrowcolor": "#2a3f5f",
                    "arrowhead": 0,
                    "arrowwidth": 1
                  },
                  "autotypenumbers": "strict",
                  "coloraxis": {
                    "colorbar": {
                      "outlinewidth": 0,
                      "ticks": ""
                    }
                  },
                  "colorscale": {
                    "diverging": [
                      [
                        0,
                        "#8e0152"
                      ],
                      [
                        0.1,
                        "#c51b7d"
                      ],
                      [
                        0.2,
                        "#de77ae"
                      ],
                      [
                        0.3,
                        "#f1b6da"
                      ],
                      [
                        0.4,
                        "#fde0ef"
                      ],
                      [
                        0.5,
                        "#f7f7f7"
                      ],
                      [
                        0.6,
                        "#e6f5d0"
                      ],
                      [
                        0.7,
                        "#b8e186"
                      ],
                      [
                        0.8,
                        "#7fbc41"
                      ],
                      [
                        0.9,
                        "#4d9221"
                      ],
                      [
                        1,
                        "#276419"
                      ]
                    ],
                    "sequential": [
                      [
                        0,
                        "#0d0887"
                      ],
                      [
                        0.1111111111111111,
                        "#46039f"
                      ],
                      [
                        0.2222222222222222,
                        "#7201a8"
                      ],
                      [
                        0.3333333333333333,
                        "#9c179e"
                      ],
                      [
                        0.4444444444444444,
                        "#bd3786"
                      ],
                      [
                        0.5555555555555556,
                        "#d8576b"
                      ],
                      [
                        0.6666666666666666,
                        "#ed7953"
                      ],
                      [
                        0.7777777777777778,
                        "#fb9f3a"
                      ],
                      [
                        0.8888888888888888,
                        "#fdca26"
                      ],
                      [
                        1,
                        "#f0f921"
                      ]
                    ],
                    "sequentialminus": [
                      [
                        0,
                        "#0d0887"
                      ],
                      [
                        0.1111111111111111,
                        "#46039f"
                      ],
                      [
                        0.2222222222222222,
                        "#7201a8"
                      ],
                      [
                        0.3333333333333333,
                        "#9c179e"
                      ],
                      [
                        0.4444444444444444,
                        "#bd3786"
                      ],
                      [
                        0.5555555555555556,
                        "#d8576b"
                      ],
                      [
                        0.6666666666666666,
                        "#ed7953"
                      ],
                      [
                        0.7777777777777778,
                        "#fb9f3a"
                      ],
                      [
                        0.8888888888888888,
                        "#fdca26"
                      ],
                      [
                        1,
                        "#f0f921"
                      ]
                    ]
                  },
                  "colorway": [
                    "#636efa",
                    "#EF553B",
                    "#00cc96",
                    "#ab63fa",
                    "#FFA15A",
                    "#19d3f3",
                    "#FF6692",
                    "#B6E880",
                    "#FF97FF",
                    "#FECB52"
                  ],
                  "font": {
                    "color": "#2a3f5f"
                  },
                  "geo": {
                    "bgcolor": "white",
                    "lakecolor": "white",
                    "landcolor": "#E5ECF6",
                    "showlakes": true,
                    "showland": true,
                    "subunitcolor": "white"
                  },
                  "hoverlabel": {
                    "align": "left"
                  },
                  "hovermode": "closest",
                  "mapbox": {
                    "style": "light"
                  },
                  "paper_bgcolor": "white",
                  "plot_bgcolor": "#E5ECF6",
                  "polar": {
                    "angularaxis": {
                      "gridcolor": "white",
                      "linecolor": "white",
                      "ticks": ""
                    },
                    "bgcolor": "#E5ECF6",
                    "radialaxis": {
                      "gridcolor": "white",
                      "linecolor": "white",
                      "ticks": ""
                    }
                  },
                  "scene": {
                    "xaxis": {
                      "backgroundcolor": "#E5ECF6",
                      "gridcolor": "white",
                      "gridwidth": 2,
                      "linecolor": "white",
                      "showbackground": true,
                      "ticks": "",
                      "zerolinecolor": "white"
                    },
                    "yaxis": {
                      "backgroundcolor": "#E5ECF6",
                      "gridcolor": "white",
                      "gridwidth": 2,
                      "linecolor": "white",
                      "showbackground": true,
                      "ticks": "",
                      "zerolinecolor": "white"
                    },
                    "zaxis": {
                      "backgroundcolor": "#E5ECF6",
                      "gridcolor": "white",
                      "gridwidth": 2,
                      "linecolor": "white",
                      "showbackground": true,
                      "ticks": "",
                      "zerolinecolor": "white"
                    }
                  },
                  "shapedefaults": {
                    "line": {
                      "color": "#2a3f5f"
                    }
                  },
                  "ternary": {
                    "aaxis": {
                      "gridcolor": "white",
                      "linecolor": "white",
                      "ticks": ""
                    },
                    "baxis": {
                      "gridcolor": "white",
                      "linecolor": "white",
                      "ticks": ""
                    },
                    "bgcolor": "#E5ECF6",
                    "caxis": {
                      "gridcolor": "white",
                      "linecolor": "white",
                      "ticks": ""
                    }
                  },
                  "title": {
                    "x": 0.05
                  },
                  "xaxis": {
                    "automargin": true,
                    "gridcolor": "white",
                    "linecolor": "white",
                    "ticks": "",
                    "title": {
                      "standoff": 15
                    },
                    "zerolinecolor": "white",
                    "zerolinewidth": 2
                  },
                  "yaxis": {
                    "automargin": true,
                    "gridcolor": "white",
                    "linecolor": "white",
                    "ticks": "",
                    "title": {
                      "standoff": 15
                    },
                    "zerolinecolor": "white",
                    "zerolinewidth": 2
                  }
                }
              },
              "title": {
                "text": "Printing process, Electrical principle and Direct printing"
              },
              "width": 700,
              "xaxis": {
                "title": {
                  "text": "Pressure [kPa]"
                },
                "type": "log"
              },
              "yaxis": {
                "title": {
                  "text": "Sensitivity [kPa<sup>-1</sup>]"
                },
                "type": "log"
              }
            },
            "_model_module": "jupyterlab-plotly",
            "_model_module_version": "^5.24.1",
            "_model_name": "FigureModel",
            "_py2js_addTraces": {},
            "_py2js_animate": {},
            "_py2js_deleteTraces": {},
            "_py2js_moveTraces": {},
            "_py2js_relayout": {},
            "_py2js_removeLayoutProps": {},
            "_py2js_removeTraceProps": {},
            "_py2js_restyle": {},
            "_py2js_update": {},
            "_view_count": 1,
            "_view_module": "jupyterlab-plotly",
            "_view_module_version": "^5.24.1",
            "_view_name": "FigureView"
          }
        },
        "f345efafd95b41e18d91d7653a469296": {
          "model_module": "jupyterlab-plotly",
          "model_name": "FigureModel",
          "model_module_version": "^5.24.1",
          "state": {
            "_config": {
              "plotlyServerURL": "https://plot.ly"
            },
            "_data": [
              {
                "hovertemplate": "DOI: <br>Sensing basis: Porous</br>Material: Carbon (Custom)<extra></extra>",
                "legendgroup": "Carbon",
                "legendgrouptitle": {
                  "text": "Carbon"
                },
                "marker": {
                  "color": "#648fff",
                  "line": {
                    "color": "black",
                    "width": 2
                  },
                  "size": 10,
                  "symbol": "triangle-down-open"
                },
                "mode": "markers",
                "name": "Porous",
                "visible": true,
                "x": {
                  "dtype": "float64",
                  "shape": [
                    2
                  ]
                },
                "y": {
                  "dtype": "float64",
                  "shape": [
                    2
                  ]
                },
                "type": "scatter",
                "uid": "a598fcce-b881-43d4-b54d-09a7f6bbe8c6"
              },
              {
                "hovertemplate": "DOI: <br>Sensing basis: Material</br>Material: Carbon (Custom)<extra></extra>",
                "legendgroup": "Carbon",
                "legendgrouptitle": {
                  "text": "Carbon"
                },
                "marker": {
                  "color": "#648fff",
                  "line": {
                    "color": "black",
                    "width": 2
                  },
                  "size": 10,
                  "symbol": "square-open"
                },
                "mode": "markers",
                "name": "Material",
                "visible": true,
                "x": {
                  "dtype": "float64",
                  "shape": [
                    2
                  ]
                },
                "y": {
                  "dtype": "float64",
                  "shape": [
                    2
                  ]
                },
                "type": "scatter",
                "uid": "0a00715b-f9e6-4cae-ad7d-331fcf3cec8b"
              },
              {
                "hovertemplate": "DOI: <br>Sensing basis: Surface</br>Material: Carbon (Custom)<extra></extra>",
                "legendgroup": "Carbon",
                "legendgrouptitle": {
                  "text": "Carbon"
                },
                "marker": {
                  "color": "#648fff",
                  "line": {
                    "color": "black",
                    "width": 2
                  },
                  "size": 10,
                  "symbol": "circle-open"
                },
                "mode": "markers",
                "name": "Surface",
                "visible": true,
                "x": {
                  "dtype": "float64",
                  "shape": [
                    1
                  ]
                },
                "y": {
                  "dtype": "float64",
                  "shape": [
                    1
                  ]
                },
                "type": "scatter",
                "uid": "1e485b91-7eab-4b69-b471-b271876e8645"
              },
              {
                "hovertemplate": "DOI: <br>Sensing basis: Microcracks</br>Material: Metal<extra></extra>",
                "legendgroup": "Metal",
                "legendgrouptitle": {
                  "text": "Metal"
                },
                "marker": {
                  "color": "#785ef0",
                  "line": {
                    "color": "black",
                    "width": 2
                  },
                  "size": 10,
                  "symbol": "diamond"
                },
                "mode": "markers",
                "name": "Microcracks",
                "visible": true,
                "x": {
                  "dtype": "float64",
                  "shape": [
                    1
                  ]
                },
                "y": {
                  "dtype": "float64",
                  "shape": [
                    1
                  ]
                },
                "type": "scatter",
                "uid": "e7d120af-19e5-4431-8717-56306bec5dba"
              },
              {
                "hovertemplate": "DOI: <br>Sensing basis: Displacement</br>Material: Carbon<extra></extra>",
                "legendgroup": "Carbon",
                "legendgrouptitle": {
                  "text": "Carbon"
                },
                "marker": {
                  "color": "#648fff",
                  "line": {
                    "color": "black",
                    "width": 2
                  },
                  "size": 10,
                  "symbol": "pentagon"
                },
                "mode": "markers",
                "name": "Displacement",
                "visible": true,
                "x": {
                  "dtype": "float64",
                  "shape": [
                    3
                  ]
                },
                "y": {
                  "dtype": "float64",
                  "shape": [
                    3
                  ]
                },
                "type": "scatter",
                "uid": "b9d3b79f-79f9-4cfd-9569-468cd6d60f58"
              },
              {
                "hovertemplate": "DOI: <br>Sensing basis: Displacement</br>Material: Metal<extra></extra>",
                "legendgroup": "Metal",
                "legendgrouptitle": {
                  "text": "Metal"
                },
                "marker": {
                  "color": "#785ef0",
                  "line": {
                    "color": "black",
                    "width": 2
                  },
                  "size": 10,
                  "symbol": "pentagon"
                },
                "mode": "markers",
                "name": "Displacement",
                "visible": true,
                "x": {
                  "dtype": "float64",
                  "shape": [
                    1
                  ]
                },
                "y": {
                  "dtype": "float64",
                  "shape": [
                    1
                  ]
                },
                "type": "scatter",
                "uid": "b3e40066-becd-4aa7-b010-4f3a8dc20ac3"
              },
              {
                "hovertemplate": "DOI: <br>Sensing basis: Displacement</br>Material: Liquid<extra></extra>",
                "legendgroup": "Liquid",
                "legendgrouptitle": {
                  "text": "Liquid"
                },
                "marker": {
                  "color": "#dc267f",
                  "line": {
                    "color": "black",
                    "width": 2
                  },
                  "size": 10,
                  "symbol": "pentagon"
                },
                "mode": "markers",
                "name": "Displacement",
                "visible": true,
                "x": {
                  "dtype": "float64",
                  "shape": [
                    1
                  ]
                },
                "y": {
                  "dtype": "float64",
                  "shape": [
                    1
                  ]
                },
                "type": "scatter",
                "uid": "9edaff7f-8ee6-465d-b993-c399620f81af"
              },
              {
                "hovertemplate": "DOI: <br>Sensing basis: Displacement</br>Material: Carbon (Custom)<extra></extra>",
                "legendgroup": "Carbon",
                "legendgrouptitle": {
                  "text": "Carbon"
                },
                "marker": {
                  "color": "#648fff",
                  "line": {
                    "color": "black",
                    "width": 2
                  },
                  "size": 10,
                  "symbol": "pentagon-open"
                },
                "mode": "markers",
                "name": "Displacement",
                "visible": true,
                "x": {
                  "dtype": "float64",
                  "shape": [
                    1
                  ]
                },
                "y": {
                  "dtype": "float64",
                  "shape": [
                    1
                  ]
                },
                "type": "scatter",
                "uid": "3158ac19-c222-4415-a6f7-e5eecb669f19"
              },
              {
                "hovertemplate": "DOI: <br>Sensing basis: Displacement</br>Material: Metal (Custom)<extra></extra>",
                "legendgroup": "Metal",
                "legendgrouptitle": {
                  "text": "Metal"
                },
                "marker": {
                  "color": "#785ef0",
                  "line": {
                    "color": "black",
                    "width": 2
                  },
                  "size": 10,
                  "symbol": "pentagon-open"
                },
                "mode": "markers",
                "name": "Displacement",
                "visible": true,
                "x": {
                  "dtype": "float64",
                  "shape": [
                    1
                  ]
                },
                "y": {
                  "dtype": "float64",
                  "shape": [
                    1
                  ]
                },
                "type": "scatter",
                "uid": "b486aa30-0fa9-4693-bd3d-2eb9276e10ed"
              },
              {
                "hovertemplate": "DOI: <br>Sensing basis: Other</br>Material: Other (Custom)<extra></extra>",
                "legendgroup": "Other",
                "legendgrouptitle": {
                  "text": "Other"
                },
                "marker": {
                  "color": "#ffb000",
                  "line": {
                    "color": "black",
                    "width": 2
                  },
                  "size": 10,
                  "symbol": "cross-open"
                },
                "mode": "markers",
                "name": "Other",
                "visible": true,
                "x": {
                  "dtype": "float64",
                  "shape": [
                    1
                  ]
                },
                "y": {
                  "dtype": "float64",
                  "shape": [
                    1
                  ]
                },
                "type": "scatter",
                "uid": "f270d626-90e1-4a2d-bcbe-bbcd523b3bb8"
              }
            ],
            "_dom_classes": [],
            "_js2py_layoutDelta": null,
            "_js2py_pointsCallback": null,
            "_js2py_relayout": {},
            "_js2py_restyle": {},
            "_js2py_traceDeltas": null,
            "_js2py_update": {},
            "_last_layout_edit_id": 0,
            "_last_trace_edit_id": 0,
            "_layout": {
              "height": 700,
              "legend": {
                "entrywidth": 0.23,
                "entrywidthmode": "fraction",
                "groupclick": "toggleitem",
                "orientation": "h",
                "tracegroupgap": 150,
                "y": -0.12,
                "yanchor": "top"
              },
              "margin": {
                "autoexpand": false,
                "b": 250
              },
              "template": {
                "data": {
                  "barpolar": [
                    {
                      "marker": {
                        "line": {
                          "color": "#E5ECF6",
                          "width": 0.5
                        },
                        "pattern": {
                          "fillmode": "overlay",
                          "size": 10,
                          "solidity": 0.2
                        }
                      },
                      "type": "barpolar"
                    }
                  ],
                  "bar": [
                    {
                      "error_x": {
                        "color": "#2a3f5f"
                      },
                      "error_y": {
                        "color": "#2a3f5f"
                      },
                      "marker": {
                        "line": {
                          "color": "#E5ECF6",
                          "width": 0.5
                        },
                        "pattern": {
                          "fillmode": "overlay",
                          "size": 10,
                          "solidity": 0.2
                        }
                      },
                      "type": "bar"
                    }
                  ],
                  "carpet": [
                    {
                      "aaxis": {
                        "endlinecolor": "#2a3f5f",
                        "gridcolor": "white",
                        "linecolor": "white",
                        "minorgridcolor": "white",
                        "startlinecolor": "#2a3f5f"
                      },
                      "baxis": {
                        "endlinecolor": "#2a3f5f",
                        "gridcolor": "white",
                        "linecolor": "white",
                        "minorgridcolor": "white",
                        "startlinecolor": "#2a3f5f"
                      },
                      "type": "carpet"
                    }
                  ],
                  "choropleth": [
                    {
                      "colorbar": {
                        "outlinewidth": 0,
                        "ticks": ""
                      },
                      "type": "choropleth"
                    }
                  ],
                  "contourcarpet": [
                    {
                      "colorbar": {
                        "outlinewidth": 0,
                        "ticks": ""
                      },
                      "type": "contourcarpet"
                    }
                  ],
                  "contour": [
                    {
                      "colorbar": {
                        "outlinewidth": 0,
                        "ticks": ""
                      },
                      "colorscale": [
                        [
                          0,
                          "#0d0887"
                        ],
                        [
                          0.1111111111111111,
                          "#46039f"
                        ],
                        [
                          0.2222222222222222,
                          "#7201a8"
                        ],
                        [
                          0.3333333333333333,
                          "#9c179e"
                        ],
                        [
                          0.4444444444444444,
                          "#bd3786"
                        ],
                        [
                          0.5555555555555556,
                          "#d8576b"
                        ],
                        [
                          0.6666666666666666,
                          "#ed7953"
                        ],
                        [
                          0.7777777777777778,
                          "#fb9f3a"
                        ],
                        [
                          0.8888888888888888,
                          "#fdca26"
                        ],
                        [
                          1,
                          "#f0f921"
                        ]
                      ],
                      "type": "contour"
                    }
                  ],
                  "heatmapgl": [
                    {
                      "colorbar": {
                        "outlinewidth": 0,
                        "ticks": ""
                      },
                      "colorscale": [
                        [
                          0,
                          "#0d0887"
                        ],
                        [
                          0.1111111111111111,
                          "#46039f"
                        ],
                        [
                          0.2222222222222222,
                          "#7201a8"
                        ],
                        [
                          0.3333333333333333,
                          "#9c179e"
                        ],
                        [
                          0.4444444444444444,
                          "#bd3786"
                        ],
                        [
                          0.5555555555555556,
                          "#d8576b"
                        ],
                        [
                          0.6666666666666666,
                          "#ed7953"
                        ],
                        [
                          0.7777777777777778,
                          "#fb9f3a"
                        ],
                        [
                          0.8888888888888888,
                          "#fdca26"
                        ],
                        [
                          1,
                          "#f0f921"
                        ]
                      ],
                      "type": "heatmapgl"
                    }
                  ],
                  "heatmap": [
                    {
                      "colorbar": {
                        "outlinewidth": 0,
                        "ticks": ""
                      },
                      "colorscale": [
                        [
                          0,
                          "#0d0887"
                        ],
                        [
                          0.1111111111111111,
                          "#46039f"
                        ],
                        [
                          0.2222222222222222,
                          "#7201a8"
                        ],
                        [
                          0.3333333333333333,
                          "#9c179e"
                        ],
                        [
                          0.4444444444444444,
                          "#bd3786"
                        ],
                        [
                          0.5555555555555556,
                          "#d8576b"
                        ],
                        [
                          0.6666666666666666,
                          "#ed7953"
                        ],
                        [
                          0.7777777777777778,
                          "#fb9f3a"
                        ],
                        [
                          0.8888888888888888,
                          "#fdca26"
                        ],
                        [
                          1,
                          "#f0f921"
                        ]
                      ],
                      "type": "heatmap"
                    }
                  ],
                  "histogram2dcontour": [
                    {
                      "colorbar": {
                        "outlinewidth": 0,
                        "ticks": ""
                      },
                      "colorscale": [
                        [
                          0,
                          "#0d0887"
                        ],
                        [
                          0.1111111111111111,
                          "#46039f"
                        ],
                        [
                          0.2222222222222222,
                          "#7201a8"
                        ],
                        [
                          0.3333333333333333,
                          "#9c179e"
                        ],
                        [
                          0.4444444444444444,
                          "#bd3786"
                        ],
                        [
                          0.5555555555555556,
                          "#d8576b"
                        ],
                        [
                          0.6666666666666666,
                          "#ed7953"
                        ],
                        [
                          0.7777777777777778,
                          "#fb9f3a"
                        ],
                        [
                          0.8888888888888888,
                          "#fdca26"
                        ],
                        [
                          1,
                          "#f0f921"
                        ]
                      ],
                      "type": "histogram2dcontour"
                    }
                  ],
                  "histogram2d": [
                    {
                      "colorbar": {
                        "outlinewidth": 0,
                        "ticks": ""
                      },
                      "colorscale": [
                        [
                          0,
                          "#0d0887"
                        ],
                        [
                          0.1111111111111111,
                          "#46039f"
                        ],
                        [
                          0.2222222222222222,
                          "#7201a8"
                        ],
                        [
                          0.3333333333333333,
                          "#9c179e"
                        ],
                        [
                          0.4444444444444444,
                          "#bd3786"
                        ],
                        [
                          0.5555555555555556,
                          "#d8576b"
                        ],
                        [
                          0.6666666666666666,
                          "#ed7953"
                        ],
                        [
                          0.7777777777777778,
                          "#fb9f3a"
                        ],
                        [
                          0.8888888888888888,
                          "#fdca26"
                        ],
                        [
                          1,
                          "#f0f921"
                        ]
                      ],
                      "type": "histogram2d"
                    }
                  ],
                  "histogram": [
                    {
                      "marker": {
                        "pattern": {
                          "fillmode": "overlay",
                          "size": 10,
                          "solidity": 0.2
                        }
                      },
                      "type": "histogram"
                    }
                  ],
                  "mesh3d": [
                    {
                      "colorbar": {
                        "outlinewidth": 0,
                        "ticks": ""
                      },
                      "type": "mesh3d"
                    }
                  ],
                  "parcoords": [
                    {
                      "line": {
                        "colorbar": {
                          "outlinewidth": 0,
                          "ticks": ""
                        }
                      },
                      "type": "parcoords"
                    }
                  ],
                  "pie": [
                    {
                      "automargin": true,
                      "type": "pie"
                    }
                  ],
                  "scatter3d": [
                    {
                      "line": {
                        "colorbar": {
                          "outlinewidth": 0,
                          "ticks": ""
                        }
                      },
                      "marker": {
                        "colorbar": {
                          "outlinewidth": 0,
                          "ticks": ""
                        }
                      },
                      "type": "scatter3d"
                    }
                  ],
                  "scattercarpet": [
                    {
                      "marker": {
                        "colorbar": {
                          "outlinewidth": 0,
                          "ticks": ""
                        }
                      },
                      "type": "scattercarpet"
                    }
                  ],
                  "scattergeo": [
                    {
                      "marker": {
                        "colorbar": {
                          "outlinewidth": 0,
                          "ticks": ""
                        }
                      },
                      "type": "scattergeo"
                    }
                  ],
                  "scattergl": [
                    {
                      "marker": {
                        "colorbar": {
                          "outlinewidth": 0,
                          "ticks": ""
                        }
                      },
                      "type": "scattergl"
                    }
                  ],
                  "scattermapbox": [
                    {
                      "marker": {
                        "colorbar": {
                          "outlinewidth": 0,
                          "ticks": ""
                        }
                      },
                      "type": "scattermapbox"
                    }
                  ],
                  "scatterpolargl": [
                    {
                      "marker": {
                        "colorbar": {
                          "outlinewidth": 0,
                          "ticks": ""
                        }
                      },
                      "type": "scatterpolargl"
                    }
                  ],
                  "scatterpolar": [
                    {
                      "marker": {
                        "colorbar": {
                          "outlinewidth": 0,
                          "ticks": ""
                        }
                      },
                      "type": "scatterpolar"
                    }
                  ],
                  "scatter": [
                    {
                      "fillpattern": {
                        "fillmode": "overlay",
                        "size": 10,
                        "solidity": 0.2
                      },
                      "type": "scatter"
                    }
                  ],
                  "scatterternary": [
                    {
                      "marker": {
                        "colorbar": {
                          "outlinewidth": 0,
                          "ticks": ""
                        }
                      },
                      "type": "scatterternary"
                    }
                  ],
                  "surface": [
                    {
                      "colorbar": {
                        "outlinewidth": 0,
                        "ticks": ""
                      },
                      "colorscale": [
                        [
                          0,
                          "#0d0887"
                        ],
                        [
                          0.1111111111111111,
                          "#46039f"
                        ],
                        [
                          0.2222222222222222,
                          "#7201a8"
                        ],
                        [
                          0.3333333333333333,
                          "#9c179e"
                        ],
                        [
                          0.4444444444444444,
                          "#bd3786"
                        ],
                        [
                          0.5555555555555556,
                          "#d8576b"
                        ],
                        [
                          0.6666666666666666,
                          "#ed7953"
                        ],
                        [
                          0.7777777777777778,
                          "#fb9f3a"
                        ],
                        [
                          0.8888888888888888,
                          "#fdca26"
                        ],
                        [
                          1,
                          "#f0f921"
                        ]
                      ],
                      "type": "surface"
                    }
                  ],
                  "table": [
                    {
                      "cells": {
                        "fill": {
                          "color": "#EBF0F8"
                        },
                        "line": {
                          "color": "white"
                        }
                      },
                      "header": {
                        "fill": {
                          "color": "#C8D4E3"
                        },
                        "line": {
                          "color": "white"
                        }
                      },
                      "type": "table"
                    }
                  ]
                },
                "layout": {
                  "annotationdefaults": {
                    "arrowcolor": "#2a3f5f",
                    "arrowhead": 0,
                    "arrowwidth": 1
                  },
                  "autotypenumbers": "strict",
                  "coloraxis": {
                    "colorbar": {
                      "outlinewidth": 0,
                      "ticks": ""
                    }
                  },
                  "colorscale": {
                    "diverging": [
                      [
                        0,
                        "#8e0152"
                      ],
                      [
                        0.1,
                        "#c51b7d"
                      ],
                      [
                        0.2,
                        "#de77ae"
                      ],
                      [
                        0.3,
                        "#f1b6da"
                      ],
                      [
                        0.4,
                        "#fde0ef"
                      ],
                      [
                        0.5,
                        "#f7f7f7"
                      ],
                      [
                        0.6,
                        "#e6f5d0"
                      ],
                      [
                        0.7,
                        "#b8e186"
                      ],
                      [
                        0.8,
                        "#7fbc41"
                      ],
                      [
                        0.9,
                        "#4d9221"
                      ],
                      [
                        1,
                        "#276419"
                      ]
                    ],
                    "sequential": [
                      [
                        0,
                        "#0d0887"
                      ],
                      [
                        0.1111111111111111,
                        "#46039f"
                      ],
                      [
                        0.2222222222222222,
                        "#7201a8"
                      ],
                      [
                        0.3333333333333333,
                        "#9c179e"
                      ],
                      [
                        0.4444444444444444,
                        "#bd3786"
                      ],
                      [
                        0.5555555555555556,
                        "#d8576b"
                      ],
                      [
                        0.6666666666666666,
                        "#ed7953"
                      ],
                      [
                        0.7777777777777778,
                        "#fb9f3a"
                      ],
                      [
                        0.8888888888888888,
                        "#fdca26"
                      ],
                      [
                        1,
                        "#f0f921"
                      ]
                    ],
                    "sequentialminus": [
                      [
                        0,
                        "#0d0887"
                      ],
                      [
                        0.1111111111111111,
                        "#46039f"
                      ],
                      [
                        0.2222222222222222,
                        "#7201a8"
                      ],
                      [
                        0.3333333333333333,
                        "#9c179e"
                      ],
                      [
                        0.4444444444444444,
                        "#bd3786"
                      ],
                      [
                        0.5555555555555556,
                        "#d8576b"
                      ],
                      [
                        0.6666666666666666,
                        "#ed7953"
                      ],
                      [
                        0.7777777777777778,
                        "#fb9f3a"
                      ],
                      [
                        0.8888888888888888,
                        "#fdca26"
                      ],
                      [
                        1,
                        "#f0f921"
                      ]
                    ]
                  },
                  "colorway": [
                    "#636efa",
                    "#EF553B",
                    "#00cc96",
                    "#ab63fa",
                    "#FFA15A",
                    "#19d3f3",
                    "#FF6692",
                    "#B6E880",
                    "#FF97FF",
                    "#FECB52"
                  ],
                  "font": {
                    "color": "#2a3f5f"
                  },
                  "geo": {
                    "bgcolor": "white",
                    "lakecolor": "white",
                    "landcolor": "#E5ECF6",
                    "showlakes": true,
                    "showland": true,
                    "subunitcolor": "white"
                  },
                  "hoverlabel": {
                    "align": "left"
                  },
                  "hovermode": "closest",
                  "mapbox": {
                    "style": "light"
                  },
                  "paper_bgcolor": "white",
                  "plot_bgcolor": "#E5ECF6",
                  "polar": {
                    "angularaxis": {
                      "gridcolor": "white",
                      "linecolor": "white",
                      "ticks": ""
                    },
                    "bgcolor": "#E5ECF6",
                    "radialaxis": {
                      "gridcolor": "white",
                      "linecolor": "white",
                      "ticks": ""
                    }
                  },
                  "scene": {
                    "xaxis": {
                      "backgroundcolor": "#E5ECF6",
                      "gridcolor": "white",
                      "gridwidth": 2,
                      "linecolor": "white",
                      "showbackground": true,
                      "ticks": "",
                      "zerolinecolor": "white"
                    },
                    "yaxis": {
                      "backgroundcolor": "#E5ECF6",
                      "gridcolor": "white",
                      "gridwidth": 2,
                      "linecolor": "white",
                      "showbackground": true,
                      "ticks": "",
                      "zerolinecolor": "white"
                    },
                    "zaxis": {
                      "backgroundcolor": "#E5ECF6",
                      "gridcolor": "white",
                      "gridwidth": 2,
                      "linecolor": "white",
                      "showbackground": true,
                      "ticks": "",
                      "zerolinecolor": "white"
                    }
                  },
                  "shapedefaults": {
                    "line": {
                      "color": "#2a3f5f"
                    }
                  },
                  "ternary": {
                    "aaxis": {
                      "gridcolor": "white",
                      "linecolor": "white",
                      "ticks": ""
                    },
                    "baxis": {
                      "gridcolor": "white",
                      "linecolor": "white",
                      "ticks": ""
                    },
                    "bgcolor": "#E5ECF6",
                    "caxis": {
                      "gridcolor": "white",
                      "linecolor": "white",
                      "ticks": ""
                    }
                  },
                  "title": {
                    "x": 0.05
                  },
                  "xaxis": {
                    "automargin": true,
                    "gridcolor": "white",
                    "linecolor": "white",
                    "ticks": "",
                    "title": {
                      "standoff": 15
                    },
                    "zerolinecolor": "white",
                    "zerolinewidth": 2
                  },
                  "yaxis": {
                    "automargin": true,
                    "gridcolor": "white",
                    "linecolor": "white",
                    "ticks": "",
                    "title": {
                      "standoff": 15
                    },
                    "zerolinecolor": "white",
                    "zerolinewidth": 2
                  }
                }
              },
              "title": {
                "text": "Conductive Material, Sensing Basis and Custom material"
              },
              "width": 700,
              "xaxis": {
                "title": {
                  "text": "Pressure [kPa]"
                },
                "type": "log"
              },
              "yaxis": {
                "title": {
                  "text": "Sensitivity [kPa<sup>-1</sup>]"
                },
                "type": "log"
              }
            },
            "_model_module": "jupyterlab-plotly",
            "_model_module_version": "^5.24.1",
            "_model_name": "FigureModel",
            "_py2js_addTraces": {},
            "_py2js_animate": {},
            "_py2js_deleteTraces": {},
            "_py2js_moveTraces": {},
            "_py2js_relayout": {},
            "_py2js_removeLayoutProps": {},
            "_py2js_removeTraceProps": {},
            "_py2js_restyle": {},
            "_py2js_update": {},
            "_view_count": 1,
            "_view_module": "jupyterlab-plotly",
            "_view_module_version": "^5.24.1",
            "_view_name": "FigureView"
          }
        },
        "6f51bb5048f142dca838034aecefcdc9": {
          "model_module": "@jupyter-widgets/base",
          "model_name": "LayoutModel",
          "model_module_version": "1.2.0",
          "state": {
            "_model_module": "@jupyter-widgets/base",
            "_model_module_version": "1.2.0",
            "_model_name": "LayoutModel",
            "_view_count": null,
            "_view_module": "@jupyter-widgets/base",
            "_view_module_version": "1.2.0",
            "_view_name": "LayoutView",
            "align_content": null,
            "align_items": null,
            "align_self": null,
            "border": null,
            "bottom": null,
            "display": null,
            "flex": null,
            "flex_flow": null,
            "grid_area": null,
            "grid_auto_columns": null,
            "grid_auto_flow": null,
            "grid_auto_rows": null,
            "grid_column": null,
            "grid_gap": null,
            "grid_row": null,
            "grid_template_areas": null,
            "grid_template_columns": null,
            "grid_template_rows": null,
            "height": null,
            "justify_content": null,
            "justify_items": null,
            "left": null,
            "margin": null,
            "max_height": null,
            "max_width": null,
            "min_height": null,
            "min_width": null,
            "object_fit": null,
            "object_position": null,
            "order": null,
            "overflow": null,
            "overflow_x": null,
            "overflow_y": null,
            "padding": null,
            "right": null,
            "top": null,
            "visibility": null,
            "width": null
          }
        },
        "513e4f6d475f4857a9c9d74b55030e21": {
          "model_module": "@jupyter-widgets/controls",
          "model_name": "HBoxModel",
          "model_module_version": "1.5.0",
          "state": {
            "_dom_classes": [],
            "_model_module": "@jupyter-widgets/controls",
            "_model_module_version": "1.5.0",
            "_model_name": "HBoxModel",
            "_view_count": null,
            "_view_module": "@jupyter-widgets/controls",
            "_view_module_version": "1.5.0",
            "_view_name": "HBoxView",
            "box_style": "",
            "children": [
              "IPY_MODEL_78aeb4e479894e5ab39382288cbb9fb8",
              "IPY_MODEL_0b5eff37d57445bfaaf19cf78a797ef4"
            ],
            "layout": "IPY_MODEL_6207dfcca28448f88220f04bb04a031b"
          }
        },
        "78aeb4e479894e5ab39382288cbb9fb8": {
          "model_module": "jupyterlab-plotly",
          "model_name": "FigureModel",
          "model_module_version": "^5.24.1",
          "state": {
            "_config": {
              "plotlyServerURL": "https://plot.ly"
            },
            "_data": [
              {
                "hovertemplate": "DOI: <br>Printing process: FDM</br>Electrical principle: Piezoresistive (Post processing)<extra></extra>",
                "legendgroup": "Piezoresistive",
                "legendgrouptitle": {
                  "text": "Piezoresistive"
                },
                "marker": {
                  "color": "#648fff",
                  "line": {
                    "color": "black",
                    "width": 2
                  },
                  "size": 10,
                  "symbol": "square-open"
                },
                "mode": "markers",
                "name": "FDM",
                "visible": true,
                "x": {
                  "dtype": "float64",
                  "shape": [
                    2
                  ]
                },
                "y": {
                  "dtype": "float64",
                  "shape": [
                    2
                  ]
                },
                "type": "scatter",
                "uid": "5bee4ad0-91ac-43c2-9ba2-08e514a16173"
              },
              {
                "hovertemplate": "DOI: <br>Printing process: FDM</br>Electrical principle: Inductive (Post processing)<extra></extra>",
                "legendgroup": "Inductive",
                "legendgrouptitle": {
                  "text": "Inductive"
                },
                "marker": {
                  "color": "#dc267f",
                  "line": {
                    "color": "black",
                    "width": 2
                  },
                  "size": 10,
                  "symbol": "square-open"
                },
                "mode": "markers",
                "name": "FDM",
                "visible": true,
                "x": {
                  "dtype": "float64",
                  "shape": [
                    2
                  ]
                },
                "y": {
                  "dtype": "float64",
                  "shape": [
                    2
                  ]
                },
                "type": "scatter",
                "uid": "1ad0a113-ddfe-4427-9f10-e7c099812fbb"
              },
              {
                "hovertemplate": "DOI: <br>Printing process: FDM</br>Electrical principle: Frequency (Post processing)<extra></extra>",
                "legendgroup": "Frequency",
                "legendgrouptitle": {
                  "text": "Frequency"
                },
                "marker": {
                  "color": "#fe6100",
                  "line": {
                    "color": "black",
                    "width": 2
                  },
                  "size": 10,
                  "symbol": "square-open"
                },
                "mode": "markers",
                "name": "FDM",
                "visible": true,
                "x": {
                  "dtype": "float64",
                  "shape": [
                    1
                  ]
                },
                "y": {
                  "dtype": "float64",
                  "shape": [
                    1
                  ]
                },
                "type": "scatter",
                "uid": "f7b21fa4-9737-49e9-9e27-cd8324f471ac"
              },
              {
                "hovertemplate": "DOI: <br>Printing process: FDM</br>Electrical principle: Piezoresistive<extra></extra>",
                "legendgroup": "Piezoresistive",
                "legendgrouptitle": {
                  "text": "Piezoresistive"
                },
                "marker": {
                  "color": "#648fff",
                  "line": {
                    "color": "black",
                    "width": 2
                  },
                  "size": 10,
                  "symbol": "square"
                },
                "mode": "markers",
                "name": "FDM",
                "visible": true,
                "x": {
                  "dtype": "float64",
                  "shape": [
                    9
                  ]
                },
                "y": {
                  "dtype": "float64",
                  "shape": [
                    9
                  ]
                },
                "type": "scatter",
                "uid": "46129645-095f-4f03-a1c9-f83dd53913a0"
              },
              {
                "hovertemplate": "DOI: <br>Printing process: DIW</br>Electrical principle: Piezoresistive<extra></extra>",
                "legendgroup": "Piezoresistive",
                "legendgrouptitle": {
                  "text": "Piezoresistive"
                },
                "marker": {
                  "color": "#648fff",
                  "line": {
                    "color": "black",
                    "width": 2
                  },
                  "size": 10,
                  "symbol": "triangle-up"
                },
                "mode": "markers",
                "name": "DIW",
                "visible": true,
                "x": {
                  "dtype": "float64",
                  "shape": [
                    4
                  ]
                },
                "y": {
                  "dtype": "float64",
                  "shape": [
                    4
                  ]
                },
                "type": "scatter",
                "uid": "ff96849d-8801-4a2a-801b-90c41006a534"
              },
              {
                "hovertemplate": "DOI: <br>Printing process: FDM/DIW</br>Electrical principle: Piezoresistive<extra></extra>",
                "legendgroup": "Piezoresistive",
                "legendgrouptitle": {
                  "text": "Piezoresistive"
                },
                "marker": {
                  "color": "#648fff",
                  "line": {
                    "color": "black",
                    "width": 2
                  },
                  "size": 10,
                  "symbol": "circle"
                },
                "mode": "markers",
                "name": "FDM/DIW",
                "visible": true,
                "x": {
                  "dtype": "float64",
                  "shape": [
                    2
                  ]
                },
                "y": {
                  "dtype": "float64",
                  "shape": [
                    2
                  ]
                },
                "type": "scatter",
                "uid": "5c5a86ce-1d07-46cd-8d95-e25b8e10c8b8"
              },
              {
                "hovertemplate": "DOI: <br>Printing process: AJP</br>Electrical principle: Piezoresistive<extra></extra>",
                "legendgroup": "Piezoresistive",
                "legendgrouptitle": {
                  "text": "Piezoresistive"
                },
                "marker": {
                  "color": "#648fff",
                  "line": {
                    "color": "black",
                    "width": 2
                  },
                  "size": 10,
                  "symbol": "triangle-down"
                },
                "mode": "markers",
                "name": "AJP",
                "visible": true,
                "x": {
                  "dtype": "float64",
                  "shape": [
                    4
                  ]
                },
                "y": {
                  "dtype": "float64",
                  "shape": [
                    4
                  ]
                },
                "type": "scatter",
                "uid": "b7bf1cf1-0762-4b8f-8ad3-76e11afaebcf"
              },
              {
                "hovertemplate": "DOI: <br>Printing process: DLP</br>Electrical principle: Piezoresistive<extra></extra>",
                "legendgroup": "Piezoresistive",
                "legendgrouptitle": {
                  "text": "Piezoresistive"
                },
                "marker": {
                  "color": "#648fff",
                  "line": {
                    "color": "black",
                    "width": 2
                  },
                  "size": 10,
                  "symbol": "pentagon"
                },
                "mode": "markers",
                "name": "DLP",
                "visible": true,
                "x": {
                  "dtype": "float64",
                  "shape": [
                    2
                  ]
                },
                "y": {
                  "dtype": "float64",
                  "shape": [
                    2
                  ]
                },
                "type": "scatter",
                "uid": "6c90a00b-413b-4170-8207-caaca5e7aef6"
              },
              {
                "hovertemplate": "DOI: <br>Printing process: DLP</br>Electrical principle: Capacitive<extra></extra>",
                "legendgroup": "Capacitive",
                "legendgrouptitle": {
                  "text": "Capacitive"
                },
                "marker": {
                  "color": "#785ef0",
                  "line": {
                    "color": "black",
                    "width": 2
                  },
                  "size": 10,
                  "symbol": "pentagon"
                },
                "mode": "markers",
                "name": "DLP",
                "visible": true,
                "x": {
                  "dtype": "float64",
                  "shape": [
                    1
                  ]
                },
                "y": {
                  "dtype": "float64",
                  "shape": [
                    1
                  ]
                },
                "type": "scatter",
                "uid": "026ff0ad-d94a-47cb-945c-ece748879dd7"
              },
              {
                "hovertemplate": "DOI: <br>Printing process: DLP</br>Electrical principle: Piezoresistive (Post processing)<extra></extra>",
                "legendgroup": "Piezoresistive",
                "legendgrouptitle": {
                  "text": "Piezoresistive"
                },
                "marker": {
                  "color": "#648fff",
                  "line": {
                    "color": "black",
                    "width": 2
                  },
                  "size": 10,
                  "symbol": "pentagon-open"
                },
                "mode": "markers",
                "name": "DLP",
                "visible": true,
                "x": {
                  "dtype": "float64",
                  "shape": [
                    1
                  ]
                },
                "y": {
                  "dtype": "float64",
                  "shape": [
                    1
                  ]
                },
                "type": "scatter",
                "uid": "411df8f1-458b-48fd-a62e-04bc2bca34fc"
              },
              {
                "hovertemplate": "DOI: <br>Printing process: SLS</br>Electrical principle: Piezoresistive (Post processing)<extra></extra>",
                "legendgroup": "Piezoresistive",
                "legendgrouptitle": {
                  "text": "Piezoresistive"
                },
                "marker": {
                  "color": "#648fff",
                  "line": {
                    "color": "black",
                    "width": 2
                  },
                  "size": 10,
                  "symbol": "hexagon-open"
                },
                "mode": "markers",
                "name": "SLS",
                "visible": true,
                "x": {
                  "dtype": "float64",
                  "shape": [
                    1
                  ]
                },
                "y": {
                  "dtype": "float64",
                  "shape": [
                    1
                  ]
                },
                "type": "scatter",
                "uid": "bfdbf61a-ca76-4f84-96b8-ff4c0283da64"
              },
              {
                "hovertemplate": "DOI: <br>Printing process: SLA</br>Electrical principle: Inductive (Post processing)<extra></extra>",
                "legendgroup": "Inductive",
                "legendgrouptitle": {
                  "text": "Inductive"
                },
                "marker": {
                  "color": "#dc267f",
                  "line": {
                    "color": "black",
                    "width": 2
                  },
                  "size": 10,
                  "symbol": "diamond-open"
                },
                "mode": "markers",
                "name": "SLA",
                "visible": true,
                "x": {
                  "dtype": "float64",
                  "shape": [
                    1
                  ]
                },
                "y": {
                  "dtype": "float64",
                  "shape": [
                    1
                  ]
                },
                "type": "scatter",
                "uid": "fb03894c-e70f-41ea-a4e3-fb4e20517da7"
              }
            ],
            "_dom_classes": [],
            "_js2py_layoutDelta": null,
            "_js2py_pointsCallback": {},
            "_js2py_relayout": {},
            "_js2py_restyle": {},
            "_js2py_traceDeltas": null,
            "_js2py_update": {},
            "_last_layout_edit_id": 0,
            "_last_trace_edit_id": 0,
            "_layout": {
              "height": 700,
              "legend": {
                "entrywidth": 0.23,
                "entrywidthmode": "fraction",
                "groupclick": "toggleitem",
                "orientation": "h",
                "tracegroupgap": 150,
                "y": -0.12,
                "yanchor": "top"
              },
              "margin": {
                "autoexpand": false,
                "b": 250
              },
              "template": {
                "data": {
                  "barpolar": [
                    {
                      "marker": {
                        "line": {
                          "color": "#E5ECF6",
                          "width": 0.5
                        },
                        "pattern": {
                          "fillmode": "overlay",
                          "size": 10,
                          "solidity": 0.2
                        }
                      },
                      "type": "barpolar"
                    }
                  ],
                  "bar": [
                    {
                      "error_x": {
                        "color": "#2a3f5f"
                      },
                      "error_y": {
                        "color": "#2a3f5f"
                      },
                      "marker": {
                        "line": {
                          "color": "#E5ECF6",
                          "width": 0.5
                        },
                        "pattern": {
                          "fillmode": "overlay",
                          "size": 10,
                          "solidity": 0.2
                        }
                      },
                      "type": "bar"
                    }
                  ],
                  "carpet": [
                    {
                      "aaxis": {
                        "endlinecolor": "#2a3f5f",
                        "gridcolor": "white",
                        "linecolor": "white",
                        "minorgridcolor": "white",
                        "startlinecolor": "#2a3f5f"
                      },
                      "baxis": {
                        "endlinecolor": "#2a3f5f",
                        "gridcolor": "white",
                        "linecolor": "white",
                        "minorgridcolor": "white",
                        "startlinecolor": "#2a3f5f"
                      },
                      "type": "carpet"
                    }
                  ],
                  "choropleth": [
                    {
                      "colorbar": {
                        "outlinewidth": 0,
                        "ticks": ""
                      },
                      "type": "choropleth"
                    }
                  ],
                  "contourcarpet": [
                    {
                      "colorbar": {
                        "outlinewidth": 0,
                        "ticks": ""
                      },
                      "type": "contourcarpet"
                    }
                  ],
                  "contour": [
                    {
                      "colorbar": {
                        "outlinewidth": 0,
                        "ticks": ""
                      },
                      "colorscale": [
                        [
                          0,
                          "#0d0887"
                        ],
                        [
                          0.1111111111111111,
                          "#46039f"
                        ],
                        [
                          0.2222222222222222,
                          "#7201a8"
                        ],
                        [
                          0.3333333333333333,
                          "#9c179e"
                        ],
                        [
                          0.4444444444444444,
                          "#bd3786"
                        ],
                        [
                          0.5555555555555556,
                          "#d8576b"
                        ],
                        [
                          0.6666666666666666,
                          "#ed7953"
                        ],
                        [
                          0.7777777777777778,
                          "#fb9f3a"
                        ],
                        [
                          0.8888888888888888,
                          "#fdca26"
                        ],
                        [
                          1,
                          "#f0f921"
                        ]
                      ],
                      "type": "contour"
                    }
                  ],
                  "heatmapgl": [
                    {
                      "colorbar": {
                        "outlinewidth": 0,
                        "ticks": ""
                      },
                      "colorscale": [
                        [
                          0,
                          "#0d0887"
                        ],
                        [
                          0.1111111111111111,
                          "#46039f"
                        ],
                        [
                          0.2222222222222222,
                          "#7201a8"
                        ],
                        [
                          0.3333333333333333,
                          "#9c179e"
                        ],
                        [
                          0.4444444444444444,
                          "#bd3786"
                        ],
                        [
                          0.5555555555555556,
                          "#d8576b"
                        ],
                        [
                          0.6666666666666666,
                          "#ed7953"
                        ],
                        [
                          0.7777777777777778,
                          "#fb9f3a"
                        ],
                        [
                          0.8888888888888888,
                          "#fdca26"
                        ],
                        [
                          1,
                          "#f0f921"
                        ]
                      ],
                      "type": "heatmapgl"
                    }
                  ],
                  "heatmap": [
                    {
                      "colorbar": {
                        "outlinewidth": 0,
                        "ticks": ""
                      },
                      "colorscale": [
                        [
                          0,
                          "#0d0887"
                        ],
                        [
                          0.1111111111111111,
                          "#46039f"
                        ],
                        [
                          0.2222222222222222,
                          "#7201a8"
                        ],
                        [
                          0.3333333333333333,
                          "#9c179e"
                        ],
                        [
                          0.4444444444444444,
                          "#bd3786"
                        ],
                        [
                          0.5555555555555556,
                          "#d8576b"
                        ],
                        [
                          0.6666666666666666,
                          "#ed7953"
                        ],
                        [
                          0.7777777777777778,
                          "#fb9f3a"
                        ],
                        [
                          0.8888888888888888,
                          "#fdca26"
                        ],
                        [
                          1,
                          "#f0f921"
                        ]
                      ],
                      "type": "heatmap"
                    }
                  ],
                  "histogram2dcontour": [
                    {
                      "colorbar": {
                        "outlinewidth": 0,
                        "ticks": ""
                      },
                      "colorscale": [
                        [
                          0,
                          "#0d0887"
                        ],
                        [
                          0.1111111111111111,
                          "#46039f"
                        ],
                        [
                          0.2222222222222222,
                          "#7201a8"
                        ],
                        [
                          0.3333333333333333,
                          "#9c179e"
                        ],
                        [
                          0.4444444444444444,
                          "#bd3786"
                        ],
                        [
                          0.5555555555555556,
                          "#d8576b"
                        ],
                        [
                          0.6666666666666666,
                          "#ed7953"
                        ],
                        [
                          0.7777777777777778,
                          "#fb9f3a"
                        ],
                        [
                          0.8888888888888888,
                          "#fdca26"
                        ],
                        [
                          1,
                          "#f0f921"
                        ]
                      ],
                      "type": "histogram2dcontour"
                    }
                  ],
                  "histogram2d": [
                    {
                      "colorbar": {
                        "outlinewidth": 0,
                        "ticks": ""
                      },
                      "colorscale": [
                        [
                          0,
                          "#0d0887"
                        ],
                        [
                          0.1111111111111111,
                          "#46039f"
                        ],
                        [
                          0.2222222222222222,
                          "#7201a8"
                        ],
                        [
                          0.3333333333333333,
                          "#9c179e"
                        ],
                        [
                          0.4444444444444444,
                          "#bd3786"
                        ],
                        [
                          0.5555555555555556,
                          "#d8576b"
                        ],
                        [
                          0.6666666666666666,
                          "#ed7953"
                        ],
                        [
                          0.7777777777777778,
                          "#fb9f3a"
                        ],
                        [
                          0.8888888888888888,
                          "#fdca26"
                        ],
                        [
                          1,
                          "#f0f921"
                        ]
                      ],
                      "type": "histogram2d"
                    }
                  ],
                  "histogram": [
                    {
                      "marker": {
                        "pattern": {
                          "fillmode": "overlay",
                          "size": 10,
                          "solidity": 0.2
                        }
                      },
                      "type": "histogram"
                    }
                  ],
                  "mesh3d": [
                    {
                      "colorbar": {
                        "outlinewidth": 0,
                        "ticks": ""
                      },
                      "type": "mesh3d"
                    }
                  ],
                  "parcoords": [
                    {
                      "line": {
                        "colorbar": {
                          "outlinewidth": 0,
                          "ticks": ""
                        }
                      },
                      "type": "parcoords"
                    }
                  ],
                  "pie": [
                    {
                      "automargin": true,
                      "type": "pie"
                    }
                  ],
                  "scatter3d": [
                    {
                      "line": {
                        "colorbar": {
                          "outlinewidth": 0,
                          "ticks": ""
                        }
                      },
                      "marker": {
                        "colorbar": {
                          "outlinewidth": 0,
                          "ticks": ""
                        }
                      },
                      "type": "scatter3d"
                    }
                  ],
                  "scattercarpet": [
                    {
                      "marker": {
                        "colorbar": {
                          "outlinewidth": 0,
                          "ticks": ""
                        }
                      },
                      "type": "scattercarpet"
                    }
                  ],
                  "scattergeo": [
                    {
                      "marker": {
                        "colorbar": {
                          "outlinewidth": 0,
                          "ticks": ""
                        }
                      },
                      "type": "scattergeo"
                    }
                  ],
                  "scattergl": [
                    {
                      "marker": {
                        "colorbar": {
                          "outlinewidth": 0,
                          "ticks": ""
                        }
                      },
                      "type": "scattergl"
                    }
                  ],
                  "scattermapbox": [
                    {
                      "marker": {
                        "colorbar": {
                          "outlinewidth": 0,
                          "ticks": ""
                        }
                      },
                      "type": "scattermapbox"
                    }
                  ],
                  "scatterpolargl": [
                    {
                      "marker": {
                        "colorbar": {
                          "outlinewidth": 0,
                          "ticks": ""
                        }
                      },
                      "type": "scatterpolargl"
                    }
                  ],
                  "scatterpolar": [
                    {
                      "marker": {
                        "colorbar": {
                          "outlinewidth": 0,
                          "ticks": ""
                        }
                      },
                      "type": "scatterpolar"
                    }
                  ],
                  "scatter": [
                    {
                      "fillpattern": {
                        "fillmode": "overlay",
                        "size": 10,
                        "solidity": 0.2
                      },
                      "type": "scatter"
                    }
                  ],
                  "scatterternary": [
                    {
                      "marker": {
                        "colorbar": {
                          "outlinewidth": 0,
                          "ticks": ""
                        }
                      },
                      "type": "scatterternary"
                    }
                  ],
                  "surface": [
                    {
                      "colorbar": {
                        "outlinewidth": 0,
                        "ticks": ""
                      },
                      "colorscale": [
                        [
                          0,
                          "#0d0887"
                        ],
                        [
                          0.1111111111111111,
                          "#46039f"
                        ],
                        [
                          0.2222222222222222,
                          "#7201a8"
                        ],
                        [
                          0.3333333333333333,
                          "#9c179e"
                        ],
                        [
                          0.4444444444444444,
                          "#bd3786"
                        ],
                        [
                          0.5555555555555556,
                          "#d8576b"
                        ],
                        [
                          0.6666666666666666,
                          "#ed7953"
                        ],
                        [
                          0.7777777777777778,
                          "#fb9f3a"
                        ],
                        [
                          0.8888888888888888,
                          "#fdca26"
                        ],
                        [
                          1,
                          "#f0f921"
                        ]
                      ],
                      "type": "surface"
                    }
                  ],
                  "table": [
                    {
                      "cells": {
                        "fill": {
                          "color": "#EBF0F8"
                        },
                        "line": {
                          "color": "white"
                        }
                      },
                      "header": {
                        "fill": {
                          "color": "#C8D4E3"
                        },
                        "line": {
                          "color": "white"
                        }
                      },
                      "type": "table"
                    }
                  ]
                },
                "layout": {
                  "annotationdefaults": {
                    "arrowcolor": "#2a3f5f",
                    "arrowhead": 0,
                    "arrowwidth": 1
                  },
                  "autotypenumbers": "strict",
                  "coloraxis": {
                    "colorbar": {
                      "outlinewidth": 0,
                      "ticks": ""
                    }
                  },
                  "colorscale": {
                    "diverging": [
                      [
                        0,
                        "#8e0152"
                      ],
                      [
                        0.1,
                        "#c51b7d"
                      ],
                      [
                        0.2,
                        "#de77ae"
                      ],
                      [
                        0.3,
                        "#f1b6da"
                      ],
                      [
                        0.4,
                        "#fde0ef"
                      ],
                      [
                        0.5,
                        "#f7f7f7"
                      ],
                      [
                        0.6,
                        "#e6f5d0"
                      ],
                      [
                        0.7,
                        "#b8e186"
                      ],
                      [
                        0.8,
                        "#7fbc41"
                      ],
                      [
                        0.9,
                        "#4d9221"
                      ],
                      [
                        1,
                        "#276419"
                      ]
                    ],
                    "sequential": [
                      [
                        0,
                        "#0d0887"
                      ],
                      [
                        0.1111111111111111,
                        "#46039f"
                      ],
                      [
                        0.2222222222222222,
                        "#7201a8"
                      ],
                      [
                        0.3333333333333333,
                        "#9c179e"
                      ],
                      [
                        0.4444444444444444,
                        "#bd3786"
                      ],
                      [
                        0.5555555555555556,
                        "#d8576b"
                      ],
                      [
                        0.6666666666666666,
                        "#ed7953"
                      ],
                      [
                        0.7777777777777778,
                        "#fb9f3a"
                      ],
                      [
                        0.8888888888888888,
                        "#fdca26"
                      ],
                      [
                        1,
                        "#f0f921"
                      ]
                    ],
                    "sequentialminus": [
                      [
                        0,
                        "#0d0887"
                      ],
                      [
                        0.1111111111111111,
                        "#46039f"
                      ],
                      [
                        0.2222222222222222,
                        "#7201a8"
                      ],
                      [
                        0.3333333333333333,
                        "#9c179e"
                      ],
                      [
                        0.4444444444444444,
                        "#bd3786"
                      ],
                      [
                        0.5555555555555556,
                        "#d8576b"
                      ],
                      [
                        0.6666666666666666,
                        "#ed7953"
                      ],
                      [
                        0.7777777777777778,
                        "#fb9f3a"
                      ],
                      [
                        0.8888888888888888,
                        "#fdca26"
                      ],
                      [
                        1,
                        "#f0f921"
                      ]
                    ]
                  },
                  "colorway": [
                    "#636efa",
                    "#EF553B",
                    "#00cc96",
                    "#ab63fa",
                    "#FFA15A",
                    "#19d3f3",
                    "#FF6692",
                    "#B6E880",
                    "#FF97FF",
                    "#FECB52"
                  ],
                  "font": {
                    "color": "#2a3f5f"
                  },
                  "geo": {
                    "bgcolor": "white",
                    "lakecolor": "white",
                    "landcolor": "#E5ECF6",
                    "showlakes": true,
                    "showland": true,
                    "subunitcolor": "white"
                  },
                  "hoverlabel": {
                    "align": "left"
                  },
                  "hovermode": "closest",
                  "mapbox": {
                    "style": "light"
                  },
                  "paper_bgcolor": "white",
                  "plot_bgcolor": "#E5ECF6",
                  "polar": {
                    "angularaxis": {
                      "gridcolor": "white",
                      "linecolor": "white",
                      "ticks": ""
                    },
                    "bgcolor": "#E5ECF6",
                    "radialaxis": {
                      "gridcolor": "white",
                      "linecolor": "white",
                      "ticks": ""
                    }
                  },
                  "scene": {
                    "xaxis": {
                      "backgroundcolor": "#E5ECF6",
                      "gridcolor": "white",
                      "gridwidth": 2,
                      "linecolor": "white",
                      "showbackground": true,
                      "ticks": "",
                      "zerolinecolor": "white"
                    },
                    "yaxis": {
                      "backgroundcolor": "#E5ECF6",
                      "gridcolor": "white",
                      "gridwidth": 2,
                      "linecolor": "white",
                      "showbackground": true,
                      "ticks": "",
                      "zerolinecolor": "white"
                    },
                    "zaxis": {
                      "backgroundcolor": "#E5ECF6",
                      "gridcolor": "white",
                      "gridwidth": 2,
                      "linecolor": "white",
                      "showbackground": true,
                      "ticks": "",
                      "zerolinecolor": "white"
                    }
                  },
                  "shapedefaults": {
                    "line": {
                      "color": "#2a3f5f"
                    }
                  },
                  "ternary": {
                    "aaxis": {
                      "gridcolor": "white",
                      "linecolor": "white",
                      "ticks": ""
                    },
                    "baxis": {
                      "gridcolor": "white",
                      "linecolor": "white",
                      "ticks": ""
                    },
                    "bgcolor": "#E5ECF6",
                    "caxis": {
                      "gridcolor": "white",
                      "linecolor": "white",
                      "ticks": ""
                    }
                  },
                  "title": {
                    "x": 0.05
                  },
                  "xaxis": {
                    "automargin": true,
                    "gridcolor": "white",
                    "linecolor": "white",
                    "ticks": "",
                    "title": {
                      "standoff": 15
                    },
                    "zerolinecolor": "white",
                    "zerolinewidth": 2
                  },
                  "yaxis": {
                    "automargin": true,
                    "gridcolor": "white",
                    "linecolor": "white",
                    "ticks": "",
                    "title": {
                      "standoff": 15
                    },
                    "zerolinecolor": "white",
                    "zerolinewidth": 2
                  }
                }
              },
              "title": {
                "text": "Printing process, Electrical principle and Direct printing"
              },
              "width": 700,
              "xaxis": {
                "title": {
                  "text": "Strain"
                },
                "type": "log"
              },
              "yaxis": {
                "title": {
                  "text": "Gauge factor"
                },
                "type": "log"
              }
            },
            "_model_module": "jupyterlab-plotly",
            "_model_module_version": "^5.24.1",
            "_model_name": "FigureModel",
            "_py2js_addTraces": {},
            "_py2js_animate": {},
            "_py2js_deleteTraces": {},
            "_py2js_moveTraces": {},
            "_py2js_relayout": {},
            "_py2js_removeLayoutProps": {},
            "_py2js_removeTraceProps": {},
            "_py2js_restyle": {},
            "_py2js_update": {},
            "_view_count": 1,
            "_view_module": "jupyterlab-plotly",
            "_view_module_version": "^5.24.1",
            "_view_name": "FigureView"
          }
        },
        "0b5eff37d57445bfaaf19cf78a797ef4": {
          "model_module": "jupyterlab-plotly",
          "model_name": "FigureModel",
          "model_module_version": "^5.24.1",
          "state": {
            "_config": {
              "plotlyServerURL": "https://plot.ly"
            },
            "_data": [
              {
                "hovertemplate": "DOI: <br>Sensing basis: Auxetic</br>Material: Carbon (Custom)<extra></extra>",
                "legendgroup": "Carbon",
                "legendgrouptitle": {
                  "text": "Carbon"
                },
                "marker": {
                  "color": "#648fff",
                  "line": {
                    "color": "black",
                    "width": 2
                  },
                  "size": 10,
                  "symbol": "triangle-up-open"
                },
                "mode": "markers",
                "name": "Auxetic",
                "visible": true,
                "x": {
                  "dtype": "float64",
                  "shape": [
                    2
                  ]
                },
                "y": {
                  "dtype": "float64",
                  "shape": [
                    2
                  ]
                },
                "type": "scatter",
                "uid": "67b8c915-7983-4929-a87b-e04faf5f4932"
              },
              {
                "hovertemplate": "DOI: <br>Sensing basis: Material</br>Material: Carbon (Custom)<extra></extra>",
                "legendgroup": "Carbon",
                "legendgrouptitle": {
                  "text": "Carbon"
                },
                "marker": {
                  "color": "#648fff",
                  "line": {
                    "color": "black",
                    "width": 2
                  },
                  "size": 10,
                  "symbol": "square-open"
                },
                "mode": "markers",
                "name": "Material",
                "visible": true,
                "x": {
                  "dtype": "float64",
                  "shape": [
                    11
                  ]
                },
                "y": {
                  "dtype": "float64",
                  "shape": [
                    11
                  ]
                },
                "type": "scatter",
                "uid": "b4ee7364-4648-4b3b-9c85-7c94ac651560"
              },
              {
                "hovertemplate": "DOI: <br>Sensing basis: Material</br>Material: Metal (Custom)<extra></extra>",
                "legendgroup": "Metal",
                "legendgrouptitle": {
                  "text": "Metal"
                },
                "marker": {
                  "color": "#785ef0",
                  "line": {
                    "color": "black",
                    "width": 2
                  },
                  "size": 10,
                  "symbol": "square-open"
                },
                "mode": "markers",
                "name": "Material",
                "visible": true,
                "x": {
                  "dtype": "float64",
                  "shape": [
                    2
                  ]
                },
                "y": {
                  "dtype": "float64",
                  "shape": [
                    2
                  ]
                },
                "type": "scatter",
                "uid": "6d234742-da94-41b9-94c9-37d37aa42fba"
              },
              {
                "hovertemplate": "DOI: <br>Sensing basis: Material</br>Material: Carbon<extra></extra>",
                "legendgroup": "Carbon",
                "legendgrouptitle": {
                  "text": "Carbon"
                },
                "marker": {
                  "color": "#648fff",
                  "line": {
                    "color": "black",
                    "width": 2
                  },
                  "size": 10,
                  "symbol": "square"
                },
                "mode": "markers",
                "name": "Material",
                "visible": true,
                "x": {
                  "dtype": "float64",
                  "shape": [
                    3
                  ]
                },
                "y": {
                  "dtype": "float64",
                  "shape": [
                    3
                  ]
                },
                "type": "scatter",
                "uid": "52c3f809-d2c9-4cca-b33e-7927ce847643"
              },
              {
                "hovertemplate": "DOI: <br>Sensing basis: Material</br>Material: Metal<extra></extra>",
                "legendgroup": "Metal",
                "legendgrouptitle": {
                  "text": "Metal"
                },
                "marker": {
                  "color": "#785ef0",
                  "line": {
                    "color": "black",
                    "width": 2
                  },
                  "size": 10,
                  "symbol": "square"
                },
                "mode": "markers",
                "name": "Material",
                "visible": true,
                "x": {
                  "dtype": "float64",
                  "shape": [
                    1
                  ]
                },
                "y": {
                  "dtype": "float64",
                  "shape": [
                    1
                  ]
                },
                "type": "scatter",
                "uid": "d0ddee9b-1eff-4903-81fc-0b5a274f24ea"
              },
              {
                "hovertemplate": "DOI: <br>Sensing basis: Material</br>Material: Wire<extra></extra>",
                "legendgroup": "Wire",
                "legendgrouptitle": {
                  "text": "Wire"
                },
                "marker": {
                  "color": "#fe6100",
                  "line": {
                    "color": "black",
                    "width": 2
                  },
                  "size": 10,
                  "symbol": "square"
                },
                "mode": "markers",
                "name": "Material",
                "visible": true,
                "x": {
                  "dtype": "float64",
                  "shape": [
                    1
                  ]
                },
                "y": {
                  "dtype": "float64",
                  "shape": [
                    1
                  ]
                },
                "type": "scatter",
                "uid": "71877d21-662c-47b1-a585-119b5e90e469"
              },
              {
                "hovertemplate": "DOI: <br>Sensing basis: Porous</br>Material: Carbon (Custom)<extra></extra>",
                "legendgroup": "Carbon",
                "legendgrouptitle": {
                  "text": "Carbon"
                },
                "marker": {
                  "color": "#648fff",
                  "line": {
                    "color": "black",
                    "width": 2
                  },
                  "size": 10,
                  "symbol": "triangle-down-open"
                },
                "mode": "markers",
                "name": "Porous",
                "visible": true,
                "x": {
                  "dtype": "float64",
                  "shape": [
                    4
                  ]
                },
                "y": {
                  "dtype": "float64",
                  "shape": [
                    4
                  ]
                },
                "type": "scatter",
                "uid": "0f040d75-e854-4944-a1cf-098f5129af55"
              },
              {
                "hovertemplate": "DOI: <br>Sensing basis: Microcracks</br>Material: Carbon (Custom)<extra></extra>",
                "legendgroup": "Carbon",
                "legendgrouptitle": {
                  "text": "Carbon"
                },
                "marker": {
                  "color": "#648fff",
                  "line": {
                    "color": "black",
                    "width": 2
                  },
                  "size": 10,
                  "symbol": "diamond-open"
                },
                "mode": "markers",
                "name": "Microcracks",
                "visible": true,
                "x": {
                  "dtype": "float64",
                  "shape": [
                    1
                  ]
                },
                "y": {
                  "dtype": "float64",
                  "shape": [
                    1
                  ]
                },
                "type": "scatter",
                "uid": "da5129c3-2573-480c-aa68-c8c1a047d8f8"
              },
              {
                "hovertemplate": "DOI: <br>Sensing basis: Displacement</br>Material: Carbon (Custom)<extra></extra>",
                "legendgroup": "Carbon",
                "legendgrouptitle": {
                  "text": "Carbon"
                },
                "marker": {
                  "color": "#648fff",
                  "line": {
                    "color": "black",
                    "width": 2
                  },
                  "size": 10,
                  "symbol": "pentagon-open"
                },
                "mode": "markers",
                "name": "Displacement",
                "visible": true,
                "x": {
                  "dtype": "float64",
                  "shape": [
                    1
                  ]
                },
                "y": {
                  "dtype": "float64",
                  "shape": [
                    1
                  ]
                },
                "type": "scatter",
                "uid": "83f767fc-e763-489f-8d9c-78ba222e8528"
              },
              {
                "hovertemplate": "DOI: <br>Sensing basis: Alignment</br>Material: Wire<extra></extra>",
                "legendgroup": "Wire",
                "legendgrouptitle": {
                  "text": "Wire"
                },
                "marker": {
                  "color": "#fe6100",
                  "line": {
                    "color": "black",
                    "width": 2
                  },
                  "size": 10,
                  "symbol": "hexagon"
                },
                "mode": "markers",
                "name": "Alignment",
                "visible": true,
                "x": {
                  "dtype": "float64",
                  "shape": [
                    3
                  ]
                },
                "y": {
                  "dtype": "float64",
                  "shape": [
                    3
                  ]
                },
                "type": "scatter",
                "uid": "7db454dd-faa7-48fe-ad4e-cb8fb5d1532b"
              },
              {
                "hovertemplate": "DOI: <br>Sensing basis: Displacement</br>Material: Wire<extra></extra>",
                "legendgroup": "Wire",
                "legendgrouptitle": {
                  "text": "Wire"
                },
                "marker": {
                  "color": "#fe6100",
                  "line": {
                    "color": "black",
                    "width": 2
                  },
                  "size": 10,
                  "symbol": "pentagon"
                },
                "mode": "markers",
                "name": "Displacement",
                "visible": true,
                "x": {
                  "dtype": "float64",
                  "shape": [
                    1
                  ]
                },
                "y": {
                  "dtype": "float64",
                  "shape": [
                    1
                  ]
                },
                "type": "scatter",
                "uid": "e3de4102-aabb-4397-baf0-55bac200e597"
              }
            ],
            "_dom_classes": [],
            "_js2py_layoutDelta": null,
            "_js2py_pointsCallback": null,
            "_js2py_relayout": {},
            "_js2py_restyle": {},
            "_js2py_traceDeltas": null,
            "_js2py_update": {},
            "_last_layout_edit_id": 0,
            "_last_trace_edit_id": 0,
            "_layout": {
              "height": 700,
              "legend": {
                "entrywidth": 0.23,
                "entrywidthmode": "fraction",
                "groupclick": "toggleitem",
                "orientation": "h",
                "tracegroupgap": 150,
                "y": -0.12,
                "yanchor": "top"
              },
              "margin": {
                "autoexpand": false,
                "b": 250
              },
              "template": {
                "data": {
                  "barpolar": [
                    {
                      "marker": {
                        "line": {
                          "color": "#E5ECF6",
                          "width": 0.5
                        },
                        "pattern": {
                          "fillmode": "overlay",
                          "size": 10,
                          "solidity": 0.2
                        }
                      },
                      "type": "barpolar"
                    }
                  ],
                  "bar": [
                    {
                      "error_x": {
                        "color": "#2a3f5f"
                      },
                      "error_y": {
                        "color": "#2a3f5f"
                      },
                      "marker": {
                        "line": {
                          "color": "#E5ECF6",
                          "width": 0.5
                        },
                        "pattern": {
                          "fillmode": "overlay",
                          "size": 10,
                          "solidity": 0.2
                        }
                      },
                      "type": "bar"
                    }
                  ],
                  "carpet": [
                    {
                      "aaxis": {
                        "endlinecolor": "#2a3f5f",
                        "gridcolor": "white",
                        "linecolor": "white",
                        "minorgridcolor": "white",
                        "startlinecolor": "#2a3f5f"
                      },
                      "baxis": {
                        "endlinecolor": "#2a3f5f",
                        "gridcolor": "white",
                        "linecolor": "white",
                        "minorgridcolor": "white",
                        "startlinecolor": "#2a3f5f"
                      },
                      "type": "carpet"
                    }
                  ],
                  "choropleth": [
                    {
                      "colorbar": {
                        "outlinewidth": 0,
                        "ticks": ""
                      },
                      "type": "choropleth"
                    }
                  ],
                  "contourcarpet": [
                    {
                      "colorbar": {
                        "outlinewidth": 0,
                        "ticks": ""
                      },
                      "type": "contourcarpet"
                    }
                  ],
                  "contour": [
                    {
                      "colorbar": {
                        "outlinewidth": 0,
                        "ticks": ""
                      },
                      "colorscale": [
                        [
                          0,
                          "#0d0887"
                        ],
                        [
                          0.1111111111111111,
                          "#46039f"
                        ],
                        [
                          0.2222222222222222,
                          "#7201a8"
                        ],
                        [
                          0.3333333333333333,
                          "#9c179e"
                        ],
                        [
                          0.4444444444444444,
                          "#bd3786"
                        ],
                        [
                          0.5555555555555556,
                          "#d8576b"
                        ],
                        [
                          0.6666666666666666,
                          "#ed7953"
                        ],
                        [
                          0.7777777777777778,
                          "#fb9f3a"
                        ],
                        [
                          0.8888888888888888,
                          "#fdca26"
                        ],
                        [
                          1,
                          "#f0f921"
                        ]
                      ],
                      "type": "contour"
                    }
                  ],
                  "heatmapgl": [
                    {
                      "colorbar": {
                        "outlinewidth": 0,
                        "ticks": ""
                      },
                      "colorscale": [
                        [
                          0,
                          "#0d0887"
                        ],
                        [
                          0.1111111111111111,
                          "#46039f"
                        ],
                        [
                          0.2222222222222222,
                          "#7201a8"
                        ],
                        [
                          0.3333333333333333,
                          "#9c179e"
                        ],
                        [
                          0.4444444444444444,
                          "#bd3786"
                        ],
                        [
                          0.5555555555555556,
                          "#d8576b"
                        ],
                        [
                          0.6666666666666666,
                          "#ed7953"
                        ],
                        [
                          0.7777777777777778,
                          "#fb9f3a"
                        ],
                        [
                          0.8888888888888888,
                          "#fdca26"
                        ],
                        [
                          1,
                          "#f0f921"
                        ]
                      ],
                      "type": "heatmapgl"
                    }
                  ],
                  "heatmap": [
                    {
                      "colorbar": {
                        "outlinewidth": 0,
                        "ticks": ""
                      },
                      "colorscale": [
                        [
                          0,
                          "#0d0887"
                        ],
                        [
                          0.1111111111111111,
                          "#46039f"
                        ],
                        [
                          0.2222222222222222,
                          "#7201a8"
                        ],
                        [
                          0.3333333333333333,
                          "#9c179e"
                        ],
                        [
                          0.4444444444444444,
                          "#bd3786"
                        ],
                        [
                          0.5555555555555556,
                          "#d8576b"
                        ],
                        [
                          0.6666666666666666,
                          "#ed7953"
                        ],
                        [
                          0.7777777777777778,
                          "#fb9f3a"
                        ],
                        [
                          0.8888888888888888,
                          "#fdca26"
                        ],
                        [
                          1,
                          "#f0f921"
                        ]
                      ],
                      "type": "heatmap"
                    }
                  ],
                  "histogram2dcontour": [
                    {
                      "colorbar": {
                        "outlinewidth": 0,
                        "ticks": ""
                      },
                      "colorscale": [
                        [
                          0,
                          "#0d0887"
                        ],
                        [
                          0.1111111111111111,
                          "#46039f"
                        ],
                        [
                          0.2222222222222222,
                          "#7201a8"
                        ],
                        [
                          0.3333333333333333,
                          "#9c179e"
                        ],
                        [
                          0.4444444444444444,
                          "#bd3786"
                        ],
                        [
                          0.5555555555555556,
                          "#d8576b"
                        ],
                        [
                          0.6666666666666666,
                          "#ed7953"
                        ],
                        [
                          0.7777777777777778,
                          "#fb9f3a"
                        ],
                        [
                          0.8888888888888888,
                          "#fdca26"
                        ],
                        [
                          1,
                          "#f0f921"
                        ]
                      ],
                      "type": "histogram2dcontour"
                    }
                  ],
                  "histogram2d": [
                    {
                      "colorbar": {
                        "outlinewidth": 0,
                        "ticks": ""
                      },
                      "colorscale": [
                        [
                          0,
                          "#0d0887"
                        ],
                        [
                          0.1111111111111111,
                          "#46039f"
                        ],
                        [
                          0.2222222222222222,
                          "#7201a8"
                        ],
                        [
                          0.3333333333333333,
                          "#9c179e"
                        ],
                        [
                          0.4444444444444444,
                          "#bd3786"
                        ],
                        [
                          0.5555555555555556,
                          "#d8576b"
                        ],
                        [
                          0.6666666666666666,
                          "#ed7953"
                        ],
                        [
                          0.7777777777777778,
                          "#fb9f3a"
                        ],
                        [
                          0.8888888888888888,
                          "#fdca26"
                        ],
                        [
                          1,
                          "#f0f921"
                        ]
                      ],
                      "type": "histogram2d"
                    }
                  ],
                  "histogram": [
                    {
                      "marker": {
                        "pattern": {
                          "fillmode": "overlay",
                          "size": 10,
                          "solidity": 0.2
                        }
                      },
                      "type": "histogram"
                    }
                  ],
                  "mesh3d": [
                    {
                      "colorbar": {
                        "outlinewidth": 0,
                        "ticks": ""
                      },
                      "type": "mesh3d"
                    }
                  ],
                  "parcoords": [
                    {
                      "line": {
                        "colorbar": {
                          "outlinewidth": 0,
                          "ticks": ""
                        }
                      },
                      "type": "parcoords"
                    }
                  ],
                  "pie": [
                    {
                      "automargin": true,
                      "type": "pie"
                    }
                  ],
                  "scatter3d": [
                    {
                      "line": {
                        "colorbar": {
                          "outlinewidth": 0,
                          "ticks": ""
                        }
                      },
                      "marker": {
                        "colorbar": {
                          "outlinewidth": 0,
                          "ticks": ""
                        }
                      },
                      "type": "scatter3d"
                    }
                  ],
                  "scattercarpet": [
                    {
                      "marker": {
                        "colorbar": {
                          "outlinewidth": 0,
                          "ticks": ""
                        }
                      },
                      "type": "scattercarpet"
                    }
                  ],
                  "scattergeo": [
                    {
                      "marker": {
                        "colorbar": {
                          "outlinewidth": 0,
                          "ticks": ""
                        }
                      },
                      "type": "scattergeo"
                    }
                  ],
                  "scattergl": [
                    {
                      "marker": {
                        "colorbar": {
                          "outlinewidth": 0,
                          "ticks": ""
                        }
                      },
                      "type": "scattergl"
                    }
                  ],
                  "scattermapbox": [
                    {
                      "marker": {
                        "colorbar": {
                          "outlinewidth": 0,
                          "ticks": ""
                        }
                      },
                      "type": "scattermapbox"
                    }
                  ],
                  "scatterpolargl": [
                    {
                      "marker": {
                        "colorbar": {
                          "outlinewidth": 0,
                          "ticks": ""
                        }
                      },
                      "type": "scatterpolargl"
                    }
                  ],
                  "scatterpolar": [
                    {
                      "marker": {
                        "colorbar": {
                          "outlinewidth": 0,
                          "ticks": ""
                        }
                      },
                      "type": "scatterpolar"
                    }
                  ],
                  "scatter": [
                    {
                      "fillpattern": {
                        "fillmode": "overlay",
                        "size": 10,
                        "solidity": 0.2
                      },
                      "type": "scatter"
                    }
                  ],
                  "scatterternary": [
                    {
                      "marker": {
                        "colorbar": {
                          "outlinewidth": 0,
                          "ticks": ""
                        }
                      },
                      "type": "scatterternary"
                    }
                  ],
                  "surface": [
                    {
                      "colorbar": {
                        "outlinewidth": 0,
                        "ticks": ""
                      },
                      "colorscale": [
                        [
                          0,
                          "#0d0887"
                        ],
                        [
                          0.1111111111111111,
                          "#46039f"
                        ],
                        [
                          0.2222222222222222,
                          "#7201a8"
                        ],
                        [
                          0.3333333333333333,
                          "#9c179e"
                        ],
                        [
                          0.4444444444444444,
                          "#bd3786"
                        ],
                        [
                          0.5555555555555556,
                          "#d8576b"
                        ],
                        [
                          0.6666666666666666,
                          "#ed7953"
                        ],
                        [
                          0.7777777777777778,
                          "#fb9f3a"
                        ],
                        [
                          0.8888888888888888,
                          "#fdca26"
                        ],
                        [
                          1,
                          "#f0f921"
                        ]
                      ],
                      "type": "surface"
                    }
                  ],
                  "table": [
                    {
                      "cells": {
                        "fill": {
                          "color": "#EBF0F8"
                        },
                        "line": {
                          "color": "white"
                        }
                      },
                      "header": {
                        "fill": {
                          "color": "#C8D4E3"
                        },
                        "line": {
                          "color": "white"
                        }
                      },
                      "type": "table"
                    }
                  ]
                },
                "layout": {
                  "annotationdefaults": {
                    "arrowcolor": "#2a3f5f",
                    "arrowhead": 0,
                    "arrowwidth": 1
                  },
                  "autotypenumbers": "strict",
                  "coloraxis": {
                    "colorbar": {
                      "outlinewidth": 0,
                      "ticks": ""
                    }
                  },
                  "colorscale": {
                    "diverging": [
                      [
                        0,
                        "#8e0152"
                      ],
                      [
                        0.1,
                        "#c51b7d"
                      ],
                      [
                        0.2,
                        "#de77ae"
                      ],
                      [
                        0.3,
                        "#f1b6da"
                      ],
                      [
                        0.4,
                        "#fde0ef"
                      ],
                      [
                        0.5,
                        "#f7f7f7"
                      ],
                      [
                        0.6,
                        "#e6f5d0"
                      ],
                      [
                        0.7,
                        "#b8e186"
                      ],
                      [
                        0.8,
                        "#7fbc41"
                      ],
                      [
                        0.9,
                        "#4d9221"
                      ],
                      [
                        1,
                        "#276419"
                      ]
                    ],
                    "sequential": [
                      [
                        0,
                        "#0d0887"
                      ],
                      [
                        0.1111111111111111,
                        "#46039f"
                      ],
                      [
                        0.2222222222222222,
                        "#7201a8"
                      ],
                      [
                        0.3333333333333333,
                        "#9c179e"
                      ],
                      [
                        0.4444444444444444,
                        "#bd3786"
                      ],
                      [
                        0.5555555555555556,
                        "#d8576b"
                      ],
                      [
                        0.6666666666666666,
                        "#ed7953"
                      ],
                      [
                        0.7777777777777778,
                        "#fb9f3a"
                      ],
                      [
                        0.8888888888888888,
                        "#fdca26"
                      ],
                      [
                        1,
                        "#f0f921"
                      ]
                    ],
                    "sequentialminus": [
                      [
                        0,
                        "#0d0887"
                      ],
                      [
                        0.1111111111111111,
                        "#46039f"
                      ],
                      [
                        0.2222222222222222,
                        "#7201a8"
                      ],
                      [
                        0.3333333333333333,
                        "#9c179e"
                      ],
                      [
                        0.4444444444444444,
                        "#bd3786"
                      ],
                      [
                        0.5555555555555556,
                        "#d8576b"
                      ],
                      [
                        0.6666666666666666,
                        "#ed7953"
                      ],
                      [
                        0.7777777777777778,
                        "#fb9f3a"
                      ],
                      [
                        0.8888888888888888,
                        "#fdca26"
                      ],
                      [
                        1,
                        "#f0f921"
                      ]
                    ]
                  },
                  "colorway": [
                    "#636efa",
                    "#EF553B",
                    "#00cc96",
                    "#ab63fa",
                    "#FFA15A",
                    "#19d3f3",
                    "#FF6692",
                    "#B6E880",
                    "#FF97FF",
                    "#FECB52"
                  ],
                  "font": {
                    "color": "#2a3f5f"
                  },
                  "geo": {
                    "bgcolor": "white",
                    "lakecolor": "white",
                    "landcolor": "#E5ECF6",
                    "showlakes": true,
                    "showland": true,
                    "subunitcolor": "white"
                  },
                  "hoverlabel": {
                    "align": "left"
                  },
                  "hovermode": "closest",
                  "mapbox": {
                    "style": "light"
                  },
                  "paper_bgcolor": "white",
                  "plot_bgcolor": "#E5ECF6",
                  "polar": {
                    "angularaxis": {
                      "gridcolor": "white",
                      "linecolor": "white",
                      "ticks": ""
                    },
                    "bgcolor": "#E5ECF6",
                    "radialaxis": {
                      "gridcolor": "white",
                      "linecolor": "white",
                      "ticks": ""
                    }
                  },
                  "scene": {
                    "xaxis": {
                      "backgroundcolor": "#E5ECF6",
                      "gridcolor": "white",
                      "gridwidth": 2,
                      "linecolor": "white",
                      "showbackground": true,
                      "ticks": "",
                      "zerolinecolor": "white"
                    },
                    "yaxis": {
                      "backgroundcolor": "#E5ECF6",
                      "gridcolor": "white",
                      "gridwidth": 2,
                      "linecolor": "white",
                      "showbackground": true,
                      "ticks": "",
                      "zerolinecolor": "white"
                    },
                    "zaxis": {
                      "backgroundcolor": "#E5ECF6",
                      "gridcolor": "white",
                      "gridwidth": 2,
                      "linecolor": "white",
                      "showbackground": true,
                      "ticks": "",
                      "zerolinecolor": "white"
                    }
                  },
                  "shapedefaults": {
                    "line": {
                      "color": "#2a3f5f"
                    }
                  },
                  "ternary": {
                    "aaxis": {
                      "gridcolor": "white",
                      "linecolor": "white",
                      "ticks": ""
                    },
                    "baxis": {
                      "gridcolor": "white",
                      "linecolor": "white",
                      "ticks": ""
                    },
                    "bgcolor": "#E5ECF6",
                    "caxis": {
                      "gridcolor": "white",
                      "linecolor": "white",
                      "ticks": ""
                    }
                  },
                  "title": {
                    "x": 0.05
                  },
                  "xaxis": {
                    "automargin": true,
                    "gridcolor": "white",
                    "linecolor": "white",
                    "ticks": "",
                    "title": {
                      "standoff": 15
                    },
                    "zerolinecolor": "white",
                    "zerolinewidth": 2
                  },
                  "yaxis": {
                    "automargin": true,
                    "gridcolor": "white",
                    "linecolor": "white",
                    "ticks": "",
                    "title": {
                      "standoff": 15
                    },
                    "zerolinecolor": "white",
                    "zerolinewidth": 2
                  }
                }
              },
              "title": {
                "text": "Conductive Material, Sensing Basis and Custom material"
              },
              "width": 700,
              "xaxis": {
                "title": {
                  "text": "Strain"
                },
                "type": "log"
              },
              "yaxis": {
                "title": {
                  "text": "Gauge factor"
                },
                "type": "log"
              }
            },
            "_model_module": "jupyterlab-plotly",
            "_model_module_version": "^5.24.1",
            "_model_name": "FigureModel",
            "_py2js_addTraces": {},
            "_py2js_animate": {},
            "_py2js_deleteTraces": {},
            "_py2js_moveTraces": {},
            "_py2js_relayout": {},
            "_py2js_removeLayoutProps": {},
            "_py2js_removeTraceProps": {},
            "_py2js_restyle": {},
            "_py2js_update": {},
            "_view_count": 1,
            "_view_module": "jupyterlab-plotly",
            "_view_module_version": "^5.24.1",
            "_view_name": "FigureView"
          }
        },
        "6207dfcca28448f88220f04bb04a031b": {
          "model_module": "@jupyter-widgets/base",
          "model_name": "LayoutModel",
          "model_module_version": "1.2.0",
          "state": {
            "_model_module": "@jupyter-widgets/base",
            "_model_module_version": "1.2.0",
            "_model_name": "LayoutModel",
            "_view_count": null,
            "_view_module": "@jupyter-widgets/base",
            "_view_module_version": "1.2.0",
            "_view_name": "LayoutView",
            "align_content": null,
            "align_items": null,
            "align_self": null,
            "border": null,
            "bottom": null,
            "display": null,
            "flex": null,
            "flex_flow": null,
            "grid_area": null,
            "grid_auto_columns": null,
            "grid_auto_flow": null,
            "grid_auto_rows": null,
            "grid_column": null,
            "grid_gap": null,
            "grid_row": null,
            "grid_template_areas": null,
            "grid_template_columns": null,
            "grid_template_rows": null,
            "height": null,
            "justify_content": null,
            "justify_items": null,
            "left": null,
            "margin": null,
            "max_height": null,
            "max_width": null,
            "min_height": null,
            "min_width": null,
            "object_fit": null,
            "object_position": null,
            "order": null,
            "overflow": null,
            "overflow_x": null,
            "overflow_y": null,
            "padding": null,
            "right": null,
            "top": null,
            "visibility": null,
            "width": null
          }
        }
      }
    }
  },
  "cells": [
    {
      "cell_type": "code",
      "execution_count": null,
      "metadata": {
        "id": "t4HmRuc6hooA"
      },
      "outputs": [],
      "source": [
        "import pandas as pd\n",
        "import plotly.graph_objects as go\n",
        "from plotly.subplots import make_subplots\n",
        "from ipywidgets import HBox, VBox\n",
        "\n",
        "from google.colab import output\n",
        "output.enable_custom_widget_manager()\n",
        "\n",
        "df_force = pd.read_csv('ForceData_mat_2.csv', sep=';')\n",
        "df_pressure = pd.read_csv('PressureData_mat_2.csv', sep=';')\n",
        "df_strain = pd.read_csv('StrainData_mat_2.csv', sep=';')\n",
        "\n",
        "marker_shape_map_printing_process = {\n",
        "    \"FDM-a\": \"square-open\",  # Changed to open\n",
        "    \"FDM-b\": \"square\",      # Changed to closed\n",
        "    \"DIW-a\": \"triangle-up-open\",  # Changed to open\n",
        "    \"DIW-b\": \"triangle-up\",      # Changed to closed\n",
        "    \"FDM/DIW-a\": \"circle-open\",  # Changed to open\n",
        "    \"FDM/DIW-b\": \"circle\",      # Changed to closed\n",
        "    \"AJP-a\": \"triangle-down-open\",  # Changed to open\n",
        "    \"AJP-b\": \"triangle-down\",      # Changed to closed\n",
        "    \"SLA-a\": \"diamond-open\",  # Changed to open\n",
        "    \"SLA-b\": \"diamond\",      # Changed to closed\n",
        "    \"DLP-a\": \"pentagon-open\",  # Changed to open\n",
        "    \"DLP-b\": \"pentagon\",      # Changed to closed\n",
        "    \"SLS-a\": \"hexagon-open\",  # Changed to open\n",
        "    \"SLS-b\": \"hexagon\",      # Changed to closed\n",
        "    # Add more if needed\n",
        "}\n",
        "\n",
        "marker_shape_map_sensing_basis = {\n",
        "    \"Material-a\": \"square\",\n",
        "    \"Material-b\": \"square-open\",\n",
        "    \"Auxetic-a\": \"triangle-up\",\n",
        "    \"Auxetic-b\": \"triangle-up-open\",\n",
        "    \"Surface-a\": \"circle\",\n",
        "    \"Surface-b\": \"circle-open\",\n",
        "    \"Porous-a\": \"triangle-down\",\n",
        "    \"Porous-b\": \"triangle-down-open\",\n",
        "    \"Microcracks-a\": \"diamond\",\n",
        "    \"Microcracks-b\": \"diamond-open\",\n",
        "    \"Displacement-a\": \"pentagon\",\n",
        "    \"Displacement-b\": \"pentagon-open\",\n",
        "    \"Alignment-a\": \"hexagon\",\n",
        "    \"Alignment-b\": \"hexagon-open\",\n",
        "    \"Other-a\": \"cross\",  # Changed to 'cross'\n",
        "    \"Other-b\": \"cross-open\",  # Changed to 'cross-open\n",
        "    # Add more if needed\n",
        "}\n",
        "\n",
        "color_map = {\n",
        "    1: \"#648fff\",  # Carbon\n",
        "    2: \"#785ef0\",  # Metal\n",
        "    3: \"#dc267f\",  # Liquid\n",
        "    4: \"#fe6100\",  # Wire\n",
        "    5: \"#ffb000\",  # Other\n",
        "}\n",
        "\n",
        "sensor_map_names = {\n",
        "        1: \"Piezoresistive\",\n",
        "        2: \"Capacitive\",\n",
        "        3: \"Inductive\",\n",
        "        4: \"Frequency\",\n",
        "        5: \"Transistor\"\n",
        "    }\n",
        "\n",
        "material_map_names = {\n",
        "        1: \"Carbon\",\n",
        "        2: \"Metal\",\n",
        "        3: \"Liquid\",\n",
        "        4: \"Wire\",\n",
        "        5: \"Other\"\n",
        "    }\n",
        "\n",
        "def get_color_from_map(value, color_dict):\n",
        "    return color_dict.get(value, \"#cccccc\")\n",
        "\n",
        "def get_plotting_data(df):\n",
        "    x_data = df.iloc[:, 8] - df.iloc[:, 7]\n",
        "    y_data = df.iloc[:, 10]\n",
        "    ele_data = df.iloc[:, 2] #Numeric electrical principle\n",
        "    mat_data = df.iloc[:, 13] #Numeric mat principle\n",
        "    print_data = df.iloc[:, 15] #Concat printing string\n",
        "    sens_data = df.iloc[:, 16] #Concat\n",
        "\n",
        "    return [x_data, y_data, ele_data, mat_data, print_data, sens_data]\n",
        "\n",
        "def get_fig(data_list,xlabel,ylabel):\n",
        "    printing_processes = data_list[4].unique()\n",
        "    electrical_principles = data_list[2].unique()\n",
        "\n",
        "    sensing_basis = data_list[5].unique()\n",
        "    materials = data_list[3].unique()\n",
        "\n",
        "    fig_left = go.Figure()\n",
        "    fig_right = go.Figure()\n",
        "\n",
        "    # Create separate traces for each printing process and electrical principle\n",
        "    traces_left = []\n",
        "    for process in printing_processes:\n",
        "        for principle in electrical_principles:\n",
        "            filtered_data = data_list[0][(data_list[4] == process) & (data_list[2] == principle)], data_list[1][(data_list[4] == process) & (data_list[2] == principle)]\n",
        "            if len(filtered_data[0]) > 0:  # Check if there's data for this combination\n",
        "                if process[-1] == 'a':\n",
        "                  submark_string = ' (post processing)'\n",
        "                else:\n",
        "                  submark_string = ''\n",
        "                trace = go.Scatter(\n",
        "                    x=filtered_data[0],\n",
        "                    y=filtered_data[1],\n",
        "                    mode='markers',\n",
        "                    marker=dict(\n",
        "                        size=10,\n",
        "                        symbol=marker_shape_map_printing_process.get(process, 'circle'),\n",
        "                        color=get_color_from_map(principle, color_map),\n",
        "                        line=dict(width=2, color='black')\n",
        "                    ),\n",
        "                    name=f'{process[0:-2]}',  # Only show process in legend (remove -a/b)\n",
        "                    legendgroup=f'{sensor_map_names[principle]}',  # Group by principle\n",
        "                    legendgrouptitle=dict(text=f'{sensor_map_names[principle]}'),\n",
        "                    visible=True,\n",
        "                    hovertemplate = \"DOI: \" + \"<br>Printing process: \" + str(process[0:-2]) + \"</br>Electrical principle: \" + str(sensor_map_names[principle]) + submark_string + \"<extra></extra>\"\n",
        "                )\n",
        "                traces_left.append(trace)\n",
        "                fig_left.add_trace(trace)\n",
        "\n",
        "    traces_right = []\n",
        "    for basis in sensing_basis:\n",
        "        for mat in materials:\n",
        "            filtered_data = data_list[0][(data_list[5] == basis) & (data_list[3] == mat)], data_list[1][(data_list[5] == basis) & (data_list[3] == mat)]\n",
        "            if basis[-1]=='a':\n",
        "              submark_string = ''\n",
        "            else:\n",
        "              submark_string = ' (Custom)'\n",
        "            if len(filtered_data[0]) > 0:  # Check if there's data for this combination\n",
        "                trace = go.Scatter(\n",
        "                    x=filtered_data[0],\n",
        "                    y=filtered_data[1],\n",
        "                    mode='markers',\n",
        "                    marker=dict(\n",
        "                        size=10,\n",
        "                        symbol=marker_shape_map_sensing_basis.get(basis, 'circle'),\n",
        "                        color=get_color_from_map(mat, color_map),\n",
        "                        line=dict(width=2, color='black')\n",
        "                    ),\n",
        "                    name=f'{basis[0:-2]}',  # Only show basis in legend (remove -a/b)\n",
        "                    legendgroup=f'{material_map_names[mat]}',  # Group by material\n",
        "                    legendgrouptitle=dict(text=f'{material_map_names[mat]}'),\n",
        "                    visible=True,\n",
        "                    hovertemplate = \"DOI: \" + \"<br>Sensing basis: \" + str(basis[0:-2]) + \"</br>Material: \" + str(material_map_names[mat]) + submark_string + \"<extra></extra>\"\n",
        "                )\n",
        "                traces_right.append(trace)\n",
        "                fig_right.add_trace(trace)\n",
        "\n",
        "    # Update layout for legend columns\n",
        "    fig_left.update_layout(\n",
        "        legend=dict(\n",
        "            orientation=\"h\",\n",
        "            tracegroupgap=150,  # Adjust spacing as needed\n",
        "            entrywidth=0.23,       # Adjust width as needed\n",
        "            entrywidthmode=\"fraction\" ,\n",
        "            y=-0.12, yanchor=\"top\",\n",
        "        ),\n",
        "        legend_groupclick=\"toggleitem\",\n",
        "    )\n",
        "\n",
        "    fig_right.update_layout(\n",
        "        legend=dict(\n",
        "            orientation=\"h\",\n",
        "            tracegroupgap=150,  # Adjust spacing as needed\n",
        "            entrywidth=0.23,       # Adjust width as needed\n",
        "            entrywidthmode=\"fraction\" ,\n",
        "            y=-0.12, yanchor=\"top\",\n",
        "        ),\n",
        "        legend_groupclick=\"toggleitem\",\n",
        "    )\n",
        "\n",
        "\n",
        "    # Log scale axes\n",
        "    fig_left.update_xaxes(title_text=xlabel,type='log')\n",
        "    fig_left.update_yaxes(title_text=ylabel,type='log')\n",
        "    fig_right.update_xaxes(title_text=xlabel,type='log')\n",
        "    fig_right.update_yaxes(title_text=ylabel,type='log')\n",
        "\n",
        "    fig_left.update_layout(\n",
        "        width = 700,\n",
        "        height = 700,\n",
        "        title = \"Printing process, Electrical principle and Direct printing\",\n",
        "    )\n",
        "    fig_right.update_layout(\n",
        "        width = 700,\n",
        "        height = 700,\n",
        "        title = \"Conductive Material, Sensing Basis and Custom material\",\n",
        "    )\n",
        "    fig_left.update_layout(margin_autoexpand=False,margin_b=250)\n",
        "    fig_right.update_layout(margin_autoexpand=False,margin_b=250)\n",
        "\n",
        "    f_left = go.FigureWidget(fig_left)\n",
        "    f_right = go.FigureWidget(fig_right)\n",
        "\n",
        "    fig_output=  HBox([f_left, f_right])\n",
        "    return fig_output"
      ]
    },
    {
      "cell_type": "code",
      "source": [
        "force = get_plotting_data(df_force)\n",
        "fig_force = get_fig(force,\"Force [N]\",\"Sensitivity [N<sup>-1</sup>]\")\n",
        "fig_force"
      ],
      "metadata": {
        "colab": {
          "base_uri": "https://localhost:8080/",
          "height": 717,
          "referenced_widgets": [
            "66bafd562265464893c2b2cbae00780d",
            "65e30a720cf84b35b19e400812e7bdb0",
            "b5158fc13d1f4ba5b5628ac21fb85c23",
            "91c22735b5c34ab5bfd66c1095466c52"
          ]
        },
        "id": "PoSchv6Zc1xE",
        "outputId": "2ab3cc7e-f01d-47cf-a633-81c7e87e672b"
      },
      "execution_count": null,
      "outputs": [
        {
          "output_type": "display_data",
          "data": {
            "text/plain": [
              "HBox(children=(FigureWidget({\n",
              "    'data': [{'hovertemplate': ('DOI: <br>Printing process: FDM' ... ' Piezoresi…"
            ],
            "application/vnd.jupyter.widget-view+json": {
              "version_major": 2,
              "version_minor": 0,
              "model_id": "66bafd562265464893c2b2cbae00780d"
            }
          },
          "metadata": {
            "application/vnd.jupyter.widget-view+json": {
              "colab": {
                "custom_widget_manager": {
                  "url": "https://ssl.gstatic.com/colaboratory-static/widgets/colab-cdn-widget-manager/2b70e893a8ba7c0f/manager.min.js"
                }
              }
            }
          }
        }
      ]
    },
    {
      "cell_type": "code",
      "source": [
        "pressure = get_plotting_data(df_pressure)\n",
        "fig_pressure = get_fig(pressure,\"Pressure [kPa]\",\"Sensitivity [kPa<sup>-1</sup>]\")\n",
        "fig_pressure"
      ],
      "metadata": {
        "colab": {
          "base_uri": "https://localhost:8080/",
          "height": 717,
          "referenced_widgets": [
            "b75b27ae9f064ff39382c4896deca13e",
            "b52288fd651449c49440de07facd8878",
            "f345efafd95b41e18d91d7653a469296",
            "6f51bb5048f142dca838034aecefcdc9"
          ]
        },
        "id": "f6mJAuH5c5Tj",
        "outputId": "09c940d4-a625-415f-ebed-bf9d60edef76"
      },
      "execution_count": null,
      "outputs": [
        {
          "output_type": "display_data",
          "data": {
            "text/plain": [
              "HBox(children=(FigureWidget({\n",
              "    'data': [{'hovertemplate': ('DOI: <br>Printing process: FDM' ... ' Piezoresi…"
            ],
            "application/vnd.jupyter.widget-view+json": {
              "version_major": 2,
              "version_minor": 0,
              "model_id": "b75b27ae9f064ff39382c4896deca13e"
            }
          },
          "metadata": {
            "application/vnd.jupyter.widget-view+json": {
              "colab": {
                "custom_widget_manager": {
                  "url": "https://ssl.gstatic.com/colaboratory-static/widgets/colab-cdn-widget-manager/2b70e893a8ba7c0f/manager.min.js"
                }
              }
            }
          }
        }
      ]
    },
    {
      "cell_type": "code",
      "source": [
        "strain = get_plotting_data(df_strain)\n",
        "fig_strain = get_fig(strain,\"Strain\",\"Gauge factor\")\n",
        "fig_strain"
      ],
      "metadata": {
        "colab": {
          "base_uri": "https://localhost:8080/",
          "height": 717,
          "referenced_widgets": [
            "513e4f6d475f4857a9c9d74b55030e21",
            "78aeb4e479894e5ab39382288cbb9fb8",
            "0b5eff37d57445bfaaf19cf78a797ef4",
            "6207dfcca28448f88220f04bb04a031b"
          ]
        },
        "id": "0qNNNc3OeH4J",
        "outputId": "8aff8ece-b28a-4833-9bdb-dc271a9cc175"
      },
      "execution_count": null,
      "outputs": [
        {
          "output_type": "display_data",
          "data": {
            "text/plain": [
              "HBox(children=(FigureWidget({\n",
              "    'data': [{'hovertemplate': ('DOI: <br>Printing process: FDM' ... 'ost proces…"
            ],
            "application/vnd.jupyter.widget-view+json": {
              "version_major": 2,
              "version_minor": 0,
              "model_id": "513e4f6d475f4857a9c9d74b55030e21"
            }
          },
          "metadata": {
            "application/vnd.jupyter.widget-view+json": {
              "colab": {
                "custom_widget_manager": {
                  "url": "https://ssl.gstatic.com/colaboratory-static/widgets/colab-cdn-widget-manager/2b70e893a8ba7c0f/manager.min.js"
                }
              }
            }
          }
        }
      ]
    },
    {
      "cell_type": "code",
      "source": [
        "# OLD CODE\n",
        "\n",
        "import pandas as pd\n",
        "import plotly.graph_objects as go\n",
        "from plotly.subplots import make_subplots\n",
        "from ipywidgets import HBox, VBox\n",
        "\n",
        "from google.colab import output\n",
        "output.enable_custom_widget_manager()\n",
        "\n",
        "# 2) Read the CSV files into pandas DataFrames.\n",
        "#    Make sure these paths match where your files are.\n",
        "df_force = pd.read_csv('ForceData_mat_2.csv', sep=';')\n",
        "df_pressure = pd.read_csv('PressureData_mat_2.csv', sep=';')\n",
        "df_strain = pd.read_csv('StrainData_mat_2.csv', sep=';')\n",
        "\n",
        "#------------------------------------------------------------------------------\n",
        "# PART A: DEFINE MAPPINGS FOR MARKER SHAPES AND COLOR INDICES\n",
        "#------------------------------------------------------------------------------\n",
        "\n",
        "# Example marker-shape map for the *left column* subplots (a, b, c).\n",
        "# Suppose your CSV has a column that stores values like \"FDM-a\", \"DIW-a\", etc.\n",
        "marker_shape_map_printing_process = {\n",
        "    \"FDM-a\": \"square-open\",  # Changed to open\n",
        "    \"FDM-b\": \"square\",      # Changed to closed\n",
        "    \"DIW-a\": \"triangle-up-open\",  # Changed to open\n",
        "    \"DIW-b\": \"triangle-up\",      # Changed to closed\n",
        "    \"FDM/DIW-a\": \"circle-open\",  # Changed to open\n",
        "    \"FDM/DIW-b\": \"circle\",      # Changed to closed\n",
        "    \"AJP-a\": \"triangle-down-open\",  # Changed to open\n",
        "    \"AJP-b\": \"triangle-down\",      # Changed to closed\n",
        "    \"SLA-a\": \"diamond-open\",  # Changed to open\n",
        "    \"SLA-b\": \"diamond\",      # Changed to closed\n",
        "    \"DLP-a\": \"pentagon-open\",  # Changed to open\n",
        "    \"DLP-b\": \"pentagon\",      # Changed to closed\n",
        "    \"SLS-a\": \"hexagon-open\",  # Changed to open\n",
        "    \"SLS-b\": \"hexagon\",      # Changed to closed\n",
        "    # Add more if needed\n",
        "}\n",
        "\n",
        "# Example marker-shape map for the *right column* subplots (d, e, f).\n",
        "# Suppose your CSV has values like \"Material-a\", \"Auxetic-b\", etc.\n",
        "marker_shape_map_sensing_basis = {\n",
        "    \"Material-a\": \"square\",\n",
        "    \"Material-b\": \"square-open\",\n",
        "    \"Auxetic-a\": \"triangle-up\",\n",
        "    \"Auxetic-b\": \"triangle-up-open\",\n",
        "    \"Surface-a\": \"circle\",\n",
        "    \"Surface-b\": \"circle-open\",\n",
        "    \"Porous-a\": \"triangle-down\",\n",
        "    \"Porous-b\": \"triangle-down-open\",\n",
        "    \"Microcracks-a\": \"diamond\",\n",
        "    \"Microcracks-b\": \"diamond-open\",\n",
        "    \"Displacement-a\": \"pentagon\",\n",
        "    \"Displacement-b\": \"pentagon-open\",\n",
        "    \"Alignment-a\": \"hexagon\",\n",
        "    \"Alignment-b\": \"hexagon-open\",\n",
        "    \"Other-a\": \"cross\",  # Changed to 'cross'\n",
        "    \"Other-b\": \"cross-open\",  # Changed to 'cross-open\n",
        "    # Add more if needed\n",
        "}\n",
        "\n",
        "#------------------------------------------------------------------------------\n",
        "# PART B: DEFINE MAPPINGS FOR COLOR (SENSOR PRINCIPLE / MATERIAL)\n",
        "#------------------------------------------------------------------------------\n",
        "\n",
        "color_map = {\n",
        "    1: \"#648fff\",  # Carbon\n",
        "    2: \"#785ef0\",  # Metal\n",
        "    3: \"#dc267f\",  # Liquid\n",
        "    4: \"#fe6100\",  # Wire\n",
        "    5: \"#ffb000\",  # Other\n",
        "}\n",
        "\n",
        "sensor_map_names = {\n",
        "        1: \"Piezoresistive\",\n",
        "        2: \"Capacitive\",\n",
        "        3: \"Inductive\",\n",
        "        4: \"Frequency\",\n",
        "        5: \"Transistor\"\n",
        "    }\n",
        "\n",
        "material_map_names = {\n",
        "        1: \"Carbon\",\n",
        "        2: \"Metal\",\n",
        "        3: \"Liquid\",\n",
        "        4: \"Wire\",\n",
        "        5: \"Other\"\n",
        "    }\n",
        "\n",
        "# We’ll create a helper function to get color from a dictionary:\n",
        "def get_color_from_map(value, color_dict):\n",
        "    return color_dict.get(value, \"#cccccc\")  # fallback color if not in dict\n",
        "\n",
        "#------------------------------------------------------------------------------\n",
        "# PART C: BUILD THE FIGURES\n",
        "#------------------------------------------------------------------------------\n",
        "\n",
        "fig_left = go.Figure()\n",
        "fig_right = go.Figure()\n",
        "\n",
        "# Modified add_scatter_trace function to associate traces with printing process\n",
        "def get_plotting_data(df):\n",
        "    x_data = df.iloc[:, 8] - df.iloc[:, 7]\n",
        "    y_data = df.iloc[:, 10]\n",
        "    ele_data = df.iloc[:, 2] #Numeric electrical principle\n",
        "    mat_data = df.iloc[:, 13] #Numeric mat principle\n",
        "    print_data = df.iloc[:, 15] #Concat printing string\n",
        "    sens_data = df.iloc[:, 16] #Concat\n",
        "\n",
        "    return [x_data, y_data, ele_data, mat_data, print_data, sens_data]\n",
        "\n",
        "force = get_plotting_data(df_force)\n",
        "\n",
        "# Get unique types for the different traces to make interactive legend\n",
        "printing_processes = force[4].unique()\n",
        "electrical_principles = force[2].unique()\n",
        "\n",
        "sensing_basis = force[5].unique()\n",
        "materials = force[3].unique()\n",
        "\n",
        "# Create separate traces for each printing process and electrical principle\n",
        "traces_left = []\n",
        "for process in printing_processes:\n",
        "    for principle in electrical_principles:\n",
        "        filtered_data = force[0][(force[4] == process) & (force[2] == principle)], force[1][(force[4] == process) & (force[2] == principle)]\n",
        "        if len(filtered_data[0]) > 0:  # Check if there's data for this combination\n",
        "            trace = go.Scatter(\n",
        "                x=filtered_data[0],\n",
        "                y=filtered_data[1],\n",
        "                mode='markers',\n",
        "                marker=dict(\n",
        "                    size=10,\n",
        "                    symbol=marker_shape_map_printing_process.get(process, 'circle'),\n",
        "                    color=get_color_from_map(principle, color_map),\n",
        "                    line=dict(width=2, color='black')\n",
        "                ),\n",
        "                name=f'{process}',  # Only show process in legend\n",
        "                legendgroup=f'{sensor_map_names[principle]}',  # Group by principle\n",
        "                legendgrouptitle=dict(text=f'{sensor_map_names[principle]}'),\n",
        "                visible=True  # Start with all traces hidden\n",
        "            )\n",
        "            traces_left.append(trace)\n",
        "            fig_left.add_trace(trace)\n",
        "\n",
        "traces_right = []\n",
        "for basis in sensing_basis:\n",
        "    for mat in materials:\n",
        "        filtered_data = force[0][(force[5] == basis) & (force[3] == mat)], force[1][(force[5] == basis) & (force[3] == mat)]\n",
        "        if len(filtered_data[0]) > 0:  # Check if there's data for this combination\n",
        "            trace = go.Scatter(\n",
        "                x=filtered_data[0],\n",
        "                y=filtered_data[1],\n",
        "                mode='markers',\n",
        "                marker=dict(\n",
        "                    size=10,\n",
        "                    symbol=marker_shape_map_sensing_basis.get(basis, 'circle'),\n",
        "                    color=get_color_from_map(mat, color_map),\n",
        "                    line=dict(width=2, color='black')\n",
        "                ),\n",
        "                name=f'{basis}',  # Only show process in legend\n",
        "                legendgroup=f'{material_map_names[mat]}',  # Group by material\n",
        "                legendgrouptitle=dict(text=f'{material_map_names[mat]}'),\n",
        "                visible=True  # Start with all traces hidden\n",
        "            )\n",
        "            traces_right.append(trace)\n",
        "            fig_right.add_trace(trace)\n",
        "\n",
        "# Update layout for legend columns\n",
        "fig_left.update_layout(\n",
        "    legend=dict(\n",
        "        orientation=\"h\",\n",
        "        tracegroupgap=150,  # Adjust spacing as needed\n",
        "        entrywidth=0.25,       # Adjust width as needed\n",
        "        entrywidthmode=\"fraction\" ,\n",
        "        y=1.4, yanchor=\"top\",\n",
        "    ),\n",
        "    legend_groupclick=\"toggleitem\",\n",
        ")\n",
        "\n",
        "fig_right.update_layout(\n",
        "    legend=dict(\n",
        "        orientation=\"h\",\n",
        "        tracegroupgap=150,  # Adjust spacing as needed\n",
        "        entrywidth=0.25,       # Adjust width as needed\n",
        "        entrywidthmode=\"fraction\" ,\n",
        "        y=1.4, yanchor=\"top\",\n",
        "    ),\n",
        "    legend_groupclick=\"toggleitem\",\n",
        ")\n",
        "\n",
        "\n",
        "# Log scale axes\n",
        "fig_left.update_xaxes(title_text=\"Force [N]\",type='log')\n",
        "fig_left.update_yaxes(title_text=\"Sensitivity [N<sup>-1</sup>]\",type='log')\n",
        "fig_right.update_xaxes(title_text=\"Force [N]\",type='log')\n",
        "fig_right.update_yaxes(title_text=\"Sensitivity [N<sup>-1</sup>]\",type='log')\n",
        "\n",
        "fig_left.update_layout(\n",
        "    width = 700,\n",
        "    height = 700,\n",
        ")\n",
        "fig_right.update_layout(\n",
        "    width = 700,\n",
        "    height = 700,\n",
        ")\n",
        "fig_left.update_layout(margin_autoexpand=False,margin_t=200)\n",
        "fig_right.update_layout(margin_autoexpand=False,margin_t=200)\n",
        "\n",
        "f_left = go.FigureWidget(fig_left)\n",
        "f_right = go.FigureWidget(fig_right)\n",
        "\n",
        "fig_force=  HBox([f_left, f_right])\n",
        "fig_force"
      ],
      "metadata": {
        "id": "zbukXYKPQXbf"
      },
      "execution_count": null,
      "outputs": []
    }
  ]
}