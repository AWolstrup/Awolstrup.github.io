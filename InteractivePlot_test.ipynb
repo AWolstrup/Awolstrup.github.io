{
  "nbformat": 4,
  "nbformat_minor": 0,
  "metadata": {
    "colab": {
      "provenance": [],
      "include_colab_link": true
    },
    "kernelspec": {
      "name": "python3",
      "display_name": "Python 3"
    },
    "language_info": {
      "name": "python"
    },
    "widgets": {
      "application/vnd.jupyter.widget-state+json": {
        "95592338d943472ab436c4822220a249": {
          "model_module": "@jupyter-widgets/controls",
          "model_name": "HBoxModel",
          "model_module_version": "1.5.0",
          "state": {
            "_dom_classes": [],
            "_model_module": "@jupyter-widgets/controls",
            "_model_module_version": "1.5.0",
            "_model_name": "HBoxModel",
            "_view_count": null,
            "_view_module": "@jupyter-widgets/controls",
            "_view_module_version": "1.5.0",
            "_view_name": "HBoxView",
            "box_style": "",
            "children": [
              "IPY_MODEL_cc1da23049ac4c328a42e578011b7746",
              "IPY_MODEL_6048cca0526f47c6b03f192f5a5acf47"
            ],
            "layout": "IPY_MODEL_b5293d77536242d8b2da1d4a1fe1a6bf"
          }
        },
        "cc1da23049ac4c328a42e578011b7746": {
          "model_module": "jupyterlab-plotly",
          "model_name": "FigureModel",
          "model_module_version": "^5.24.1",
          "state": {
            "_config": {
              "plotlyServerURL": "https://plot.ly"
            },
            "_data": [
              {
                "hovertemplate": "DOI: %{text}<br>Printing process: FDM</br>Electrical principle: Piezoresistive<extra></extra>",
                "legendgroup": "Piezoresistive",
                "legendgrouptitle": {
                  "text": "Piezoresistive"
                },
                "marker": {
                  "color": "#648fff",
                  "line": {
                    "color": "black",
                    "width": 2
                  },
                  "size": 10,
                  "symbol": "square"
                },
                "mode": "markers",
                "name": "FDM",
                "text": [
                  "10.1002/smll.202301378"
                ],
                "visible": true,
                "x": {
                  "dtype": "float64",
                  "shape": [
                    1
                  ]
                },
                "y": {
                  "dtype": "float64",
                  "shape": [
                    1
                  ]
                },
                "type": "scatter",
                "uid": "5efbd795-c746-4ac5-9e9d-61542c3f1073"
              },
              {
                "hovertemplate": "DOI: %{text}<br>Printing process: FDM</br>Electrical principle: Capacitive<extra></extra>",
                "legendgroup": "Capacitive",
                "legendgrouptitle": {
                  "text": "Capacitive"
                },
                "marker": {
                  "color": "#785ef0",
                  "line": {
                    "color": "black",
                    "width": 2
                  },
                  "size": 10,
                  "symbol": "square"
                },
                "mode": "markers",
                "name": "FDM",
                "text": [
                  "10.1038/s41528-024-00309-z",
                  "10.1109/FLEPS51544.2021.9469839",
                  "10.1109/JSEN.2022.3179233"
                ],
                "visible": true,
                "x": {
                  "dtype": "float64",
                  "shape": [
                    3
                  ]
                },
                "y": {
                  "dtype": "float64",
                  "shape": [
                    3
                  ]
                },
                "type": "scatter",
                "uid": "afd83ff9-d0e6-4aaa-a8d7-c3345d763251"
              },
              {
                "hovertemplate": "DOI: %{text}<br>Printing process: DIW</br>Electrical principle: Piezoresistive<extra></extra>",
                "legendgroup": "Piezoresistive",
                "legendgrouptitle": {
                  "text": "Piezoresistive"
                },
                "marker": {
                  "color": "#648fff",
                  "line": {
                    "color": "black",
                    "width": 2
                  },
                  "size": 10,
                  "symbol": "triangle-up"
                },
                "mode": "markers",
                "name": "DIW",
                "text": [
                  "10.1016/j.jmapro.2023.01.008",
                  "10.1038/s41598-023-29261-0",
                  "10.1021/acsami.0c06977"
                ],
                "visible": true,
                "x": {
                  "dtype": "float64",
                  "shape": [
                    3
                  ]
                },
                "y": {
                  "dtype": "float64",
                  "shape": [
                    3
                  ]
                },
                "type": "scatter",
                "uid": "0876f699-1f66-4d0b-a4f1-21014cbd13c1"
              },
              {
                "hovertemplate": "DOI: %{text}<br>Printing process: DIW</br>Electrical principle: Capacitive<extra></extra>",
                "legendgroup": "Capacitive",
                "legendgrouptitle": {
                  "text": "Capacitive"
                },
                "marker": {
                  "color": "#785ef0",
                  "line": {
                    "color": "black",
                    "width": 2
                  },
                  "size": 10,
                  "symbol": "triangle-up"
                },
                "mode": "markers",
                "name": "DIW",
                "text": [
                  "10.1109/FLEPS53764.2022.9781553"
                ],
                "visible": true,
                "x": {
                  "dtype": "float64",
                  "shape": [
                    1
                  ]
                },
                "y": {
                  "dtype": "float64",
                  "shape": [
                    1
                  ]
                },
                "type": "scatter",
                "uid": "42b46b2c-dbaf-46e3-90d8-f2ffecf81665"
              },
              {
                "hovertemplate": "DOI: %{text}<br>Printing process: SLA</br>Electrical principle: Piezoresistive (post processing)<extra></extra>",
                "legendgroup": "Piezoresistive",
                "legendgrouptitle": {
                  "text": "Piezoresistive"
                },
                "marker": {
                  "color": "#648fff",
                  "line": {
                    "color": "black",
                    "width": 2
                  },
                  "size": 10,
                  "symbol": "diamond-open"
                },
                "mode": "markers",
                "name": "SLA",
                "text": [
                  "10.1002/admt.202000984"
                ],
                "visible": true,
                "x": {
                  "dtype": "float64",
                  "shape": [
                    1
                  ]
                },
                "y": {
                  "dtype": "float64",
                  "shape": [
                    1
                  ]
                },
                "type": "scatter",
                "uid": "c0e6d117-70d5-4de2-b452-dce420c77b35"
              },
              {
                "hovertemplate": "DOI: %{text}<br>Printing process: SLA</br>Electrical principle: Inductive (post processing)<extra></extra>",
                "legendgroup": "Inductive",
                "legendgrouptitle": {
                  "text": "Inductive"
                },
                "marker": {
                  "color": "#dc267f",
                  "line": {
                    "color": "black",
                    "width": 2
                  },
                  "size": 10,
                  "symbol": "diamond-open"
                },
                "mode": "markers",
                "name": "SLA",
                "text": [
                  "10.1002/admt.202101657"
                ],
                "visible": true,
                "x": {
                  "dtype": "float64",
                  "shape": [
                    1
                  ]
                },
                "y": {
                  "dtype": "float64",
                  "shape": [
                    1
                  ]
                },
                "type": "scatter",
                "uid": "a074bfc0-bd7c-4778-9f2d-e32523bd85c9"
              },
              {
                "hovertemplate": "DOI: %{text}<br>Printing process: DLP</br>Electrical principle: Piezoresistive (post processing)<extra></extra>",
                "legendgroup": "Piezoresistive",
                "legendgrouptitle": {
                  "text": "Piezoresistive"
                },
                "marker": {
                  "color": "#648fff",
                  "line": {
                    "color": "black",
                    "width": 2
                  },
                  "size": 10,
                  "symbol": "pentagon-open"
                },
                "mode": "markers",
                "name": "DLP",
                "text": [
                  "10.1021/acsami.0c21407 "
                ],
                "visible": true,
                "x": {
                  "dtype": "float64",
                  "shape": [
                    1
                  ]
                },
                "y": {
                  "dtype": "float64",
                  "shape": [
                    1
                  ]
                },
                "type": "scatter",
                "uid": "29729629-9de9-4d6f-b5b5-366cbe8fa0fc"
              },
              {
                "hovertemplate": "DOI: %{text}<br>Printing process: FDM/DIW</br>Electrical principle: Capacitive<extra></extra>",
                "legendgroup": "Capacitive",
                "legendgrouptitle": {
                  "text": "Capacitive"
                },
                "marker": {
                  "color": "#785ef0",
                  "line": {
                    "color": "black",
                    "width": 2
                  },
                  "size": 10,
                  "symbol": "circle"
                },
                "mode": "markers",
                "name": "FDM/DIW",
                "text": [
                  "10.1002/aisy.201900080"
                ],
                "visible": true,
                "x": {
                  "dtype": "float64",
                  "shape": [
                    1
                  ]
                },
                "y": {
                  "dtype": "float64",
                  "shape": [
                    1
                  ]
                },
                "type": "scatter",
                "uid": "f65ca964-e87a-4ec5-b73b-bfc453daf10b"
              },
              {
                "hovertemplate": "DOI: %{text}<br>Printing process: DLP</br>Electrical principle: Capacitive<extra></extra>",
                "legendgroup": "Capacitive",
                "legendgrouptitle": {
                  "text": "Capacitive"
                },
                "marker": {
                  "color": "#785ef0",
                  "line": {
                    "color": "black",
                    "width": 2
                  },
                  "size": 10,
                  "symbol": "pentagon"
                },
                "mode": "markers",
                "name": "DLP",
                "text": [
                  "10.1016/j.addma.2017.08.011"
                ],
                "visible": true,
                "x": {
                  "dtype": "float64",
                  "shape": [
                    1
                  ]
                },
                "y": {
                  "dtype": "float64",
                  "shape": [
                    1
                  ]
                },
                "type": "scatter",
                "uid": "55ee6b32-adc3-4cb8-ba80-e53b0c3912ca"
              },
              {
                "hovertemplate": "DOI: %{text}<br>Printing process: AJP</br>Electrical principle: Transistor<extra></extra>",
                "legendgroup": "Transistor",
                "legendgrouptitle": {
                  "text": "Transistor"
                },
                "marker": {
                  "color": "#ffb000",
                  "line": {
                    "color": "black",
                    "width": 2
                  },
                  "size": 10,
                  "symbol": "triangle-down"
                },
                "mode": "markers",
                "name": "AJP",
                "text": [
                  "10.1002/admt.202201272"
                ],
                "visible": true,
                "x": {
                  "dtype": "float64",
                  "shape": [
                    1
                  ]
                },
                "y": {
                  "dtype": "float64",
                  "shape": [
                    1
                  ]
                },
                "type": "scatter",
                "uid": "e658d802-8485-4778-a7c9-0b89ff2670fe"
              }
            ],
            "_dom_classes": [],
            "_js2py_layoutDelta": null,
            "_js2py_pointsCallback": null,
            "_js2py_relayout": {},
            "_js2py_restyle": {},
            "_js2py_traceDeltas": null,
            "_js2py_update": {},
            "_last_layout_edit_id": 0,
            "_last_trace_edit_id": 0,
            "_layout": {
              "height": 700,
              "legend": {
                "entrywidth": 0.23,
                "entrywidthmode": "fraction",
                "groupclick": "toggleitem",
                "orientation": "h",
                "tracegroupgap": 150,
                "y": -0.12,
                "yanchor": "top"
              },
              "margin": {
                "autoexpand": false,
                "b": 250
              },
              "template": {
                "data": {
                  "barpolar": [
                    {
                      "marker": {
                        "line": {
                          "color": "#E5ECF6",
                          "width": 0.5
                        },
                        "pattern": {
                          "fillmode": "overlay",
                          "size": 10,
                          "solidity": 0.2
                        }
                      },
                      "type": "barpolar"
                    }
                  ],
                  "bar": [
                    {
                      "error_x": {
                        "color": "#2a3f5f"
                      },
                      "error_y": {
                        "color": "#2a3f5f"
                      },
                      "marker": {
                        "line": {
                          "color": "#E5ECF6",
                          "width": 0.5
                        },
                        "pattern": {
                          "fillmode": "overlay",
                          "size": 10,
                          "solidity": 0.2
                        }
                      },
                      "type": "bar"
                    }
                  ],
                  "carpet": [
                    {
                      "aaxis": {
                        "endlinecolor": "#2a3f5f",
                        "gridcolor": "white",
                        "linecolor": "white",
                        "minorgridcolor": "white",
                        "startlinecolor": "#2a3f5f"
                      },
                      "baxis": {
                        "endlinecolor": "#2a3f5f",
                        "gridcolor": "white",
                        "linecolor": "white",
                        "minorgridcolor": "white",
                        "startlinecolor": "#2a3f5f"
                      },
                      "type": "carpet"
                    }
                  ],
                  "choropleth": [
                    {
                      "colorbar": {
                        "outlinewidth": 0,
                        "ticks": ""
                      },
                      "type": "choropleth"
                    }
                  ],
                  "contourcarpet": [
                    {
                      "colorbar": {
                        "outlinewidth": 0,
                        "ticks": ""
                      },
                      "type": "contourcarpet"
                    }
                  ],
                  "contour": [
                    {
                      "colorbar": {
                        "outlinewidth": 0,
                        "ticks": ""
                      },
                      "colorscale": [
                        [
                          0,
                          "#0d0887"
                        ],
                        [
                          0.1111111111111111,
                          "#46039f"
                        ],
                        [
                          0.2222222222222222,
                          "#7201a8"
                        ],
                        [
                          0.3333333333333333,
                          "#9c179e"
                        ],
                        [
                          0.4444444444444444,
                          "#bd3786"
                        ],
                        [
                          0.5555555555555556,
                          "#d8576b"
                        ],
                        [
                          0.6666666666666666,
                          "#ed7953"
                        ],
                        [
                          0.7777777777777778,
                          "#fb9f3a"
                        ],
                        [
                          0.8888888888888888,
                          "#fdca26"
                        ],
                        [
                          1,
                          "#f0f921"
                        ]
                      ],
                      "type": "contour"
                    }
                  ],
                  "heatmapgl": [
                    {
                      "colorbar": {
                        "outlinewidth": 0,
                        "ticks": ""
                      },
                      "colorscale": [
                        [
                          0,
                          "#0d0887"
                        ],
                        [
                          0.1111111111111111,
                          "#46039f"
                        ],
                        [
                          0.2222222222222222,
                          "#7201a8"
                        ],
                        [
                          0.3333333333333333,
                          "#9c179e"
                        ],
                        [
                          0.4444444444444444,
                          "#bd3786"
                        ],
                        [
                          0.5555555555555556,
                          "#d8576b"
                        ],
                        [
                          0.6666666666666666,
                          "#ed7953"
                        ],
                        [
                          0.7777777777777778,
                          "#fb9f3a"
                        ],
                        [
                          0.8888888888888888,
                          "#fdca26"
                        ],
                        [
                          1,
                          "#f0f921"
                        ]
                      ],
                      "type": "heatmapgl"
                    }
                  ],
                  "heatmap": [
                    {
                      "colorbar": {
                        "outlinewidth": 0,
                        "ticks": ""
                      },
                      "colorscale": [
                        [
                          0,
                          "#0d0887"
                        ],
                        [
                          0.1111111111111111,
                          "#46039f"
                        ],
                        [
                          0.2222222222222222,
                          "#7201a8"
                        ],
                        [
                          0.3333333333333333,
                          "#9c179e"
                        ],
                        [
                          0.4444444444444444,
                          "#bd3786"
                        ],
                        [
                          0.5555555555555556,
                          "#d8576b"
                        ],
                        [
                          0.6666666666666666,
                          "#ed7953"
                        ],
                        [
                          0.7777777777777778,
                          "#fb9f3a"
                        ],
                        [
                          0.8888888888888888,
                          "#fdca26"
                        ],
                        [
                          1,
                          "#f0f921"
                        ]
                      ],
                      "type": "heatmap"
                    }
                  ],
                  "histogram2dcontour": [
                    {
                      "colorbar": {
                        "outlinewidth": 0,
                        "ticks": ""
                      },
                      "colorscale": [
                        [
                          0,
                          "#0d0887"
                        ],
                        [
                          0.1111111111111111,
                          "#46039f"
                        ],
                        [
                          0.2222222222222222,
                          "#7201a8"
                        ],
                        [
                          0.3333333333333333,
                          "#9c179e"
                        ],
                        [
                          0.4444444444444444,
                          "#bd3786"
                        ],
                        [
                          0.5555555555555556,
                          "#d8576b"
                        ],
                        [
                          0.6666666666666666,
                          "#ed7953"
                        ],
                        [
                          0.7777777777777778,
                          "#fb9f3a"
                        ],
                        [
                          0.8888888888888888,
                          "#fdca26"
                        ],
                        [
                          1,
                          "#f0f921"
                        ]
                      ],
                      "type": "histogram2dcontour"
                    }
                  ],
                  "histogram2d": [
                    {
                      "colorbar": {
                        "outlinewidth": 0,
                        "ticks": ""
                      },
                      "colorscale": [
                        [
                          0,
                          "#0d0887"
                        ],
                        [
                          0.1111111111111111,
                          "#46039f"
                        ],
                        [
                          0.2222222222222222,
                          "#7201a8"
                        ],
                        [
                          0.3333333333333333,
                          "#9c179e"
                        ],
                        [
                          0.4444444444444444,
                          "#bd3786"
                        ],
                        [
                          0.5555555555555556,
                          "#d8576b"
                        ],
                        [
                          0.6666666666666666,
                          "#ed7953"
                        ],
                        [
                          0.7777777777777778,
                          "#fb9f3a"
                        ],
                        [
                          0.8888888888888888,
                          "#fdca26"
                        ],
                        [
                          1,
                          "#f0f921"
                        ]
                      ],
                      "type": "histogram2d"
                    }
                  ],
                  "histogram": [
                    {
                      "marker": {
                        "pattern": {
                          "fillmode": "overlay",
                          "size": 10,
                          "solidity": 0.2
                        }
                      },
                      "type": "histogram"
                    }
                  ],
                  "mesh3d": [
                    {
                      "colorbar": {
                        "outlinewidth": 0,
                        "ticks": ""
                      },
                      "type": "mesh3d"
                    }
                  ],
                  "parcoords": [
                    {
                      "line": {
                        "colorbar": {
                          "outlinewidth": 0,
                          "ticks": ""
                        }
                      },
                      "type": "parcoords"
                    }
                  ],
                  "pie": [
                    {
                      "automargin": true,
                      "type": "pie"
                    }
                  ],
                  "scatter3d": [
                    {
                      "line": {
                        "colorbar": {
                          "outlinewidth": 0,
                          "ticks": ""
                        }
                      },
                      "marker": {
                        "colorbar": {
                          "outlinewidth": 0,
                          "ticks": ""
                        }
                      },
                      "type": "scatter3d"
                    }
                  ],
                  "scattercarpet": [
                    {
                      "marker": {
                        "colorbar": {
                          "outlinewidth": 0,
                          "ticks": ""
                        }
                      },
                      "type": "scattercarpet"
                    }
                  ],
                  "scattergeo": [
                    {
                      "marker": {
                        "colorbar": {
                          "outlinewidth": 0,
                          "ticks": ""
                        }
                      },
                      "type": "scattergeo"
                    }
                  ],
                  "scattergl": [
                    {
                      "marker": {
                        "colorbar": {
                          "outlinewidth": 0,
                          "ticks": ""
                        }
                      },
                      "type": "scattergl"
                    }
                  ],
                  "scattermapbox": [
                    {
                      "marker": {
                        "colorbar": {
                          "outlinewidth": 0,
                          "ticks": ""
                        }
                      },
                      "type": "scattermapbox"
                    }
                  ],
                  "scatterpolargl": [
                    {
                      "marker": {
                        "colorbar": {
                          "outlinewidth": 0,
                          "ticks": ""
                        }
                      },
                      "type": "scatterpolargl"
                    }
                  ],
                  "scatterpolar": [
                    {
                      "marker": {
                        "colorbar": {
                          "outlinewidth": 0,
                          "ticks": ""
                        }
                      },
                      "type": "scatterpolar"
                    }
                  ],
                  "scatter": [
                    {
                      "fillpattern": {
                        "fillmode": "overlay",
                        "size": 10,
                        "solidity": 0.2
                      },
                      "type": "scatter"
                    }
                  ],
                  "scatterternary": [
                    {
                      "marker": {
                        "colorbar": {
                          "outlinewidth": 0,
                          "ticks": ""
                        }
                      },
                      "type": "scatterternary"
                    }
                  ],
                  "surface": [
                    {
                      "colorbar": {
                        "outlinewidth": 0,
                        "ticks": ""
                      },
                      "colorscale": [
                        [
                          0,
                          "#0d0887"
                        ],
                        [
                          0.1111111111111111,
                          "#46039f"
                        ],
                        [
                          0.2222222222222222,
                          "#7201a8"
                        ],
                        [
                          0.3333333333333333,
                          "#9c179e"
                        ],
                        [
                          0.4444444444444444,
                          "#bd3786"
                        ],
                        [
                          0.5555555555555556,
                          "#d8576b"
                        ],
                        [
                          0.6666666666666666,
                          "#ed7953"
                        ],
                        [
                          0.7777777777777778,
                          "#fb9f3a"
                        ],
                        [
                          0.8888888888888888,
                          "#fdca26"
                        ],
                        [
                          1,
                          "#f0f921"
                        ]
                      ],
                      "type": "surface"
                    }
                  ],
                  "table": [
                    {
                      "cells": {
                        "fill": {
                          "color": "#EBF0F8"
                        },
                        "line": {
                          "color": "white"
                        }
                      },
                      "header": {
                        "fill": {
                          "color": "#C8D4E3"
                        },
                        "line": {
                          "color": "white"
                        }
                      },
                      "type": "table"
                    }
                  ]
                },
                "layout": {
                  "annotationdefaults": {
                    "arrowcolor": "#2a3f5f",
                    "arrowhead": 0,
                    "arrowwidth": 1
                  },
                  "autotypenumbers": "strict",
                  "coloraxis": {
                    "colorbar": {
                      "outlinewidth": 0,
                      "ticks": ""
                    }
                  },
                  "colorscale": {
                    "diverging": [
                      [
                        0,
                        "#8e0152"
                      ],
                      [
                        0.1,
                        "#c51b7d"
                      ],
                      [
                        0.2,
                        "#de77ae"
                      ],
                      [
                        0.3,
                        "#f1b6da"
                      ],
                      [
                        0.4,
                        "#fde0ef"
                      ],
                      [
                        0.5,
                        "#f7f7f7"
                      ],
                      [
                        0.6,
                        "#e6f5d0"
                      ],
                      [
                        0.7,
                        "#b8e186"
                      ],
                      [
                        0.8,
                        "#7fbc41"
                      ],
                      [
                        0.9,
                        "#4d9221"
                      ],
                      [
                        1,
                        "#276419"
                      ]
                    ],
                    "sequential": [
                      [
                        0,
                        "#0d0887"
                      ],
                      [
                        0.1111111111111111,
                        "#46039f"
                      ],
                      [
                        0.2222222222222222,
                        "#7201a8"
                      ],
                      [
                        0.3333333333333333,
                        "#9c179e"
                      ],
                      [
                        0.4444444444444444,
                        "#bd3786"
                      ],
                      [
                        0.5555555555555556,
                        "#d8576b"
                      ],
                      [
                        0.6666666666666666,
                        "#ed7953"
                      ],
                      [
                        0.7777777777777778,
                        "#fb9f3a"
                      ],
                      [
                        0.8888888888888888,
                        "#fdca26"
                      ],
                      [
                        1,
                        "#f0f921"
                      ]
                    ],
                    "sequentialminus": [
                      [
                        0,
                        "#0d0887"
                      ],
                      [
                        0.1111111111111111,
                        "#46039f"
                      ],
                      [
                        0.2222222222222222,
                        "#7201a8"
                      ],
                      [
                        0.3333333333333333,
                        "#9c179e"
                      ],
                      [
                        0.4444444444444444,
                        "#bd3786"
                      ],
                      [
                        0.5555555555555556,
                        "#d8576b"
                      ],
                      [
                        0.6666666666666666,
                        "#ed7953"
                      ],
                      [
                        0.7777777777777778,
                        "#fb9f3a"
                      ],
                      [
                        0.8888888888888888,
                        "#fdca26"
                      ],
                      [
                        1,
                        "#f0f921"
                      ]
                    ]
                  },
                  "colorway": [
                    "#636efa",
                    "#EF553B",
                    "#00cc96",
                    "#ab63fa",
                    "#FFA15A",
                    "#19d3f3",
                    "#FF6692",
                    "#B6E880",
                    "#FF97FF",
                    "#FECB52"
                  ],
                  "font": {
                    "color": "#2a3f5f"
                  },
                  "geo": {
                    "bgcolor": "white",
                    "lakecolor": "white",
                    "landcolor": "#E5ECF6",
                    "showlakes": true,
                    "showland": true,
                    "subunitcolor": "white"
                  },
                  "hoverlabel": {
                    "align": "left"
                  },
                  "hovermode": "closest",
                  "mapbox": {
                    "style": "light"
                  },
                  "paper_bgcolor": "white",
                  "plot_bgcolor": "#E5ECF6",
                  "polar": {
                    "angularaxis": {
                      "gridcolor": "white",
                      "linecolor": "white",
                      "ticks": ""
                    },
                    "bgcolor": "#E5ECF6",
                    "radialaxis": {
                      "gridcolor": "white",
                      "linecolor": "white",
                      "ticks": ""
                    }
                  },
                  "scene": {
                    "xaxis": {
                      "backgroundcolor": "#E5ECF6",
                      "gridcolor": "white",
                      "gridwidth": 2,
                      "linecolor": "white",
                      "showbackground": true,
                      "ticks": "",
                      "zerolinecolor": "white"
                    },
                    "yaxis": {
                      "backgroundcolor": "#E5ECF6",
                      "gridcolor": "white",
                      "gridwidth": 2,
                      "linecolor": "white",
                      "showbackground": true,
                      "ticks": "",
                      "zerolinecolor": "white"
                    },
                    "zaxis": {
                      "backgroundcolor": "#E5ECF6",
                      "gridcolor": "white",
                      "gridwidth": 2,
                      "linecolor": "white",
                      "showbackground": true,
                      "ticks": "",
                      "zerolinecolor": "white"
                    }
                  },
                  "shapedefaults": {
                    "line": {
                      "color": "#2a3f5f"
                    }
                  },
                  "ternary": {
                    "aaxis": {
                      "gridcolor": "white",
                      "linecolor": "white",
                      "ticks": ""
                    },
                    "baxis": {
                      "gridcolor": "white",
                      "linecolor": "white",
                      "ticks": ""
                    },
                    "bgcolor": "#E5ECF6",
                    "caxis": {
                      "gridcolor": "white",
                      "linecolor": "white",
                      "ticks": ""
                    }
                  },
                  "title": {
                    "x": 0.05
                  },
                  "xaxis": {
                    "automargin": true,
                    "gridcolor": "white",
                    "linecolor": "white",
                    "ticks": "",
                    "title": {
                      "standoff": 15
                    },
                    "zerolinecolor": "white",
                    "zerolinewidth": 2
                  },
                  "yaxis": {
                    "automargin": true,
                    "gridcolor": "white",
                    "linecolor": "white",
                    "ticks": "",
                    "title": {
                      "standoff": 15
                    },
                    "zerolinecolor": "white",
                    "zerolinewidth": 2
                  }
                }
              },
              "title": {
                "text": "Printing process, Electrical principle and Direct printing"
              },
              "width": 700,
              "xaxis": {
                "title": {
                  "text": "Pressure [kPa]"
                },
                "type": "log"
              },
              "yaxis": {
                "title": {
                  "text": "Sensitivity [kPa<sup>-1</sup>]"
                },
                "type": "log"
              }
            },
            "_model_module": "jupyterlab-plotly",
            "_model_module_version": "^5.24.1",
            "_model_name": "FigureModel",
            "_py2js_addTraces": {},
            "_py2js_animate": {},
            "_py2js_deleteTraces": {},
            "_py2js_moveTraces": {},
            "_py2js_relayout": {},
            "_py2js_removeLayoutProps": {},
            "_py2js_removeTraceProps": {},
            "_py2js_restyle": {},
            "_py2js_update": {},
            "_view_count": 1,
            "_view_module": "jupyterlab-plotly",
            "_view_module_version": "^5.24.1",
            "_view_name": "FigureView"
          }
        },
        "6048cca0526f47c6b03f192f5a5acf47": {
          "model_module": "jupyterlab-plotly",
          "model_name": "FigureModel",
          "model_module_version": "^5.24.1",
          "state": {
            "_config": {
              "plotlyServerURL": "https://plot.ly"
            },
            "_data": [
              {
                "hovertemplate": "DOI: %{text}<br>Sensing basis: Porous</br>Material: Carbon (Custom)<extra></extra>",
                "legendgroup": "Carbon",
                "legendgrouptitle": {
                  "text": "Carbon"
                },
                "marker": {
                  "color": "#648fff",
                  "line": {
                    "color": "black",
                    "width": 2
                  },
                  "size": 10,
                  "symbol": "triangle-down-open"
                },
                "mode": "markers",
                "name": "Porous",
                "text": [
                  "10.1002/smll.202301378",
                  "10.1021/acsami.0c21407 "
                ],
                "visible": true,
                "x": {
                  "dtype": "float64",
                  "shape": [
                    2
                  ]
                },
                "y": {
                  "dtype": "float64",
                  "shape": [
                    2
                  ]
                },
                "type": "scatter",
                "uid": "750d117e-4650-45dd-be94-6ccddae64023"
              },
              {
                "hovertemplate": "DOI: %{text}<br>Sensing basis: Material</br>Material: Carbon (Custom)<extra></extra>",
                "legendgroup": "Carbon",
                "legendgrouptitle": {
                  "text": "Carbon"
                },
                "marker": {
                  "color": "#648fff",
                  "line": {
                    "color": "black",
                    "width": 2
                  },
                  "size": 10,
                  "symbol": "square-open"
                },
                "mode": "markers",
                "name": "Material",
                "text": [
                  "10.1016/j.jmapro.2023.01.008",
                  "10.1038/s41598-023-29261-0"
                ],
                "visible": true,
                "x": {
                  "dtype": "float64",
                  "shape": [
                    2
                  ]
                },
                "y": {
                  "dtype": "float64",
                  "shape": [
                    2
                  ]
                },
                "type": "scatter",
                "uid": "58994e60-c05a-4498-88c9-4887b4c4c779"
              },
              {
                "hovertemplate": "DOI: %{text}<br>Sensing basis: Surface</br>Material: Carbon (Custom)<extra></extra>",
                "legendgroup": "Carbon",
                "legendgrouptitle": {
                  "text": "Carbon"
                },
                "marker": {
                  "color": "#648fff",
                  "line": {
                    "color": "black",
                    "width": 2
                  },
                  "size": 10,
                  "symbol": "circle-open"
                },
                "mode": "markers",
                "name": "Surface",
                "text": [
                  "10.1021/acsami.0c06977"
                ],
                "visible": true,
                "x": {
                  "dtype": "float64",
                  "shape": [
                    1
                  ]
                },
                "y": {
                  "dtype": "float64",
                  "shape": [
                    1
                  ]
                },
                "type": "scatter",
                "uid": "71d8175a-1072-46b6-b240-50a6737658e5"
              },
              {
                "hovertemplate": "DOI: %{text}<br>Sensing basis: Microcracks</br>Material: Metal<extra></extra>",
                "legendgroup": "Metal",
                "legendgrouptitle": {
                  "text": "Metal"
                },
                "marker": {
                  "color": "#785ef0",
                  "line": {
                    "color": "black",
                    "width": 2
                  },
                  "size": 10,
                  "symbol": "diamond"
                },
                "mode": "markers",
                "name": "Microcracks",
                "text": [
                  "10.1002/admt.202000984"
                ],
                "visible": true,
                "x": {
                  "dtype": "float64",
                  "shape": [
                    1
                  ]
                },
                "y": {
                  "dtype": "float64",
                  "shape": [
                    1
                  ]
                },
                "type": "scatter",
                "uid": "ae502964-e0d2-42a9-bbab-79206ba02132"
              },
              {
                "hovertemplate": "DOI: %{text}<br>Sensing basis: Displacement</br>Material: Carbon<extra></extra>",
                "legendgroup": "Carbon",
                "legendgrouptitle": {
                  "text": "Carbon"
                },
                "marker": {
                  "color": "#648fff",
                  "line": {
                    "color": "black",
                    "width": 2
                  },
                  "size": 10,
                  "symbol": "pentagon"
                },
                "mode": "markers",
                "name": "Displacement",
                "text": [
                  "10.1038/s41528-024-00309-z",
                  "10.1109/FLEPS51544.2021.9469839",
                  "10.1109/JSEN.2022.3179233"
                ],
                "visible": true,
                "x": {
                  "dtype": "float64",
                  "shape": [
                    3
                  ]
                },
                "y": {
                  "dtype": "float64",
                  "shape": [
                    3
                  ]
                },
                "type": "scatter",
                "uid": "df838b96-9e10-485e-a3da-5472565da657"
              },
              {
                "hovertemplate": "DOI: %{text}<br>Sensing basis: Displacement</br>Material: Metal<extra></extra>",
                "legendgroup": "Metal",
                "legendgrouptitle": {
                  "text": "Metal"
                },
                "marker": {
                  "color": "#785ef0",
                  "line": {
                    "color": "black",
                    "width": 2
                  },
                  "size": 10,
                  "symbol": "pentagon"
                },
                "mode": "markers",
                "name": "Displacement",
                "text": [
                  "10.1002/aisy.201900080"
                ],
                "visible": true,
                "x": {
                  "dtype": "float64",
                  "shape": [
                    1
                  ]
                },
                "y": {
                  "dtype": "float64",
                  "shape": [
                    1
                  ]
                },
                "type": "scatter",
                "uid": "e1e2016d-b1db-4bb4-bbac-bda641118054"
              },
              {
                "hovertemplate": "DOI: %{text}<br>Sensing basis: Displacement</br>Material: Liquid<extra></extra>",
                "legendgroup": "Liquid",
                "legendgrouptitle": {
                  "text": "Liquid"
                },
                "marker": {
                  "color": "#dc267f",
                  "line": {
                    "color": "black",
                    "width": 2
                  },
                  "size": 10,
                  "symbol": "pentagon"
                },
                "mode": "markers",
                "name": "Displacement",
                "text": [
                  "10.1002/admt.202101657"
                ],
                "visible": true,
                "x": {
                  "dtype": "float64",
                  "shape": [
                    1
                  ]
                },
                "y": {
                  "dtype": "float64",
                  "shape": [
                    1
                  ]
                },
                "type": "scatter",
                "uid": "0a5e0ae0-5ac1-451b-8858-ae105ab1d202"
              },
              {
                "hovertemplate": "DOI: %{text}<br>Sensing basis: Displacement</br>Material: Carbon (Custom)<extra></extra>",
                "legendgroup": "Carbon",
                "legendgrouptitle": {
                  "text": "Carbon"
                },
                "marker": {
                  "color": "#648fff",
                  "line": {
                    "color": "black",
                    "width": 2
                  },
                  "size": 10,
                  "symbol": "pentagon-open"
                },
                "mode": "markers",
                "name": "Displacement",
                "text": [
                  "10.1016/j.addma.2017.08.011"
                ],
                "visible": true,
                "x": {
                  "dtype": "float64",
                  "shape": [
                    1
                  ]
                },
                "y": {
                  "dtype": "float64",
                  "shape": [
                    1
                  ]
                },
                "type": "scatter",
                "uid": "61c80a5b-59ac-4885-819d-5f517d472354"
              },
              {
                "hovertemplate": "DOI: %{text}<br>Sensing basis: Displacement</br>Material: Metal (Custom)<extra></extra>",
                "legendgroup": "Metal",
                "legendgrouptitle": {
                  "text": "Metal"
                },
                "marker": {
                  "color": "#785ef0",
                  "line": {
                    "color": "black",
                    "width": 2
                  },
                  "size": 10,
                  "symbol": "pentagon-open"
                },
                "mode": "markers",
                "name": "Displacement",
                "text": [
                  "10.1109/FLEPS53764.2022.9781553"
                ],
                "visible": true,
                "x": {
                  "dtype": "float64",
                  "shape": [
                    1
                  ]
                },
                "y": {
                  "dtype": "float64",
                  "shape": [
                    1
                  ]
                },
                "type": "scatter",
                "uid": "0cae0d4c-4a04-4047-ba32-ecd9ccc9d6c0"
              },
              {
                "hovertemplate": "DOI: %{text}<br>Sensing basis: Other</br>Material: Other (Custom)<extra></extra>",
                "legendgroup": "Other",
                "legendgrouptitle": {
                  "text": "Other"
                },
                "marker": {
                  "color": "#ffb000",
                  "line": {
                    "color": "black",
                    "width": 2
                  },
                  "size": 10,
                  "symbol": "cross-open"
                },
                "mode": "markers",
                "name": "Other",
                "text": [
                  "10.1002/admt.202201272"
                ],
                "visible": true,
                "x": {
                  "dtype": "float64",
                  "shape": [
                    1
                  ]
                },
                "y": {
                  "dtype": "float64",
                  "shape": [
                    1
                  ]
                },
                "type": "scatter",
                "uid": "54c9f146-d106-4691-bd50-828e9484fff7"
              }
            ],
            "_dom_classes": [],
            "_js2py_layoutDelta": null,
            "_js2py_pointsCallback": null,
            "_js2py_relayout": null,
            "_js2py_restyle": {},
            "_js2py_traceDeltas": null,
            "_js2py_update": {},
            "_last_layout_edit_id": 3,
            "_last_trace_edit_id": 0,
            "_layout": {
              "height": 700,
              "legend": {
                "entrywidth": 0.23,
                "entrywidthmode": "fraction",
                "groupclick": "toggleitem",
                "orientation": "h",
                "tracegroupgap": 150,
                "y": -0.12,
                "yanchor": "top"
              },
              "margin": {
                "autoexpand": false,
                "b": 250
              },
              "template": {
                "data": {
                  "barpolar": [
                    {
                      "marker": {
                        "line": {
                          "color": "#E5ECF6",
                          "width": 0.5
                        },
                        "pattern": {
                          "fillmode": "overlay",
                          "size": 10,
                          "solidity": 0.2
                        }
                      },
                      "type": "barpolar"
                    }
                  ],
                  "bar": [
                    {
                      "error_x": {
                        "color": "#2a3f5f"
                      },
                      "error_y": {
                        "color": "#2a3f5f"
                      },
                      "marker": {
                        "line": {
                          "color": "#E5ECF6",
                          "width": 0.5
                        },
                        "pattern": {
                          "fillmode": "overlay",
                          "size": 10,
                          "solidity": 0.2
                        }
                      },
                      "type": "bar"
                    }
                  ],
                  "carpet": [
                    {
                      "aaxis": {
                        "endlinecolor": "#2a3f5f",
                        "gridcolor": "white",
                        "linecolor": "white",
                        "minorgridcolor": "white",
                        "startlinecolor": "#2a3f5f"
                      },
                      "baxis": {
                        "endlinecolor": "#2a3f5f",
                        "gridcolor": "white",
                        "linecolor": "white",
                        "minorgridcolor": "white",
                        "startlinecolor": "#2a3f5f"
                      },
                      "type": "carpet"
                    }
                  ],
                  "choropleth": [
                    {
                      "colorbar": {
                        "outlinewidth": 0,
                        "ticks": ""
                      },
                      "type": "choropleth"
                    }
                  ],
                  "contourcarpet": [
                    {
                      "colorbar": {
                        "outlinewidth": 0,
                        "ticks": ""
                      },
                      "type": "contourcarpet"
                    }
                  ],
                  "contour": [
                    {
                      "colorbar": {
                        "outlinewidth": 0,
                        "ticks": ""
                      },
                      "colorscale": [
                        [
                          0,
                          "#0d0887"
                        ],
                        [
                          0.1111111111111111,
                          "#46039f"
                        ],
                        [
                          0.2222222222222222,
                          "#7201a8"
                        ],
                        [
                          0.3333333333333333,
                          "#9c179e"
                        ],
                        [
                          0.4444444444444444,
                          "#bd3786"
                        ],
                        [
                          0.5555555555555556,
                          "#d8576b"
                        ],
                        [
                          0.6666666666666666,
                          "#ed7953"
                        ],
                        [
                          0.7777777777777778,
                          "#fb9f3a"
                        ],
                        [
                          0.8888888888888888,
                          "#fdca26"
                        ],
                        [
                          1,
                          "#f0f921"
                        ]
                      ],
                      "type": "contour"
                    }
                  ],
                  "heatmapgl": [
                    {
                      "colorbar": {
                        "outlinewidth": 0,
                        "ticks": ""
                      },
                      "colorscale": [
                        [
                          0,
                          "#0d0887"
                        ],
                        [
                          0.1111111111111111,
                          "#46039f"
                        ],
                        [
                          0.2222222222222222,
                          "#7201a8"
                        ],
                        [
                          0.3333333333333333,
                          "#9c179e"
                        ],
                        [
                          0.4444444444444444,
                          "#bd3786"
                        ],
                        [
                          0.5555555555555556,
                          "#d8576b"
                        ],
                        [
                          0.6666666666666666,
                          "#ed7953"
                        ],
                        [
                          0.7777777777777778,
                          "#fb9f3a"
                        ],
                        [
                          0.8888888888888888,
                          "#fdca26"
                        ],
                        [
                          1,
                          "#f0f921"
                        ]
                      ],
                      "type": "heatmapgl"
                    }
                  ],
                  "heatmap": [
                    {
                      "colorbar": {
                        "outlinewidth": 0,
                        "ticks": ""
                      },
                      "colorscale": [
                        [
                          0,
                          "#0d0887"
                        ],
                        [
                          0.1111111111111111,
                          "#46039f"
                        ],
                        [
                          0.2222222222222222,
                          "#7201a8"
                        ],
                        [
                          0.3333333333333333,
                          "#9c179e"
                        ],
                        [
                          0.4444444444444444,
                          "#bd3786"
                        ],
                        [
                          0.5555555555555556,
                          "#d8576b"
                        ],
                        [
                          0.6666666666666666,
                          "#ed7953"
                        ],
                        [
                          0.7777777777777778,
                          "#fb9f3a"
                        ],
                        [
                          0.8888888888888888,
                          "#fdca26"
                        ],
                        [
                          1,
                          "#f0f921"
                        ]
                      ],
                      "type": "heatmap"
                    }
                  ],
                  "histogram2dcontour": [
                    {
                      "colorbar": {
                        "outlinewidth": 0,
                        "ticks": ""
                      },
                      "colorscale": [
                        [
                          0,
                          "#0d0887"
                        ],
                        [
                          0.1111111111111111,
                          "#46039f"
                        ],
                        [
                          0.2222222222222222,
                          "#7201a8"
                        ],
                        [
                          0.3333333333333333,
                          "#9c179e"
                        ],
                        [
                          0.4444444444444444,
                          "#bd3786"
                        ],
                        [
                          0.5555555555555556,
                          "#d8576b"
                        ],
                        [
                          0.6666666666666666,
                          "#ed7953"
                        ],
                        [
                          0.7777777777777778,
                          "#fb9f3a"
                        ],
                        [
                          0.8888888888888888,
                          "#fdca26"
                        ],
                        [
                          1,
                          "#f0f921"
                        ]
                      ],
                      "type": "histogram2dcontour"
                    }
                  ],
                  "histogram2d": [
                    {
                      "colorbar": {
                        "outlinewidth": 0,
                        "ticks": ""
                      },
                      "colorscale": [
                        [
                          0,
                          "#0d0887"
                        ],
                        [
                          0.1111111111111111,
                          "#46039f"
                        ],
                        [
                          0.2222222222222222,
                          "#7201a8"
                        ],
                        [
                          0.3333333333333333,
                          "#9c179e"
                        ],
                        [
                          0.4444444444444444,
                          "#bd3786"
                        ],
                        [
                          0.5555555555555556,
                          "#d8576b"
                        ],
                        [
                          0.6666666666666666,
                          "#ed7953"
                        ],
                        [
                          0.7777777777777778,
                          "#fb9f3a"
                        ],
                        [
                          0.8888888888888888,
                          "#fdca26"
                        ],
                        [
                          1,
                          "#f0f921"
                        ]
                      ],
                      "type": "histogram2d"
                    }
                  ],
                  "histogram": [
                    {
                      "marker": {
                        "pattern": {
                          "fillmode": "overlay",
                          "size": 10,
                          "solidity": 0.2
                        }
                      },
                      "type": "histogram"
                    }
                  ],
                  "mesh3d": [
                    {
                      "colorbar": {
                        "outlinewidth": 0,
                        "ticks": ""
                      },
                      "type": "mesh3d"
                    }
                  ],
                  "parcoords": [
                    {
                      "line": {
                        "colorbar": {
                          "outlinewidth": 0,
                          "ticks": ""
                        }
                      },
                      "type": "parcoords"
                    }
                  ],
                  "pie": [
                    {
                      "automargin": true,
                      "type": "pie"
                    }
                  ],
                  "scatter3d": [
                    {
                      "line": {
                        "colorbar": {
                          "outlinewidth": 0,
                          "ticks": ""
                        }
                      },
                      "marker": {
                        "colorbar": {
                          "outlinewidth": 0,
                          "ticks": ""
                        }
                      },
                      "type": "scatter3d"
                    }
                  ],
                  "scattercarpet": [
                    {
                      "marker": {
                        "colorbar": {
                          "outlinewidth": 0,
                          "ticks": ""
                        }
                      },
                      "type": "scattercarpet"
                    }
                  ],
                  "scattergeo": [
                    {
                      "marker": {
                        "colorbar": {
                          "outlinewidth": 0,
                          "ticks": ""
                        }
                      },
                      "type": "scattergeo"
                    }
                  ],
                  "scattergl": [
                    {
                      "marker": {
                        "colorbar": {
                          "outlinewidth": 0,
                          "ticks": ""
                        }
                      },
                      "type": "scattergl"
                    }
                  ],
                  "scattermapbox": [
                    {
                      "marker": {
                        "colorbar": {
                          "outlinewidth": 0,
                          "ticks": ""
                        }
                      },
                      "type": "scattermapbox"
                    }
                  ],
                  "scatterpolargl": [
                    {
                      "marker": {
                        "colorbar": {
                          "outlinewidth": 0,
                          "ticks": ""
                        }
                      },
                      "type": "scatterpolargl"
                    }
                  ],
                  "scatterpolar": [
                    {
                      "marker": {
                        "colorbar": {
                          "outlinewidth": 0,
                          "ticks": ""
                        }
                      },
                      "type": "scatterpolar"
                    }
                  ],
                  "scatter": [
                    {
                      "fillpattern": {
                        "fillmode": "overlay",
                        "size": 10,
                        "solidity": 0.2
                      },
                      "type": "scatter"
                    }
                  ],
                  "scatterternary": [
                    {
                      "marker": {
                        "colorbar": {
                          "outlinewidth": 0,
                          "ticks": ""
                        }
                      },
                      "type": "scatterternary"
                    }
                  ],
                  "surface": [
                    {
                      "colorbar": {
                        "outlinewidth": 0,
                        "ticks": ""
                      },
                      "colorscale": [
                        [
                          0,
                          "#0d0887"
                        ],
                        [
                          0.1111111111111111,
                          "#46039f"
                        ],
                        [
                          0.2222222222222222,
                          "#7201a8"
                        ],
                        [
                          0.3333333333333333,
                          "#9c179e"
                        ],
                        [
                          0.4444444444444444,
                          "#bd3786"
                        ],
                        [
                          0.5555555555555556,
                          "#d8576b"
                        ],
                        [
                          0.6666666666666666,
                          "#ed7953"
                        ],
                        [
                          0.7777777777777778,
                          "#fb9f3a"
                        ],
                        [
                          0.8888888888888888,
                          "#fdca26"
                        ],
                        [
                          1,
                          "#f0f921"
                        ]
                      ],
                      "type": "surface"
                    }
                  ],
                  "table": [
                    {
                      "cells": {
                        "fill": {
                          "color": "#EBF0F8"
                        },
                        "line": {
                          "color": "white"
                        }
                      },
                      "header": {
                        "fill": {
                          "color": "#C8D4E3"
                        },
                        "line": {
                          "color": "white"
                        }
                      },
                      "type": "table"
                    }
                  ]
                },
                "layout": {
                  "annotationdefaults": {
                    "arrowcolor": "#2a3f5f",
                    "arrowhead": 0,
                    "arrowwidth": 1
                  },
                  "autotypenumbers": "strict",
                  "coloraxis": {
                    "colorbar": {
                      "outlinewidth": 0,
                      "ticks": ""
                    }
                  },
                  "colorscale": {
                    "diverging": [
                      [
                        0,
                        "#8e0152"
                      ],
                      [
                        0.1,
                        "#c51b7d"
                      ],
                      [
                        0.2,
                        "#de77ae"
                      ],
                      [
                        0.3,
                        "#f1b6da"
                      ],
                      [
                        0.4,
                        "#fde0ef"
                      ],
                      [
                        0.5,
                        "#f7f7f7"
                      ],
                      [
                        0.6,
                        "#e6f5d0"
                      ],
                      [
                        0.7,
                        "#b8e186"
                      ],
                      [
                        0.8,
                        "#7fbc41"
                      ],
                      [
                        0.9,
                        "#4d9221"
                      ],
                      [
                        1,
                        "#276419"
                      ]
                    ],
                    "sequential": [
                      [
                        0,
                        "#0d0887"
                      ],
                      [
                        0.1111111111111111,
                        "#46039f"
                      ],
                      [
                        0.2222222222222222,
                        "#7201a8"
                      ],
                      [
                        0.3333333333333333,
                        "#9c179e"
                      ],
                      [
                        0.4444444444444444,
                        "#bd3786"
                      ],
                      [
                        0.5555555555555556,
                        "#d8576b"
                      ],
                      [
                        0.6666666666666666,
                        "#ed7953"
                      ],
                      [
                        0.7777777777777778,
                        "#fb9f3a"
                      ],
                      [
                        0.8888888888888888,
                        "#fdca26"
                      ],
                      [
                        1,
                        "#f0f921"
                      ]
                    ],
                    "sequentialminus": [
                      [
                        0,
                        "#0d0887"
                      ],
                      [
                        0.1111111111111111,
                        "#46039f"
                      ],
                      [
                        0.2222222222222222,
                        "#7201a8"
                      ],
                      [
                        0.3333333333333333,
                        "#9c179e"
                      ],
                      [
                        0.4444444444444444,
                        "#bd3786"
                      ],
                      [
                        0.5555555555555556,
                        "#d8576b"
                      ],
                      [
                        0.6666666666666666,
                        "#ed7953"
                      ],
                      [
                        0.7777777777777778,
                        "#fb9f3a"
                      ],
                      [
                        0.8888888888888888,
                        "#fdca26"
                      ],
                      [
                        1,
                        "#f0f921"
                      ]
                    ]
                  },
                  "colorway": [
                    "#636efa",
                    "#EF553B",
                    "#00cc96",
                    "#ab63fa",
                    "#FFA15A",
                    "#19d3f3",
                    "#FF6692",
                    "#B6E880",
                    "#FF97FF",
                    "#FECB52"
                  ],
                  "font": {
                    "color": "#2a3f5f"
                  },
                  "geo": {
                    "bgcolor": "white",
                    "lakecolor": "white",
                    "landcolor": "#E5ECF6",
                    "showlakes": true,
                    "showland": true,
                    "subunitcolor": "white"
                  },
                  "hoverlabel": {
                    "align": "left"
                  },
                  "hovermode": "closest",
                  "mapbox": {
                    "style": "light"
                  },
                  "paper_bgcolor": "white",
                  "plot_bgcolor": "#E5ECF6",
                  "polar": {
                    "angularaxis": {
                      "gridcolor": "white",
                      "linecolor": "white",
                      "ticks": ""
                    },
                    "bgcolor": "#E5ECF6",
                    "radialaxis": {
                      "gridcolor": "white",
                      "linecolor": "white",
                      "ticks": ""
                    }
                  },
                  "scene": {
                    "xaxis": {
                      "backgroundcolor": "#E5ECF6",
                      "gridcolor": "white",
                      "gridwidth": 2,
                      "linecolor": "white",
                      "showbackground": true,
                      "ticks": "",
                      "zerolinecolor": "white"
                    },
                    "yaxis": {
                      "backgroundcolor": "#E5ECF6",
                      "gridcolor": "white",
                      "gridwidth": 2,
                      "linecolor": "white",
                      "showbackground": true,
                      "ticks": "",
                      "zerolinecolor": "white"
                    },
                    "zaxis": {
                      "backgroundcolor": "#E5ECF6",
                      "gridcolor": "white",
                      "gridwidth": 2,
                      "linecolor": "white",
                      "showbackground": true,
                      "ticks": "",
                      "zerolinecolor": "white"
                    }
                  },
                  "shapedefaults": {
                    "line": {
                      "color": "#2a3f5f"
                    }
                  },
                  "ternary": {
                    "aaxis": {
                      "gridcolor": "white",
                      "linecolor": "white",
                      "ticks": ""
                    },
                    "baxis": {
                      "gridcolor": "white",
                      "linecolor": "white",
                      "ticks": ""
                    },
                    "bgcolor": "#E5ECF6",
                    "caxis": {
                      "gridcolor": "white",
                      "linecolor": "white",
                      "ticks": ""
                    }
                  },
                  "title": {
                    "x": 0.05
                  },
                  "xaxis": {
                    "automargin": true,
                    "gridcolor": "white",
                    "linecolor": "white",
                    "ticks": "",
                    "title": {
                      "standoff": 15
                    },
                    "zerolinecolor": "white",
                    "zerolinewidth": 2
                  },
                  "yaxis": {
                    "automargin": true,
                    "gridcolor": "white",
                    "linecolor": "white",
                    "ticks": "",
                    "title": {
                      "standoff": 15
                    },
                    "zerolinecolor": "white",
                    "zerolinewidth": 2
                  }
                }
              },
              "title": {
                "text": "Conductive Material, Sensing Basis and Custom material"
              },
              "width": 700,
              "xaxis": {
                "title": {
                  "text": "Pressure [kPa]"
                },
                "type": "log"
              },
              "yaxis": {
                "title": {
                  "text": "Sensitivity [kPa<sup>-1</sup>]"
                },
                "type": "log"
              }
            },
            "_model_module": "jupyterlab-plotly",
            "_model_module_version": "^5.24.1",
            "_model_name": "FigureModel",
            "_py2js_addTraces": {},
            "_py2js_animate": {},
            "_py2js_deleteTraces": {},
            "_py2js_moveTraces": {},
            "_py2js_relayout": null,
            "_py2js_removeLayoutProps": null,
            "_py2js_removeTraceProps": {},
            "_py2js_restyle": {},
            "_py2js_update": {},
            "_view_count": 1,
            "_view_module": "jupyterlab-plotly",
            "_view_module_version": "^5.24.1",
            "_view_name": "FigureView"
          }
        },
        "b5293d77536242d8b2da1d4a1fe1a6bf": {
          "model_module": "@jupyter-widgets/base",
          "model_name": "LayoutModel",
          "model_module_version": "1.2.0",
          "state": {
            "_model_module": "@jupyter-widgets/base",
            "_model_module_version": "1.2.0",
            "_model_name": "LayoutModel",
            "_view_count": null,
            "_view_module": "@jupyter-widgets/base",
            "_view_module_version": "1.2.0",
            "_view_name": "LayoutView",
            "align_content": null,
            "align_items": null,
            "align_self": null,
            "border": null,
            "bottom": null,
            "display": null,
            "flex": null,
            "flex_flow": null,
            "grid_area": null,
            "grid_auto_columns": null,
            "grid_auto_flow": null,
            "grid_auto_rows": null,
            "grid_column": null,
            "grid_gap": null,
            "grid_row": null,
            "grid_template_areas": null,
            "grid_template_columns": null,
            "grid_template_rows": null,
            "height": null,
            "justify_content": null,
            "justify_items": null,
            "left": null,
            "margin": null,
            "max_height": null,
            "max_width": null,
            "min_height": null,
            "min_width": null,
            "object_fit": null,
            "object_position": null,
            "order": null,
            "overflow": null,
            "overflow_x": null,
            "overflow_y": null,
            "padding": null,
            "right": null,
            "top": null,
            "visibility": null,
            "width": null
          }
        }
      }
    }
  },
  "cells": [
    {
      "cell_type": "markdown",
      "metadata": {
        "id": "view-in-github",
        "colab_type": "text"
      },
      "source": [
        "<a href=\"https://colab.research.google.com/github/AWolstrup/ElemechSensors/blob/main/InteractivePlot_test.ipynb\" target=\"_parent\"><img src=\"https://colab.research.google.com/assets/colab-badge.svg\" alt=\"Open In Colab\"/></a>"
      ]
    },
    {
      "cell_type": "code",
      "execution_count": 63,
      "metadata": {
        "id": "t4HmRuc6hooA",
        "outputId": "88516b09-f0f3-43ff-b052-f675016b54eb",
        "colab": {
          "base_uri": "https://localhost:8080/"
        }
      },
      "outputs": [
        {
          "output_type": "stream",
          "name": "stdout",
          "text": [
            "Cloning into 'ElemechSensors'...\n",
            "remote: Enumerating objects: 59, done.\u001b[K\n",
            "remote: Counting objects:   1% (1/59)\u001b[K\rremote: Counting objects:   3% (2/59)\u001b[K\rremote: Counting objects:   5% (3/59)\u001b[K\rremote: Counting objects:   6% (4/59)\u001b[K\rremote: Counting objects:   8% (5/59)\u001b[K\rremote: Counting objects:  10% (6/59)\u001b[K\rremote: Counting objects:  11% (7/59)\u001b[K\rremote: Counting objects:  13% (8/59)\u001b[K\rremote: Counting objects:  15% (9/59)\u001b[K\rremote: Counting objects:  16% (10/59)\u001b[K\rremote: Counting objects:  18% (11/59)\u001b[K\rremote: Counting objects:  20% (12/59)\u001b[K\rremote: Counting objects:  22% (13/59)\u001b[K\rremote: Counting objects:  23% (14/59)\u001b[K\rremote: Counting objects:  25% (15/59)\u001b[K\rremote: Counting objects:  27% (16/59)\u001b[K\rremote: Counting objects:  28% (17/59)\u001b[K\rremote: Counting objects:  30% (18/59)\u001b[K\rremote: Counting objects:  32% (19/59)\u001b[K\rremote: Counting objects:  33% (20/59)\u001b[K\rremote: Counting objects:  35% (21/59)\u001b[K\rremote: Counting objects:  37% (22/59)\u001b[K\rremote: Counting objects:  38% (23/59)\u001b[K\rremote: Counting objects:  40% (24/59)\u001b[K\rremote: Counting objects:  42% (25/59)\u001b[K\rremote: Counting objects:  44% (26/59)\u001b[K\rremote: Counting objects:  45% (27/59)\u001b[K\rremote: Counting objects:  47% (28/59)\u001b[K\rremote: Counting objects:  49% (29/59)\u001b[K\rremote: Counting objects:  50% (30/59)\u001b[K\rremote: Counting objects:  52% (31/59)\u001b[K\rremote: Counting objects:  54% (32/59)\u001b[K\rremote: Counting objects:  55% (33/59)\u001b[K\rremote: Counting objects:  57% (34/59)\u001b[K\rremote: Counting objects:  59% (35/59)\u001b[K\rremote: Counting objects:  61% (36/59)\u001b[K\rremote: Counting objects:  62% (37/59)\u001b[K\rremote: Counting objects:  64% (38/59)\u001b[K\rremote: Counting objects:  66% (39/59)\u001b[K\rremote: Counting objects:  67% (40/59)\u001b[K\rremote: Counting objects:  69% (41/59)\u001b[K\rremote: Counting objects:  71% (42/59)\u001b[K\rremote: Counting objects:  72% (43/59)\u001b[K\rremote: Counting objects:  74% (44/59)\u001b[K\rremote: Counting objects:  76% (45/59)\u001b[K\rremote: Counting objects:  77% (46/59)\u001b[K\rremote: Counting objects:  79% (47/59)\u001b[K\rremote: Counting objects:  81% (48/59)\u001b[K\rremote: Counting objects:  83% (49/59)\u001b[K\rremote: Counting objects:  84% (50/59)\u001b[K\rremote: Counting objects:  86% (51/59)\u001b[K\rremote: Counting objects:  88% (52/59)\u001b[K\rremote: Counting objects:  89% (53/59)\u001b[K\rremote: Counting objects:  91% (54/59)\u001b[K\rremote: Counting objects:  93% (55/59)\u001b[K\rremote: Counting objects:  94% (56/59)\u001b[K\rremote: Counting objects:  96% (57/59)\u001b[K\rremote: Counting objects:  98% (58/59)\u001b[K\rremote: Counting objects: 100% (59/59)\u001b[K\rremote: Counting objects: 100% (59/59), done.\u001b[K\n",
            "remote: Compressing objects: 100% (59/59), done.\u001b[K\n",
            "remote: Total 59 (delta 29), reused 0 (delta 0), pack-reused 0 (from 0)\u001b[K\n",
            "Receiving objects: 100% (59/59), 45.44 KiB | 2.67 MiB/s, done.\n",
            "Resolving deltas: 100% (29/29), done.\n"
          ]
        }
      ],
      "source": [
        "import pandas as pd\n",
        "import plotly.graph_objects as go\n",
        "from plotly.subplots import make_subplots\n",
        "from ipywidgets import HBox, VBox\n",
        "from IPython.display import Javascript\n",
        "\n",
        "from google.colab import output\n",
        "output.enable_custom_widget_manager()\n",
        "\n",
        "!git clone https://github.com/AWolstrup/ElemechSensors.git"
      ]
    },
    {
      "cell_type": "code",
      "source": [
        "df_force = pd.read_csv('ElemechSensors/ForceData_mat_2.csv', sep=',')\n",
        "df_pressure = pd.read_csv('ElemechSensors/PressureData_mat_2.csv', sep=',')\n",
        "df_strain = pd.read_csv('ElemechSensors/StrainData_mat_2.csv', sep=',')\n",
        "\n",
        "marker_shape_map_printing_process = {\n",
        "    \"FDM-a\": \"square-open\",  # Changed to open\n",
        "    \"FDM-b\": \"square\",      # Changed to closed\n",
        "    \"DIW-a\": \"triangle-up-open\",  # Changed to open\n",
        "    \"DIW-b\": \"triangle-up\",      # Changed to closed\n",
        "    \"FDM/DIW-a\": \"circle-open\",  # Changed to open\n",
        "    \"FDM/DIW-b\": \"circle\",      # Changed to closed\n",
        "    \"AJP-a\": \"triangle-down-open\",  # Changed to open\n",
        "    \"AJP-b\": \"triangle-down\",      # Changed to closed\n",
        "    \"SLA-a\": \"diamond-open\",  # Changed to open\n",
        "    \"SLA-b\": \"diamond\",      # Changed to closed\n",
        "    \"DLP-a\": \"pentagon-open\",  # Changed to open\n",
        "    \"DLP-b\": \"pentagon\",      # Changed to closed\n",
        "    \"SLS-a\": \"hexagon-open\",  # Changed to open\n",
        "    \"SLS-b\": \"hexagon\",      # Changed to closed\n",
        "    # Add more if needed\n",
        "}\n",
        "\n",
        "marker_shape_map_sensing_basis = {\n",
        "    \"Material-a\": \"square\",\n",
        "    \"Material-b\": \"square-open\",\n",
        "    \"Auxetic-a\": \"triangle-up\",\n",
        "    \"Auxetic-b\": \"triangle-up-open\",\n",
        "    \"Surface-a\": \"circle\",\n",
        "    \"Surface-b\": \"circle-open\",\n",
        "    \"Porous-a\": \"triangle-down\",\n",
        "    \"Porous-b\": \"triangle-down-open\",\n",
        "    \"Microcracks-a\": \"diamond\",\n",
        "    \"Microcracks-b\": \"diamond-open\",\n",
        "    \"Displacement-a\": \"pentagon\",\n",
        "    \"Displacement-b\": \"pentagon-open\",\n",
        "    \"Alignment-a\": \"hexagon\",\n",
        "    \"Alignment-b\": \"hexagon-open\",\n",
        "    \"Other-a\": \"cross\",  # Changed to 'cross'\n",
        "    \"Other-b\": \"cross-open\",  # Changed to 'cross-open\n",
        "    # Add more if needed\n",
        "}\n",
        "\n",
        "color_map = {\n",
        "    1: \"#648fff\",  # Carbon\n",
        "    2: \"#785ef0\",  # Metal\n",
        "    3: \"#dc267f\",  # Liquid\n",
        "    4: \"#fe6100\",  # Wire\n",
        "    5: \"#ffb000\",  # Other\n",
        "}\n",
        "\n",
        "sensor_map_names = {\n",
        "        1: \"Piezoresistive\",\n",
        "        2: \"Capacitive\",\n",
        "        3: \"Inductive\",\n",
        "        4: \"Frequency\",\n",
        "        5: \"Transistor\"\n",
        "    }\n",
        "\n",
        "material_map_names = {\n",
        "        1: \"Carbon\",\n",
        "        2: \"Metal\",\n",
        "        3: \"Liquid\",\n",
        "        4: \"Wire\",\n",
        "        5: \"Other\"\n",
        "    }\n",
        "\n",
        "def get_color_from_map(value, color_dict):\n",
        "    return color_dict.get(value, \"#cccccc\")\n",
        "\n",
        "def get_plotting_data(df):\n",
        "    x_data = df.iloc[:, 8] - df.iloc[:, 7]\n",
        "    y_data = df.iloc[:, 10]\n",
        "    ele_data = df.iloc[:, 2] #Numeric electrical principle\n",
        "    mat_data = df.iloc[:, 13] #Numeric mat principle\n",
        "    print_data = df.iloc[:, 15] #Concat printing string\n",
        "    sens_data = df.iloc[:, 16] #Concat\n",
        "    doi = df.iloc[:, 17] #DOI\n",
        "\n",
        "    return [x_data, y_data, ele_data, mat_data, print_data, sens_data, doi]\n",
        "\n",
        "\n",
        "def get_fig(data_list,xlabel,ylabel):\n",
        "    printing_processes = data_list[4].unique()\n",
        "    electrical_principles = data_list[2].unique()\n",
        "\n",
        "    sensing_basis = data_list[5].unique()\n",
        "    materials = data_list[3].unique()\n",
        "\n",
        "    fig_left = go.Figure()\n",
        "    fig_right = go.Figure()\n",
        "\n",
        "    # Create separate traces for each printing process and electrical principle\n",
        "    traces_left = []\n",
        "    for process in printing_processes:\n",
        "        for principle in electrical_principles:\n",
        "            filtered_data = data_list[0][(data_list[4] == process) & (data_list[2] == principle)], data_list[1][(data_list[4] == process) & (data_list[2] == principle)], data_list[6][(data_list[4] == process) & (data_list[2] == principle)]\n",
        "            if len(filtered_data[0]) > 0:  # Check if there's data for this combination\n",
        "                if process[-1] == 'a':\n",
        "                  submark_string = ' (post processing)'\n",
        "                else:\n",
        "                  submark_string = ''\n",
        "                trace = go.Scatter(\n",
        "                    x=filtered_data[0],\n",
        "                    y=filtered_data[1],\n",
        "                    mode='markers',\n",
        "                    marker=dict(\n",
        "                        size=10,\n",
        "                        symbol=marker_shape_map_printing_process.get(process, 'circle'),\n",
        "                        color=get_color_from_map(principle, color_map),\n",
        "                        line=dict(width=2, color='black')\n",
        "                    ),\n",
        "                    name=f'{process[0:-2]}',  # Only show process in legend (remove -a/b)\n",
        "                    legendgroup=f'{sensor_map_names[principle]}',  # Group by principle\n",
        "                    legendgrouptitle=dict(text=f'{sensor_map_names[principle]}'),\n",
        "                    visible=True,\n",
        "                    hovertemplate = \"DOI: %{text}\" + \"<br>Printing process: \" + str(process[0:-2]) + \"</br>Electrical principle: \" + str(sensor_map_names[principle]) + submark_string + \"<extra></extra>\",\n",
        "                    text =  [str(j) for j in filtered_data[2]],\n",
        "                )\n",
        "                traces_left.append(trace)\n",
        "                fig_left.add_trace(trace)\n",
        "\n",
        "    traces_right = []\n",
        "    for basis in sensing_basis:\n",
        "        for mat in materials:\n",
        "            filtered_data = data_list[0][(data_list[5] == basis) & (data_list[3] == mat)], data_list[1][(data_list[5] == basis) & (data_list[3] == mat)],data_list[6][(data_list[5] == basis) & (data_list[3] == mat)]\n",
        "            if basis[-1]=='a':\n",
        "              submark_string = ''\n",
        "            else:\n",
        "              submark_string = ' (Custom)'\n",
        "            if len(filtered_data[0]) > 0:  # Check if there's data for this combination\n",
        "                trace = go.Scatter(\n",
        "                    x=filtered_data[0],\n",
        "                    y=filtered_data[1],\n",
        "                    mode='markers',\n",
        "                    marker=dict(\n",
        "                        size=10,\n",
        "                        symbol=marker_shape_map_sensing_basis.get(basis, 'circle'),\n",
        "                        color=get_color_from_map(mat, color_map),\n",
        "                        line=dict(width=2, color='black')\n",
        "                    ),\n",
        "                    name=f'{basis[0:-2]}',  # Only show basis in legend (remove -a/b)\n",
        "                    legendgroup=f'{material_map_names[mat]}',  # Group by material\n",
        "                    legendgrouptitle=dict(text=f'{material_map_names[mat]}'),\n",
        "                    visible=True,\n",
        "                    hovertemplate = \"DOI: %{text}\" + \"<br>Sensing basis: \" + str(basis[0:-2]) + \"</br>Material: \" + str(material_map_names[mat]) + submark_string + \"<extra></extra>\",\n",
        "                    text =  [str(j) for j in filtered_data[2]],\n",
        "                )\n",
        "                traces_right.append(trace)\n",
        "                fig_right.add_trace(trace)\n",
        "\n",
        "    # Update layout for legend columns\n",
        "    fig_left.update_layout(\n",
        "        legend=dict(\n",
        "            orientation=\"h\",\n",
        "            tracegroupgap=150,  # Adjust spacing as needed\n",
        "            entrywidth=0.23,       # Adjust width as needed\n",
        "            entrywidthmode=\"fraction\" ,\n",
        "            y=-0.12, yanchor=\"top\",\n",
        "        ),\n",
        "        legend_groupclick=\"toggleitem\",\n",
        "    )\n",
        "\n",
        "    fig_right.update_layout(\n",
        "        legend=dict(\n",
        "            orientation=\"h\",\n",
        "            tracegroupgap=150,  # Adjust spacing as needed\n",
        "            entrywidth=0.23,       # Adjust width as needed\n",
        "            entrywidthmode=\"fraction\" ,\n",
        "            y=-0.12, yanchor=\"top\",\n",
        "        ),\n",
        "        legend_groupclick=\"toggleitem\",\n",
        "    )\n",
        "\n",
        "\n",
        "    # Log scale axes\n",
        "    fig_left.update_xaxes(title_text=xlabel,type='log')\n",
        "    fig_left.update_yaxes(title_text=ylabel,type='log')\n",
        "    fig_right.update_xaxes(title_text=xlabel,type='log')\n",
        "    fig_right.update_yaxes(title_text=ylabel,type='log')\n",
        "\n",
        "    fig_left.update_layout(\n",
        "        width = 700,\n",
        "        height = 700,\n",
        "        title = \"Printing process, Electrical principle and Direct printing\",\n",
        "    )\n",
        "    fig_right.update_layout(\n",
        "        width = 700,\n",
        "        height = 700,\n",
        "        title = \"Conductive Material, Sensing Basis and Custom material\",\n",
        "    )\n",
        "    fig_left.update_layout(margin_autoexpand=False,margin_b=250)\n",
        "    fig_right.update_layout(margin_autoexpand=False,margin_b=250)\n",
        "\n",
        "    f_left = go.FigureWidget(fig_left)\n",
        "    f_right = go.FigureWidget(fig_right)\n",
        "\n",
        "    fig_output=  HBox([f_left, f_right])\n",
        "    return fig_output\n"
      ],
      "metadata": {
        "id": "hFkXjP1rmAWC"
      },
      "execution_count": 80,
      "outputs": []
    },
    {
      "cell_type": "code",
      "source": [
        "force = get_plotting_data(df_force)\n",
        "fig_force = get_fig(force,\"Force [N]\",\"Sensitivity [N<sup>-1</sup>]\")\n",
        "fig_force"
      ],
      "metadata": {
        "id": "PoSchv6Zc1xE"
      },
      "execution_count": 38,
      "outputs": []
    },
    {
      "cell_type": "code",
      "source": [
        "pressure = get_plotting_data(df_pressure)\n",
        "fig_pressure = get_fig(pressure,\"Pressure [kPa]\",\"Sensitivity [kPa<sup>-1</sup>]\")\n",
        "fig_pressure"
      ],
      "metadata": {
        "id": "f6mJAuH5c5Tj",
        "outputId": "78407004-7ec2-48b3-db35-11acf3d64b17",
        "colab": {
          "base_uri": "https://localhost:8080/",
          "height": 717,
          "referenced_widgets": [
            "95592338d943472ab436c4822220a249",
            "cc1da23049ac4c328a42e578011b7746",
            "6048cca0526f47c6b03f192f5a5acf47",
            "b5293d77536242d8b2da1d4a1fe1a6bf"
          ]
        }
      },
      "execution_count": 81,
      "outputs": [
        {
          "output_type": "display_data",
          "data": {
            "text/plain": [
              "HBox(children=(FigureWidget({\n",
              "    'data': [{'hovertemplate': ('DOI: %{text}<br>Printing proce' ... ' Piezoresi…"
            ],
            "application/vnd.jupyter.widget-view+json": {
              "version_major": 2,
              "version_minor": 0,
              "model_id": "95592338d943472ab436c4822220a249"
            }
          },
          "metadata": {
            "application/vnd.jupyter.widget-view+json": {
              "colab": {
                "custom_widget_manager": {
                  "url": "https://ssl.gstatic.com/colaboratory-static/widgets/colab-cdn-widget-manager/2b70e893a8ba7c0f/manager.min.js"
                }
              }
            }
          }
        }
      ]
    },
    {
      "cell_type": "code",
      "source": [
        "strain = get_plotting_data(df_strain)\n",
        "fig_strain = get_fig(strain,\"Strain\",\"Gauge factor\")\n",
        "fig_strain"
      ],
      "metadata": {
        "id": "0qNNNc3OeH4J"
      },
      "execution_count": null,
      "outputs": []
    }
  ]
}